{
 "cells": [
  {
   "cell_type": "code",
   "execution_count": 1,
   "metadata": {},
   "outputs": [],
   "source": [
    "import numpy as np\n",
    "import pandas as pd\n",
    "import os\n",
    "from inda_mir.loaders import load_model, load_data_partition\n",
    "from settings import settings\n",
    "from tqdm import tqdm"
   ]
  },
  {
   "cell_type": "code",
   "execution_count": 2,
   "metadata": {},
   "outputs": [],
   "source": [
    "misd_path = '/mnt/y/CODES/track_classifier/misd'"
   ]
  },
  {
   "cell_type": "code",
   "execution_count": 3,
   "metadata": {},
   "outputs": [],
   "source": [
    "train_metadata = pd.read_csv(os.path.join(misd_path, 'Metadata_Train.csv'))\n",
    "test_metadata = pd.read_csv(os.path.join(misd_path, 'Metadata_Test.csv'))\n",
    "train_path = os.path.join(misd_path, 'Train_submission/Train_submission')\n",
    "test_path = os.path.join(misd_path, 'Test_submission/Test_submission')"
   ]
  },
  {
   "cell_type": "code",
   "execution_count": 4,
   "metadata": {},
   "outputs": [
    {
     "data": {
      "text/plain": [
       "Class\n",
       "Sound_Guitar    700\n",
       "Sound_Drum      700\n",
       "Sound_Violin    700\n",
       "Sound_Piano     529\n",
       "Name: count, dtype: int64"
      ]
     },
     "execution_count": 4,
     "metadata": {},
     "output_type": "execute_result"
    }
   ],
   "source": [
    "train_metadata['Class'].value_counts()"
   ]
  },
  {
   "cell_type": "code",
   "execution_count": 5,
   "metadata": {},
   "outputs": [],
   "source": [
    "import os\n",
    "\n",
    "def rename_files_to_lowercase(directory):\n",
    "    for filename in os.listdir(directory):\n",
    "        if os.path.isfile(os.path.join(directory, filename)):\n",
    "            # Get the lowercase version of the filename\n",
    "            lowercase_filename = filename.lower()\n",
    "            \n",
    "            # Get the path to the lowercase filename\n",
    "            lowercase_filepath = os.path.join(directory, lowercase_filename)\n",
    "            \n",
    "            # Rename the file to the lowercase version\n",
    "            os.rename(os.path.join(directory, filename), lowercase_filepath)\n",
    "\n",
    "\n",
    "# rename_files_to_lowercase(train_path)\n",
    "# rename_files_to_lowercase(test_path)\n",
    "# train_metadata['FileName'] = train_metadata['FileName'].apply(lambda x: x.lower())\n",
    "# test_metadata['FileName'] = test_metadata['FileName'].apply(lambda x: x.lower())"
   ]
  },
  {
   "cell_type": "code",
   "execution_count": 6,
   "metadata": {},
   "outputs": [],
   "source": [
    "train_metadata['FileName'] = train_metadata['FileName'].apply(lambda x: x.replace(\" \", \"\"))\n",
    "train_metadata['FileName'] = train_metadata['FileName'].apply(lambda x: x.replace(\"-\", \"_\"))"
   ]
  },
  {
   "cell_type": "code",
   "execution_count": 7,
   "metadata": {},
   "outputs": [],
   "source": [
    "train_metadata['path'] = train_metadata['FileName'].apply(lambda x: os.path.join(train_path, x))\n",
    "test_metadata['path'] = test_metadata['FileName'].apply(lambda x: os.path.join(test_path, x))\n",
    "train_metadata['prediction'] = 0\n",
    "test_metadata['prediction'] = 0"
   ]
  },
  {
   "cell_type": "code",
   "execution_count": 8,
   "metadata": {},
   "outputs": [
    {
     "data": {
      "text/html": [
       "<div>\n",
       "<style scoped>\n",
       "    .dataframe tbody tr th:only-of-type {\n",
       "        vertical-align: middle;\n",
       "    }\n",
       "\n",
       "    .dataframe tbody tr th {\n",
       "        vertical-align: top;\n",
       "    }\n",
       "\n",
       "    .dataframe thead th {\n",
       "        text-align: right;\n",
       "    }\n",
       "</style>\n",
       "<table border=\"1\" class=\"dataframe\">\n",
       "  <thead>\n",
       "    <tr style=\"text-align: right;\">\n",
       "      <th></th>\n",
       "      <th>FileName</th>\n",
       "      <th>Class</th>\n",
       "      <th>path</th>\n",
       "      <th>prediction</th>\n",
       "    </tr>\n",
       "  </thead>\n",
       "  <tbody>\n",
       "    <tr>\n",
       "      <th>0</th>\n",
       "      <td>1_E1_Major00.wav</td>\n",
       "      <td>Sound_Guitar</td>\n",
       "      <td>/mnt/y/CODES/track_classifier/misd/Train_submi...</td>\n",
       "      <td>0</td>\n",
       "    </tr>\n",
       "    <tr>\n",
       "      <th>1</th>\n",
       "      <td>1_E1_Major01.wav</td>\n",
       "      <td>Sound_Guitar</td>\n",
       "      <td>/mnt/y/CODES/track_classifier/misd/Train_submi...</td>\n",
       "      <td>0</td>\n",
       "    </tr>\n",
       "    <tr>\n",
       "      <th>2</th>\n",
       "      <td>1_E1_Major02.wav</td>\n",
       "      <td>Sound_Guitar</td>\n",
       "      <td>/mnt/y/CODES/track_classifier/misd/Train_submi...</td>\n",
       "      <td>0</td>\n",
       "    </tr>\n",
       "    <tr>\n",
       "      <th>3</th>\n",
       "      <td>1_E1_Major03.wav</td>\n",
       "      <td>Sound_Guitar</td>\n",
       "      <td>/mnt/y/CODES/track_classifier/misd/Train_submi...</td>\n",
       "      <td>0</td>\n",
       "    </tr>\n",
       "    <tr>\n",
       "      <th>4</th>\n",
       "      <td>1_E1_Major04.wav</td>\n",
       "      <td>Sound_Guitar</td>\n",
       "      <td>/mnt/y/CODES/track_classifier/misd/Train_submi...</td>\n",
       "      <td>0</td>\n",
       "    </tr>\n",
       "  </tbody>\n",
       "</table>\n",
       "</div>"
      ],
      "text/plain": [
       "           FileName         Class  \\\n",
       "0  1_E1_Major00.wav  Sound_Guitar   \n",
       "1  1_E1_Major01.wav  Sound_Guitar   \n",
       "2  1_E1_Major02.wav  Sound_Guitar   \n",
       "3  1_E1_Major03.wav  Sound_Guitar   \n",
       "4  1_E1_Major04.wav  Sound_Guitar   \n",
       "\n",
       "                                                path  prediction  \n",
       "0  /mnt/y/CODES/track_classifier/misd/Train_submi...           0  \n",
       "1  /mnt/y/CODES/track_classifier/misd/Train_submi...           0  \n",
       "2  /mnt/y/CODES/track_classifier/misd/Train_submi...           0  \n",
       "3  /mnt/y/CODES/track_classifier/misd/Train_submi...           0  \n",
       "4  /mnt/y/CODES/track_classifier/misd/Train_submi...           0  "
      ]
     },
     "execution_count": 8,
     "metadata": {},
     "output_type": "execute_result"
    }
   ],
   "source": [
    "train_metadata.head()"
   ]
  },
  {
   "cell_type": "code",
   "execution_count": 9,
   "metadata": {},
   "outputs": [
    {
     "data": {
      "text/plain": [
       "'/mnt/y/CODES/track_classifier/misd/Train_submission/Train_submission/1_E1_Major00.wav'"
      ]
     },
     "execution_count": 9,
     "metadata": {},
     "output_type": "execute_result"
    }
   ],
   "source": [
    "train_metadata['path'].iloc[0]"
   ]
  },
  {
   "cell_type": "code",
   "execution_count": 10,
   "metadata": {},
   "outputs": [
    {
     "data": {
      "text/plain": [
       "<inda_mir.modeling.models.lgbm.LightGBMClassifier at 0x7f842f019790>"
      ]
     },
     "execution_count": 10,
     "metadata": {},
     "output_type": "execute_result"
    }
   ],
   "source": [
    "model = load_model(os.path.join(settings.MODEL_OUTPUT_PATH, settings.MODEL_NAME))\n",
    "model"
   ]
  },
  {
   "cell_type": "code",
   "execution_count": 11,
   "metadata": {},
   "outputs": [
    {
     "data": {
      "text/plain": [
       "253"
      ]
     },
     "execution_count": 11,
     "metadata": {},
     "output_type": "execute_result"
    }
   ],
   "source": [
    "model.get_n_features()"
   ]
  },
  {
   "cell_type": "code",
   "execution_count": 12,
   "metadata": {},
   "outputs": [],
   "source": [
    "# from inda_mir.modeling.models.lgbm import LightGBMClassifier\n",
    "\n",
    "# features = '/mnt/y/CODES/track_classifier/output/features/inda_mir_features_without_brass_v2.csv'\n",
    "# model = LightGBMClassifier()\n",
    "\n",
    "# model.fit(features)"
   ]
  },
  {
   "cell_type": "code",
   "execution_count": 13,
   "metadata": {},
   "outputs": [
    {
     "name": "stderr",
     "output_type": "stream",
     "text": [
      "[   INFO   ] MusicExtractorSVM: no classifier models were configured by default\n"
     ]
    },
    {
     "name": "stdout",
     "output_type": "stream",
     "text": [
      "['029500_morning-rain-piano-65875.wav', '035568_upright-piano-71570.wav', '04-47367.wav', '046578_tribal-drum-rhythms-03wav-68096.wav', '054399_8039s-old-school-rap-drum-loop-80433.wav', '056514_drum-40118.wav', '059960_sonido2-sincopa-alta-7mp3-47316.wav', '060311_rubbing-drum-sticksaif-82905.wav', '065339_metal-bass-drum-90850.wav', '066166_qui-c39est-qu39est-tombe-loop-t85wav-39366.wav', '068320_hang-drum-2wav-80568.wav', '0_emil-telmanyi_bwv1001.wav', '0_emil-telmanyi_bwv1002.wav', '0_emil-telmanyi_bwv1003.wav', '0_emil-telmanyi_bwv1004.wav', '0_emil-telmanyi_bwv1005.wav', '0_emil-telmanyi_bwv1006.wav', '0_john-garner_bwv1002_mov1.wav', '0_john-garner_bwv1002_mov2.wav', '0_john-garner_bwv1002_mov3.wav', '0_john-garner_bwv1002_mov4.wav', '0_john-garner_bwv1002_mov5.wav', '0_john-garner_bwv1002_mov6.wav', '0_john-garner_bwv1002_mov7.wav', '0_john-garner_bwv1002_mov8.wav', '0_kinga-augustyn_bwv1005_mov2.wav', '0_ko-donghwi_bwv1001.wav', '0_minji-kim_bwv1003_mov1.wav', '0_minji-kim_bwv1003_mov2.wav', '0_minji-kim_bwv1003_mov3.wav', '0_minji-kim_bwv1003_mov4.wav', '0_oliver-colbentson_bwv1006_mov1.wav', '0_oliver-colbentson_bwv1006_mov3.wav', '0_oliver-colbentson_bwv1006_mov4.wav', '0_oliver-colbentson_bwv1006_mov5.wav', '0_oliver-colbentson_bwv1006_mov6.wav', '0_oliver-colbentson_bwv1006_mov7.wav', '0_ray-chen_bwv1004_mov5.wav', '0_silei-li_bwv1003.wav', '1-e1-major_00.wav', '1-e1-major_01.wav', '1-e1-major_02.wav', '1-e1-major_03.wav', '1-e1-major_04.wav', '1-e1-major_05.wav', '1-e1-major_06.wav', '1-e1-major_07.wav', '1-e1-major_08.wav', '1-e1-major_09.wav', '1-e1-major_10.wav', '102-bpm-boom-groove-82498.wav', '109-bpm-70s-style-drum-loop-76138.wav', '10_drumloop_minimal-32725.wav', '10_emil-telmanyi_bwv1001.wav', '10_emil-telmanyi_bwv1002.wav', '10_emil-telmanyi_bwv1003.wav', '10_emil-telmanyi_bwv1005.wav', '10_emil-telmanyi_bwv1006.wav', '10_karen-gomyo_bwv1006.wav', '10_ko-donghwi_bwv1001.wav', '10_ray-chen_bwv1004_mov5.wav', '10_silei-li_bwv1003.wav', '11_emil-telmanyi_bwv1001.wav', '11_emil-telmanyi_bwv1002.wav', '11_emil-telmanyi_bwv1003.wav', '11_emil-telmanyi_bwv1005.wav', '11_emil-telmanyi_bwv1006.wav', '11_karen-gomyo_bwv1006.wav', '11_ko-donghwi_bwv1001.wav', '11_ray-chen_bwv1004_mov5.wav', '11_silei-li_bwv1003.wav', '120bpm_kick-build-up-98848.wav', '12_emil-telmanyi_bwv1001.wav', '12_emil-telmanyi_bwv1002.wav', '12_emil-telmanyi_bwv1003.wav', '12_emil-telmanyi_bwv1005.wav', '12_emil-telmanyi_bwv1006.wav', '12_karen-gomyo_bwv1006.wav', '12_ko-donghwi_bwv1001.wav', '12_ray-chen_bwv1004_mov5.wav', '12_silei-li_bwv1003.wav', '13_emil-telmanyi_bwv1001.wav', '13_emil-telmanyi_bwv1002.wav', '13_emil-telmanyi_bwv1003.wav', '13_emil-telmanyi_bwv1005.wav', '13_emil-telmanyi_bwv1006.wav', '13_karen-gomyo_bwv1006.wav', '13_ko-donghwi_bwv1001.wav', '13_ray-chen_bwv1004_mov5.wav', '140-bpm-amen-break-original-processed-6945.wav', '140-bpm-amen-break-original-processed-6945_(1).wav', '14_emil-telmanyi_bwv1001.wav', '14_emil-telmanyi_bwv1002.wav', '14_emil-telmanyi_bwv1003.wav', '14_emil-telmanyi_bwv1005.wav', '14_emil-telmanyi_bwv1006.wav', '14_karen-gomyo_bwv1006.wav', '14_ko-donghwi_bwv1001.wav', '14_ray-chen_bwv1004_mov5.wav', '15_emil-telmanyi_bwv1001.wav', '15_emil-telmanyi_bwv1002.wav', '15_emil-telmanyi_bwv1003.wav', '15_emil-telmanyi_bwv1005.wav', '15_emil-telmanyi_bwv1006.wav', '15_karen-gomyo_bwv1006.wav', '15_ko-donghwi_bwv1001.wav', '16_emil-telmanyi_bwv1001.wav', '16_emil-telmanyi_bwv1002.wav', '16_emil-telmanyi_bwv1003.wav', '16_emil-telmanyi_bwv1005.wav', '16_emil-telmanyi_bwv1006.wav', '16_karen-gomyo_bwv1006.wav', '16_ko-donghwi_bwv1001.wav', '170-beat-box-hpf-loop-103412.wav', '174-txls4-106297.wav', '17_emil-telmanyi_bwv1001.wav', '17_emil-telmanyi_bwv1002.wav', '17_emil-telmanyi_bwv1003.wav', '17_emil-telmanyi_bwv1005.wav', '17_emil-telmanyi_bwv1006.wav', '17_karen-gomyo_bwv1006.wav', '17_ko-donghwi_bwv1001.wav', '18_emil-telmanyi_bwv1001.wav', '18_emil-telmanyi_bwv1002.wav', '18_emil-telmanyi_bwv1003.wav', '18_emil-telmanyi_bwv1005.wav', '18_emil-telmanyi_bwv1006.wav', '18_karen-gomyo_bwv1006.wav', '19_emil-telmanyi_bwv1003.wav', '19_emil-telmanyi_bwv1005.wav', '19_emil-telmanyi_bwv1006.wav', '19_karen-gomyo_bwv1006.wav', '1_emil-telmanyi_bwv1001.wav', '1_emil-telmanyi_bwv1002.wav', '1_emil-telmanyi_bwv1003.wav', '1_emil-telmanyi_bwv1004.wav', '1_emil-telmanyi_bwv1005.wav', '1_emil-telmanyi_bwv1006.wav', '1_john-garner_bwv1002_mov1.wav', '1_john-garner_bwv1002_mov2.wav', '1_john-garner_bwv1002_mov3.wav', '1_john-garner_bwv1002_mov4.wav', '1_john-garner_bwv1002_mov5.wav', '1_john-garner_bwv1002_mov6.wav', '1_john-garner_bwv1002_mov7.wav', '1_john-garner_bwv1002_mov8.wav', '1_kinga-augustyn_bwv1005_mov2.wav', '1_ko-donghwi_bwv1001.wav', '1_minji-kim_bwv1003_mov1.wav', '1_minji-kim_bwv1003_mov2.wav', '1_minji-kim_bwv1003_mov3.wav', '1_minji-kim_bwv1003_mov4.wav', '1_oliver-colbentson_bwv1006_mov1.wav', '1_oliver-colbentson_bwv1006_mov3.wav', '1_oliver-colbentson_bwv1006_mov4.wav', '1_oliver-colbentson_bwv1006_mov5.wav', '1_oliver-colbentson_bwv1006_mov6.wav', '1_oliver-colbentson_bwv1006_mov7.wav', '1_ray-chen_bwv1004_mov5.wav', '1_silei-li_bwv1003.wav', '2-e1-minor_00.wav', '2-e1-minor_01.wav', '2-e1-minor_02.wav', '2-e1-minor_03.wav', '2-e1-minor_04.wav', '2-e1-minor_05.wav', '2-e1-minor_06.wav', '2-e1-minor_07.wav', '2-e1-minor_08.wav', '2018-11-15-22563.wav', '20_emil-telmanyi_bwv1005.wav', '21_emil-telmanyi_bwv1005.wav', '22_emil-telmanyi_bwv1005.wav', '2_emil-telmanyi_bwv1001.wav', '2_emil-telmanyi_bwv1002.wav', '2_emil-telmanyi_bwv1003.wav', '2_emil-telmanyi_bwv1004.wav', '2_emil-telmanyi_bwv1005.wav', '2_emil-telmanyi_bwv1006.wav', '2_john-garner_bwv1002_mov1.wav', '2_john-garner_bwv1002_mov2.wav', '2_john-garner_bwv1002_mov3.wav', '2_john-garner_bwv1002_mov4.wav', '2_john-garner_bwv1002_mov5.wav', '2_john-garner_bwv1002_mov7.wav', '2_john-garner_bwv1002_mov8.wav', '2_kinga-augustyn_bwv1005_mov2.wav', '2_ko-donghwi_bwv1001.wav', '2_minji-kim_bwv1003_mov1.wav', '2_minji-kim_bwv1003_mov2.wav', '2_minji-kim_bwv1003_mov3.wav', '2_minji-kim_bwv1003_mov4.wav', '2_oliver-colbentson_bwv1006_mov1.wav', '2_oliver-colbentson_bwv1006_mov3.wav', '2_oliver-colbentson_bwv1006_mov7.wav', '2_ray-chen_bwv1004_mov5.wav', '2_silei-li_bwv1003.wav', '808-boom-in-c-46330.wav', '808-d3-38858.wav', '80s-drums-fl-studio-70248.wav', '8bit-sample-69080.wav', '8_emil-telmanyi_bwv1001.wav', '8_emil-telmanyi_bwv1002.wav', '8_emil-telmanyi_bwv1003.wav', '8_emil-telmanyi_bwv1004.wav', '8_emil-telmanyi_bwv1005.wav', '8_emil-telmanyi_bwv1006.wav', '8_kinga-augustyn_bwv1005_mov2.wav', '8_ko-donghwi_bwv1001.wav', '8_ray-chen_bwv1004_mov5.wav', '8_silei-li_bwv1003.wav', '9_emil-telmanyi_bwv1001.wav', '9_emil-telmanyi_bwv1002.wav', '9_emil-telmanyi_bwv1003.wav', '9_emil-telmanyi_bwv1005.wav', '9_emil-telmanyi_bwv1006.wav', '9_kinga-augustyn_bwv1005_mov2.wav', '9_ko-donghwi_bwv1001.wav', '9_ray-chen_bwv1004_mov5.wav', '9_silei-li_bwv1003.wav', 'action-drums-78-low-67673.wav', 'african-98600.wav', 'agressive-straight-drums-105-bpm-99895.wav', 'alien-beeper-103420.wav', 'another-sadmosphere-108461.wav', 'arpeggio-01-36024.wav', 'ar_a_fret_0-20.wav', 'ar_a_muted5.wav', 'ar_b_fret_0-20.wav', 'ar_b_muted5.wav', 'ar_dn_iii_viii_xiv.wav', 'ar_d_fret_0-20.wav', 'ar_d_muted5.wav', 'ar_e1_fret_0-20.wav', 'ar_e1_muted5.wav', 'ar_e_fret_0-20.wav', 'ar_e_muted5.wav', 'ar_g_fret_0-20.wav', 'ar_g_muted5.wav', 'ar_g_v_bending.wav', 'ar_g_v_slide.wav', 'ar_lick10_fn.wav', 'ar_lick10_kn.wav', 'ar_lick10_mn.wav', 'ar_lick11_fn.wav', 'ar_lick11_kn.wav', 'ar_lick11_mn.wav', 'ar_lick12_fn.wav', 'ar_lick12_kn.wav', 'ar_lick12_mn.wav', 'ar_lick1_fn.wav', 'ar_lick1_fn_lage.wav', 'ar_lick1_fvsdn.wav', 'ar_lick1_kn.wav', 'ar_lick1_kvsdn.wav', 'ar_lick1_mn.wav', 'ar_lick1_mvsdn.wav', 'ar_lick2_fn.wav', 'ar_lick2_fvsh.wav', 'ar_lick2_kn.wav', 'ar_lick2_kn_lage.wav', 'ar_lick2_kvsh.wav', 'ar_lick2_mn.wav', 'ar_lick2_mvsh.wav', 'ar_lick3_fn.wav', 'ar_lick3_fsbdn.wav', 'ar_lick3_kn.wav', 'ar_lick3_ksbdn.wav', 'ar_lick3_mn.wav', 'ar_lick3_mn_lage.wav', 'ar_lick3_msbdn.wav', 'ar_lick4_fbsh.wav', 'ar_lick4_fn.wav', 'ar_lick4_fn_lage2.wav', 'ar_lick4_kbsh.wav', 'ar_lick4_kn.wav', 'ar_lick4_mbsh.wav', 'ar_lick4_mn.wav', 'ar_lick5_fbvdn.wav', 'ar_lick5_fn.wav', 'ar_lick5_kbvdn.wav', 'ar_lick5_kn.wav', 'ar_lick5_kn_lage2.wav', 'ar_lick5_mbvdn.wav', 'ar_lick5_mn.wav', 'ar_lick6_fhbv.wav', 'ar_lick6_fn.wav', 'ar_lick6_khbv.wav', 'ar_lick6_kn.wav', 'ar_lick6_mhbv.wav', 'ar_lick6_mn.wav', 'ar_lick6_mn_lage2.wav', 'ar_lick7_fn.wav', 'ar_lick7_fn_lage.wav', 'ar_lick7_kn.wav', 'ar_lick7_kn_lage.wav', 'ar_lick7_mn.wav', 'ar_lick7_mn_lage.wav', 'ar_lick8_fn.wav', 'ar_lick8_kn.wav', 'ar_lick8_mn.wav', 'ar_lick9_fn.wav', 'ar_lick9_fn_lage.wav', 'ar_lick9_kn.wav', 'ar_lick9_kn_lage.wav', 'ar_lick9_mn.wav', 'ar_lick9_mn_lage.wav', 'ar_nh_iv.wav', 'ar_nh_ix.wav', 'ar_nh_v.wav', 'ar_nh_vii.wav', 'ar_nh_xii.wav', 'ar_v_vibrato_slow-fast.wav', 'asian-gong-102397.wav', 'atari-st-beat-09-106443.wav', 'ba-dum-bum-all-74740.wav', 'bar-bq-chicken-drumpsticks-129354.wav', 'bass-loops-003-with-drums-long-loop-120-bpm-24371.wav', 'bass-loops-006-with-drums-long-loop-120-bpm-6111.wav', 'battle-preparations-6726.wav', 'beat-of-time-128705.wav', 'beatboxlong-72000.wav', 'beautiful-random-minor-arp-119378.wav', 'big-cinematic-impact-94799.wav', 'boje-3-87816.wav', 'bongo-and-drum-instrumental-music-21295.wav', 'boogie-woogie-logo-116102.wav', 'boss-rhythm-1-37451.wav', 'boss-sp-303-drum-rhythm-200-bpm-8437.wav', 'break-delay-88443.wav', 'brushes-loop-77bpm-by-canis-et-circensis-91191.wav', 'c-aeol-12984.wav', 'catchy-electronic-drum-solo-100-bpm-by-prettysleepy-108532.wav', 'chasing-drums-100-bpm-41050.wav', 'chill-drum-loop-6887.wav', 'cinematic-handpan-100bpm-25170.wav', 'classical_1_60bpm.wav', 'classical_1_80bpm.wav', 'classical_2_50bpm.wav', 'classical_2_60bpm.wav', 'classical_3_50bpm.wav', 'classical_3_60bpm.wav', 'classical_4_60bpm.wav', 'classical_4_80bpm.wav', 'classical_5_100bpm.wav', 'classical_5_70bpm.wav', 'classical_6_100bpm.wav', 'classical_6_75bpm.wav', 'classical_7_50bpm.wav', 'classical_7_60bpm.wav', 'classical_8_100bpm.wav', 'classical_8_120bpm.wav', 'cold-wednesday-73830.wav', 'converted_to_wav_file.wav', 'cool-drum-beat-loop-109650.wav', 'cool-hiphop-beat-43890.wav', 'country_1_110bpm.wav', 'country_1_150bpm.wav', 'country_2_110bpm.wav', 'country_2_150bpm.wav', 'country_3_100bpm.wav', 'country_3_120bpm.wav', 'country_4_100bpm.wav', 'country_4_80bpm.wav', 'country_5_100bpm.wav', 'country_5_80bpm.wav', 'crazy-rhythm-loop-120-bpm-0015-68064.wav', 'crazy-rhythm-loop-120-bpm-002-68061.wav', 'crazy-rhythm-loop-120-bpm-006-68062.wav', 'c_minor_prog-105132.wav', 'dance-vol-1-7082.wav', 'dark-evil-piano-32205.wav', 'dark-piano-tension-6057.wav', 'darkbeat76bpm-87710.wav', 'day-112826.wav', 'deep-drums-42782.wav', 'deep-trap-beat-66414.wav', 'detuned-piano-39311.wav', 'digital-pulse-140-2-122269.wav', 'dirty-rising-tube-32714.wav', 'distorted-kick-1-98539.wav', 'dnb-bass2-106724.wav', 'dnb-bassline-170-bpm-85155.wav', 'do-80236.wav', 'dr-tribal-percussion-triplet-loop-high-passed-106bpm-25935.wav', 'dramatic-piano-10950.wav', 'dramatic-reveal-21469.wav', 'dream-magic-prolonged-94891.wav', 'drum-01-69203.wav', 'drum-beat-02-36276.wav', 'drum-beat-bpm-120-113150.wav', 'drum-beat-loop-3-96537.wav', 'drum-groove-71987.wav', 'drum-intro-1-113201.wav', 'drum-loop-140bpm-73728.wav', 'drum-loop-140bpm-73728_(1).wav', 'drum-loop-43751.wav', 'drum-roll-please-6386.wav', 'drum-solo-150-bpm-by-prettysleepy-art-12975.wav', 'drums-buildup-3-84503.wav', 'drums-dembow-rd-loop-26-13497.wav', 'drums-rap-type-1-oldschool-loop-22-13062.wav', 'drum_sound_(1).wav', 'drum_sound_(10).wav', 'drum_sound_(11).wav', 'drum_sound_(12).wav', 'drum_sound_(13).wav', 'drum_sound_(14).wav', 'drum_sound_(15).wav', 'drum_sound_(16).wav', 'drum_sound_(17).wav', 'drum_sound_(18).wav', 'drum_sound_(19).wav', 'drum_sound_(2).wav', 'drum_sound_(20).wav', 'drum_sound_(21).wav', 'drum_sound_(22).wav', 'drum_sound_(23).wav', 'drum_sound_(24).wav', 'drum_sound_(25).wav', 'drum_sound_(26).wav', 'drum_sound_(27).wav', 'drum_sound_(28).wav', 'drum_sound_(29).wav', 'drum_sound_(3).wav', 'drum_sound_(30).wav', 'drum_sound_(31).wav', 'drum_sound_(32).wav', 'drum_sound_(33).wav', 'drum_sound_(34).wav', 'drum_sound_(35).wav', 'drum_sound_(36).wav', 'drum_sound_(37).wav', 'drum_sound_(38).wav', 'drum_sound_(39).wav', 'drum_sound_(4).wav', 'drum_sound_(40).wav', 'drum_sound_(41).wav', 'drum_sound_(42).wav', 'drum_sound_(43).wav', 'drum_sound_(44).wav', 'drum_sound_(45).wav', 'drum_sound_(46).wav', 'drum_sound_(47).wav', 'drum_sound_(48).wav', 'drum_sound_(49).wav', 'drum_sound_(5).wav', 'drum_sound_(50).wav', 'drum_sound_(51).wav', 'drum_sound_(52).wav', 'drum_sound_(53).wav', 'drum_sound_(54).wav', 'drum_sound_(55).wav', 'drum_sound_(56).wav', 'drum_sound_(57).wav', 'drum_sound_(58).wav', 'drum_sound_(59).wav', 'drum_sound_(6).wav', 'drum_sound_(60).wav', 'drum_sound_(61).wav', 'drum_sound_(62).wav', 'drum_sound_(63).wav', 'drum_sound_(64).wav', 'drum_sound_(65).wav', 'drum_sound_(66).wav', 'drum_sound_(67).wav', 'drum_sound_(68).wav', 'drum_sound_(69).wav', 'drum_sound_(7).wav', 'drum_sound_(70).wav', 'drum_sound_(71).wav', 'drum_sound_(72).wav', 'drum_sound_(73).wav', 'drum_sound_(74).wav', 'drum_sound_(75).wav', 'drum_sound_(8).wav', 'drum_sound_(9).wav', 'dr_ni-timpani_drums-klangraum-wort-6790.wav', 'dr_ni_india_01-klang-raum-wort-29461.wav', 'dumdum-105423.wav', 'dystopian-drum-12331.wav', 'eilegeiya-111391.wav', 'electro-drum-beat-78-bpm-99903.wav', 'electronic-drum-loop-by-prettysleepy-art-12918.wav', 'emotional-piano-001-d-90-66506.wav', 'emotional-piano-005-am-80-97777.wav', 'emotional-sad-piano-for-an-intro-or-a-documentary-suspense-90-bpm-121528.wav', 'epic-extreme-hit-109132.wav', 'epic-logo-6906.wav', 'epic_battle_music_1-6275.wav', 'fillin-fill-timbal-edm-reggae-loop-18-12766.wav', 'flying-over-the-hill-handpan-atmos-19989.wav', 'folk_1_110bpm.wav', 'folk_1_80bpm.wav', 'folk_2_100bpm.wav', 'folk_2_75bpm.wav', 'folk_3_130bpm.wav', 'folk_3_180bpm.wav', 'freedom-in-sight-130bpm-32759.wav', 'friendly-melody-14015.wav', 'fs_a_fret_0-20.wav', 'fs_a_muted5.wav', 'fs_b_fret_0-20.wav', 'fs_b_muted5.wav', 'fs_dn_iii_viii_xiv.wav', 'fs_d_fret_0-20.wav', 'fs_d_muted5.wav', 'fs_e1_fret_0-20.wav', 'fs_e1_muted5.wav', 'fs_e_fret_0-20.wav', 'fs_e_muted5.wav', 'fs_g_fret_0-20.wav', 'fs_g_muted5.wav', 'fs_g_v_bending.wav', 'fs_g_v_slide.wav', 'fs_lick10_fn.wav', 'fs_lick10_kn.wav', 'fs_lick10_mn.wav', 'fs_lick11_fn.wav', 'fs_lick11_kn.wav', 'fs_lick11_mn.wav', 'fs_lick12_fn.wav', 'fs_lick12_kn.wav', 'fs_lick12_mn.wav', 'fs_lick1_fn.wav', 'fs_lick1_fn_lage.wav', 'fs_lick1_fvsdn.wav', 'fs_lick1_kn.wav', 'fs_lick1_kvsdn.wav', 'fs_lick1_mn.wav', 'fs_lick1_mvsdn.wav', 'fs_lick2_fn.wav', 'fs_lick2_fvsh.wav', 'fs_lick2_kn.wav', 'fs_lick2_kn_lage.wav', 'fs_lick2_kvsh.wav', 'fs_lick2_mn.wav', 'fs_lick2_mvsh.wav', 'fs_lick3_fn.wav', 'fs_lick3_fsbdn.wav', 'fs_lick3_kn.wav', 'fs_lick3_ksbdn.wav', 'fs_lick3_mn.wav', 'fs_lick3_mn_lage.wav', 'fs_lick3_msbdn.wav', 'fs_lick4_fbsh.wav', 'fs_lick4_fn.wav', 'fs_lick4_fn_lage2.wav', 'fs_lick4_kbsh.wav', 'fs_lick4_kn.wav', 'fs_lick4_mbsh.wav', 'fs_lick4_mn.wav', 'fs_lick5_fbvdn.wav', 'fs_lick5_fn.wav', 'fs_lick5_kbvdn.wav', 'fs_lick5_kn.wav', 'fs_lick5_kn_lage2.wav', 'fs_lick5_mbvdn.wav', 'fs_lick5_mn.wav', 'fs_lick6_fhbv.wav', 'fs_lick6_fn.wav', 'fs_lick6_khbv.wav', 'fs_lick6_kn.wav', 'fs_lick6_mhbv.wav', 'fs_lick6_mn.wav', 'fs_lick6_mn_lage2.wav', 'fs_lick7_fn.wav', 'fs_lick7_fn_lage.wav', 'fs_lick7_kn.wav', 'fs_lick7_kn_lage.wav', 'fs_lick7_mn.wav', 'fs_lick7_mn_lage.wav', 'fs_lick8_fn.wav', 'fs_lick8_kn.wav', 'fs_lick8_mn.wav', 'fs_lick9_fn.wav', 'fs_lick9_fn_lage.wav', 'fs_lick9_kn.wav', 'fs_lick9_kn_lage.wav', 'fs_lick9_mn.wav', 'fs_lick9_mn_lage.wav', 'fs_nh_iv.wav', 'fs_nh_ix.wav', 'fs_nh_v.wav', 'fs_nh_vii.wav', 'fs_nh_xii.wav', 'fs_v_vibrato_slow-fast.wav', 'funk-bitxl-op-i1-34289.wav', 'funky-drummer-drum-kit-94738.wav', 'funny-light-optimistic-111775.wav', 'g53-40100-1111-00079.wav', 'g53-40100-1111-157.wav', 'g53-40100-1111-235.wav', 'g53-41101-1111-00080.wav', 'g53-41101-1111-158.wav', 'g53-41101-1111-236.wav', 'g53-42102-1111-00081.wav', 'g53-42102-1111-159.wav', 'g53-42102-1111-237.wav', 'g53-43103-1111-00082.wav', 'g53-43103-1111-160.wav', 'g53-43103-1111-238.wav', 'g53-44104-1111-00083.wav', 'g53-44104-1111-161.wav', 'g53-44104-1111-239.wav', 'g53-45105-1111-00084.wav', 'g53-45105-1111-162.wav', 'g53-45105-1111-240.wav', 'g53-45200-1111-00092.wav', 'g53-45200-1111-170.wav', 'g53-45200-1111-248.wav', 'g53-46106-1111-00085.wav', 'g53-46106-1111-163.wav', 'g53-46106-1111-241.wav', 'g53-46201-1111-00093.wav', 'g53-46201-1111-171.wav', 'g53-46201-1111-249.wav', 'g53-47107-1111-00086.wav', 'g53-47107-1111-164.wav', 'g53-47107-1111-242.wav', 'g53-47202-1111-00094.wav', 'g53-47202-1111-172.wav', 'g53-47202-1111-250.wav', 'g53-48108-1111-00087.wav', 'g53-48108-1111-165.wav', 'g53-48108-1111-243.wav', 'g53-48203-1111-00095.wav', 'g53-48203-1111-173.wav', 'g53-48203-1111-251.wav', 'g53-49109-1111-00088.wav', 'g53-49109-1111-166.wav', 'g53-49109-1111-244.wav', 'g53-49204-1111-00096.wav', 'g53-49204-1111-174.wav', 'g53-49204-1111-252.wav', 'g53-50110-1111-00089.wav', 'g53-50110-1111-167.wav', 'g53-50110-1111-245.wav', 'g53-50205-1111-00097.wav', 'g53-50205-1111-175.wav', 'g53-50205-1111-253.wav', 'g53-50300-1111-00105.wav', 'g53-50300-1111-183.wav', 'g53-50300-1111-261.wav', 'g53-51111-1111-00090.wav', 'g53-51111-1111-168.wav', 'g53-51111-1111-246.wav', 'g53-51206-1111-00098.wav', 'g53-51206-1111-176.wav', 'g53-51206-1111-254.wav', 'g53-51301-1111-00106.wav', 'g53-51301-1111-184.wav', 'g53-51301-1111-262.wav', 'g53-52112-1111-00091.wav', 'g53-52112-1111-169.wav', 'g53-52112-1111-247.wav', 'g53-52207-1111-00099.wav', 'g53-52207-1111-177.wav', 'g53-52207-1111-255.wav', 'g53-52302-1111-00107.wav', 'g53-52302-1111-185.wav', 'g53-52302-1111-263.wav', 'g53-53208-1111-00100.wav', 'g53-53208-1111-178.wav', 'g53-53208-1111-256.wav', 'g53-53303-1111-00108.wav', 'g53-53303-1111-186.wav', 'g53-53303-1111-264.wav', 'g53-54209-1111-00101.wav', 'g53-54209-1111-179.wav', 'g53-54209-1111-257.wav', 'g53-54304-1111-00109.wav', 'g53-54304-1111-187.wav', 'g53-54304-1111-265.wav', 'g53-55210-1111-00102.wav', 'g53-55210-1111-180.wav', 'g53-55210-1111-258.wav', 'g53-55305-1111-00110.wav', 'g53-55305-1111-188.wav', 'g53-55305-1111-266.wav', 'g53-55400-1111-00118.wav', 'g53-55400-1111-196.wav', 'g53-55400-1111-274.wav', 'g53-56211-1111-00103.wav', 'g53-56211-1111-181.wav', 'g53-56211-1111-259.wav', 'g53-56306-1111-00111.wav', 'g53-56306-1111-189.wav', 'g53-56306-1111-267.wav', 'g53-56401-1111-00119.wav', 'g53-56401-1111-197.wav', 'g53-56401-1111-275.wav', 'g53-57212-1111-00104.wav', 'g53-57212-1111-182.wav', 'g53-57212-1111-260.wav', 'g53-57307-1111-00112.wav', 'g53-57307-1111-190.wav', 'g53-57307-1111-268.wav', 'g53-57402-1111-00120.wav', 'g53-57402-1111-198.wav', 'g53-57402-1111-276.wav', 'g53-58308-1111-00113.wav', 'g53-58308-1111-191.wav', 'g53-58308-1111-269.wav', 'g53-58403-1111-00121.wav', 'g53-58403-1111-199.wav', 'g53-58403-1111-277.wav', 'g53-59309-1111-00114.wav', 'g53-59309-1111-192.wav', 'g53-59309-1111-270.wav', 'g53-59404-1111-00122.wav', 'g53-59404-1111-200.wav', 'g53-59404-1111-278.wav', 'g53-59500-1111-00131.wav', 'g53-59500-1111-209.wav', 'g53-59500-1111-287.wav', 'g53-60310-1111-00115.wav', 'g53-60310-1111-193.wav', 'g53-60310-1111-271.wav', 'g53-60405-1111-00123.wav', 'g53-60405-1111-201.wav', 'g53-60405-1111-279.wav', 'g53-60501-1111-00132.wav', 'g53-60501-1111-210.wav', 'g53-60501-1111-288.wav', 'g53-61311-1111-00116.wav', 'g53-61311-1111-194.wav', 'g53-61311-1111-272.wav', 'g53-61406-1111-00124.wav', 'g53-61406-1111-202.wav', 'g53-61406-1111-280.wav', 'g53-61502-1111-00133.wav', 'g53-61502-1111-211.wav', 'g53-61502-1111-289.wav', 'g53-62312-1111-00117.wav', 'g53-62312-1111-195.wav', 'g53-62312-1111-273.wav', 'g53-62407-1111-00125.wav', 'g53-62407-1111-203.wav', 'g53-62407-1111-281.wav', 'g53-62503-1111-00134.wav', 'g53-62503-1111-212.wav', 'g53-62503-1111-290.wav', 'g53-63408-1111-00126.wav', 'g53-63408-1111-204.wav', 'g53-63408-1111-282.wav', 'g53-63504-1111-00135.wav', 'g53-63504-1111-213.wav', 'g53-63504-1111-291.wav', 'g53-64409-1111-00127.wav', 'g53-64409-1111-205.wav', 'g53-64409-1111-283.wav', 'g53-64505-1111-00136.wav', 'g53-64505-1111-214.wav', 'g53-64505-1111-292.wav', 'g53-64600-1111-00144.wav', 'g53-64600-1111-222.wav', 'g53-64600-1111-300.wav', 'g53-65410-1111-00128.wav', 'g53-65410-1111-206.wav', 'g53-65410-1111-284.wav', 'g53-65506-1111-00137.wav', 'g53-65506-1111-215.wav', 'g53-65506-1111-293.wav', 'g53-65601-1111-00145.wav', 'g53-65601-1111-223.wav', 'g53-65601-1111-301.wav', 'g53-66411-1111-00129.wav', 'g53-66411-1111-207.wav', 'g53-66411-1111-285.wav', 'g53-66507-1111-00138.wav', 'g53-66507-1111-216.wav', 'g53-66507-1111-294.wav', 'g53-66602-1111-00146.wav', 'g53-66602-1111-224.wav', 'g53-66602-1111-302.wav', 'g53-67412-1111-00130.wav', 'g53-67412-1111-208.wav', 'g53-67412-1111-286.wav', 'g53-67508-1111-00139.wav', 'g53-67508-1111-217.wav', 'g53-67508-1111-295.wav', 'g53-67603-1111-00147.wav', 'g53-67603-1111-225.wav', 'g53-67603-1111-303.wav', 'g53-68509-1111-00140.wav', 'g53-68509-1111-218.wav', 'g53-68509-1111-296.wav', 'g53-68604-1111-00148.wav', 'g53-68604-1111-226.wav', 'g53-68604-1111-304.wav', 'g53-69510-1111-00141.wav', 'g53-69510-1111-219.wav', 'g53-69510-1111-297.wav', 'g53-69605-1111-00149.wav', 'g53-69605-1111-227.wav', 'g53-69605-1111-305.wav', 'g53-70511-1111-00142.wav', 'g53-70511-1111-220.wav', 'g53-70511-1111-298.wav', 'g53-70606-1111-00150.wav', 'g53-70606-1111-228.wav', 'g53-70606-1111-306.wav', 'g53-71512-1111-00143.wav', 'g53-71512-1111-221.wav', 'g53-71512-1111-299.wav', 'g53-71607-1111-00151.wav', 'g53-71607-1111-229.wav', 'g53-71607-1111-307.wav', 'g53-72608-1111-00152.wav', 'g53-72608-1111-230.wav', 'g53-72608-1111-308.wav', 'g53-73609-1111-00153.wav', 'g53-73609-1111-231.wav', 'g53-73609-1111-309.wav', 'g53-74610-1111-00154.wav', 'g53-74610-1111-232.wav', 'g53-74610-1111-310.wav', 'g53-75611-1111-00155.wav', 'g53-75611-1111-233.wav', 'g53-75611-1111-311.wav', 'g53-76612-1111-00156.wav', 'g53-76612-1111-234.wav', 'g53-76612-1111-312.wav', 'gabber-breakbeat-145bpm-wav-103637.wav', 'genesis-piano-chord-loop-28260.wav', 'ghost-scare-vintage-6062.wav', 'giant-kit-77973.wav', 'glitch-beat-001-128-bpm-99953.wav', 'grand-piano-thing-74701.wav', 'grave-metronomico-99387.wav', 'grinder-drum-loop-6697.wav', 'grunge-bounce-drum-loop-40464.wav', 'halloween-piano-sample-69075.wav', 'happy-ballerine-piano-keys-26784.wav', 'happy-day-in-beach-hand-panwav-14755.wav', 'happy-loop-6978.wav', 'hard-edm-drum-loop-140-bpm-37696.wav', 'hard-rock-logo-108960.wav', 'heartbeat-fast-slowdown-31706.wav', 'heartbeat-foley-34902.wav', 'heavy-thump-drum-line-89744.wav', 'heavy-tribal-beat-76580.wav', 'hectic-808-drum-loop-32989.wav', 'hi-hat-rhythm-89806.wav', 'hihat-loop-bpm140-107127.wav', 'hip-hop-drum-loop-23-75663.wav', 'hip-hop-drum-loop-24-75662.wav', 'hipsnare-85814.wav', 'hitting-ride-bell-with-a-finger-98356.wav', 'horror-chase-music-loop-67634.wav', 'horror-piano-hits-73998.wav', 'hybrid-drum-groove-41326.wav', 'industrial-drums-2-115bpm-80848.wav', 'intro_ezezez-74457.wav', 'james-brown-type-drum-loop-120bpm-129551.wav', 'jaws-of-life-27722.wav', 'jazz_1_160bpm.wav', 'jazz_1_180bpm.wav', 'jazz_2_170bpm.wav', 'jazz_2_200bpm.wav', 'jazz_3_120bpm.wav', 'jazz_3_140bpm.wav', 'jazz_4_70bpm.wav', 'jazz_4_88bpm.wav', 'jazz_5_100bpm.wav', 'jazz_5_80bpm.wav', 'jazz_6_150bpm.wav', 'jazz_6_180bpm.wav', 'jazz_7_140bpm.wav', 'jazz_7_180bpm.wav', 'jazz_8_110bpm.wav', 'jazz_8_120bpm.wav', 'jingle-16-9634.wav', 'jingle-intro-theme-outro-rhodes-piano-15771.wav', 'jinglepiano-105261.wav', 'joyful-messy-piano-116715.wav', 'jungleloop-87697.wav', 'kastimes-drum-sample-7-35739.wav', 'kc-mus152-jungle-beat-63962.wav', 'keys-of-relaxation-21135.wav', 'kick-drum-f-14574.wav', 'kokaji-beatbox-32048.wav', 'latin_1_160bpm.wav', 'latin_1_200bpm.wav', 'latin_2_100bpm.wav', 'latin_2_120bpm.wav', 'latin_3_100bpm.wav', 'latin_3_120bpm.wav', 'latin_4_130bpm.wav', 'latin_4_160bpm.wav', 'latin_5_140bpm.wav', 'latin_5_180bpm.wav', 'latin_6_120bpm.wav', 'latin_6_140bpm.wav', 'latin_7_130bpm.wav', 'latin_7_150bpm.wav', 'latin_8_160bpm.wav', 'latin_8_180bpm.wav', 'lckk_118_drum_01_full-43553.wav', 'lets-dance-126506.wav', 'logo-piano-125764.wav', 'lonely-dance-riff3-31323.wav', 'lonely-piano-clip-32779.wav', 'loop-12-107632.wav', 'loop-16247.wav', 'loopx2-90402.wav', 'lovely-but-damaged-110583.wav', 'lp_a_fret_0-20.wav', 'lp_a_muted5.wav', 'lp_b_fret_0-20.wav', 'lp_b_muted5.wav', 'lp_dn_iii_viii_xiv.wav', 'lp_d_fret_0-20.wav', 'lp_d_muted5.wav', 'lp_e1_fret_0-20.wav', 'lp_e1_muted5.wav', 'lp_e_fret_0-20.wav', 'lp_e_muted5.wav', 'lp_g_fret_0-20.wav', 'lp_g_muted5.wav', 'lp_g_v_bending.wav', 'lp_g_v_slide.wav', 'lp_lick10_fn.wav', 'lp_lick10_kn.wav', 'lp_lick10_mn.wav', 'lp_lick11_fn.wav', 'lp_lick11_kn.wav', 'lp_lick11_mn.wav', 'lp_lick12_fn.wav', 'lp_lick12_kn.wav', 'lp_lick12_mn.wav', 'lp_lick1_fn.wav', 'lp_lick1_fn_lage.wav', 'lp_lick1_fvsdn.wav', 'lp_lick1_kn.wav', 'lp_lick1_kvsdn.wav', 'lp_lick1_mn.wav', 'lp_lick1_mvsdn.wav', 'lp_lick2_fn.wav', 'lp_lick2_fvsh.wav', 'lp_lick2_kn.wav', 'lp_lick2_kn_lage.wav', 'lp_lick2_kvsh.wav', 'lp_lick2_mn.wav', 'lp_lick2_mvsh.wav', 'lp_lick3_fn.wav', 'lp_lick3_fsbdn.wav', 'lp_lick3_kn.wav', 'lp_lick3_ksbdn.wav', 'lp_lick3_mn.wav', 'lp_lick3_mn_lage.wav', 'lp_lick3_msbdn.wav', 'lp_lick4_fbsh.wav', 'lp_lick4_fn.wav', 'lp_lick4_fn_lage2.wav', 'lp_lick4_kbsh.wav', 'lp_lick4_kn.wav', 'lp_lick4_mbsh.wav', 'lp_lick4_mn.wav', 'lp_lick5_fbvdn.wav', 'lp_lick5_fn.wav', 'lp_lick5_kbvdn.wav', 'lp_lick5_kn.wav', 'lp_lick5_kn_lage2.wav', 'lp_lick5_mbvdn.wav', 'lp_lick5_mn.wav', 'lp_lick6_fhbv.wav', 'lp_lick6_fn.wav', 'lp_lick6_khbv.wav', 'lp_lick6_kn.wav', 'lp_lick6_mhbv.wav', 'lp_lick6_mn.wav', 'lp_lick6_mn_lage2.wav', 'lp_lick7_fn.wav', 'lp_lick7_fn_lage.wav', 'lp_lick7_kn.wav', 'lp_lick7_kn_lage.wav', 'lp_lick7_mn.wav', 'lp_lick7_mn_lage.wav', 'lp_lick8_fn.wav', 'lp_lick8_kn.wav', 'lp_lick8_mn.wav', 'lp_lick9_fn.wav', 'lp_lick9_fn_lage.wav', 'lp_lick9_kn.wav', 'lp_lick9_kn_lage.wav', 'lp_lick9_mn.wav', 'lp_lick9_mn_lage.wav', 'lp_nh_iv.wav', 'lp_nh_ix.wav', 'lp_nh_v.wav', 'lp_nh_vii.wav', 'lp_nh_xii.wav', 'lp_v_vibrato_slow-fast.wav', 'marching-drums-drum-solo2-fx-99061.wav', 'mattc-hectik-beat-box-01qw-99855.wav', 'menu-music-28480.wav', 'metal_1_160bpm.wav', 'metal_1_180bpm.wav', 'metal_2_150bpm.wav', 'metal_2_180bpm.wav', 'metal_3_100bpm.wav', 'metal_3_135bpm.wav', 'metal_4_130bpm.wav', 'metal_4_180bpm.wav', 'metal_5_150bpm.wav', 'metal_5_180bpm.wav', 'metal_6_110bpm.wav', 'metal_6_130bpm.wav', 'metal_7_100bpm.wav', 'metal_7_75bpm.wav', 'metal_8_100bpm.wav', 'metal_8_125bpm.wav', 'metronomico-45663.wav', 'minimal-beat-81778.wav', 'misterio1-128347.wav', 'muvibeat8_130bpm-14338.wav', 'muvibeat9_130bpm-14339.wav', 'new-9-42628.wav', 'next-chapter-piano-ident-21438.wav', 'nigh-in-detroit-2-34979.wav', 'nocturnenr2.wav', 'odddrumloop-91606.wav', 'old-record-player-effect-14887.wav', 'on-rd-bruce-drums-1-89708.wav', 'on-rd-piano-loop-1-89745.wav', 'on-rd-piano-loop-2-106459.wav', 'orch-006-cymbal-rollwav-14781.wav', 'orchestral-drums-28182.wav', 'orcs-loop-21568.wav', 'paino-31466.wav', 'pathetique_mono.wav', 'pathetique_poly.wav', 'piano-38809.wav', 'piano-43703.wav', 'piano-6076.wav', 'piano-67592.wav', 'piano-arp-72850.wav', 'piano-bell-sound-1-27144.wav', 'piano-bells-4-97479.wav', 'piano-c4-major-scale-102084.wav', 'piano-chord-45626.wav', 'piano-chords-130-bpm-51099.wav', 'piano-chromatic-scale-c1-to-b1-102315.wav', 'piano-crash-sound-37898.wav', 'piano-groove-quartal-38660.wav', 'piano-harp-28522.wav', 'piano-harp-fantasy-43032.wav', 'piano-harp-sequence-28500.wav', 'piano-harp-sequence-66667.wav', 'piano-logo-108963.wav', 'piano-loop-10809.wav', 'piano-loop-130bpm-43342.wav', 'piano-magic-logo-13621.wav', 'piano-march-66246.wav', 'piano-metal-2-43037.wav', 'piano-normal-d4wav-14838.wav', 'piano-piece-for-busy-businessmen-61081.wav', 'piano-resonance-18-42083.wav', 'piano-resonance-23-42081.wav', 'piano-sadmosphere-12629.wav', 'piano-sequence-2-66643.wav', 'piano-sequence-66644.wav', 'piano-single-keys-close-79965.wav', 'piano-solo-big-hall-10s-loop-27710.wav', 'piano-suspenses-14427.wav', 'piano_pattern_50014_108bpm-27614.wav', 'pop_1_130bpm.wav', 'pop_1_160bpm.wav', 'pop_2_120bpm.wav', 'pop_2_140bpm.wav', 'pop_3_130bpm.wav', 'pop_3_150bpm.wav', 'pop_4_100bpm.wav', 'pop_4_120bpm.wav', 'pop_5_78bpm.wav', 'pop_5_90bpm.wav', 'pop_6_110bpm.wav', 'pop_6_90bpm.wav', 'pop_7_60bpm.wav', 'pop_7_70bpm.wav', 'pop_8_100bpm.wav', 'pop_8_85bpm.wav', 'prepared-piano-impro-2-69901.wav', 'promenade_mono.wav', 'quintfall.wav', 'ragtime-logo-standard-version-116100.wav', 'rainy-day-in-a-recliner-piano-26139.wav', 'realdrum01_00hhtrain.wav', 'realdrum01_00kdtrain.wav', 'realdrum01_00mix.wav', 'realdrum01_00sdtrain.wav', 'realdrum01_01hhtrain.wav', 'realdrum01_01kdtrain.wav', 'realdrum01_01mix.wav', 'realdrum01_01sdtrain.wav', 'realdrum01_02hhtrain.wav', 'realdrum01_02kdtrain.wav', 'realdrum01_02mix.wav', 'realdrum01_02sdtrain.wav', 'realdrum01_03hhtrain.wav', 'realdrum01_03kdtrain.wav', 'realdrum01_03mix.wav', 'realdrum01_03sdtrain.wav', 'realdrum01_04hhtrain.wav', 'realdrum01_04kdtrain.wav', 'realdrum01_04mix.wav', 'realdrum01_04sdtrain.wav', 'realdrum01_05hhtrain.wav', 'realdrum01_05kdtrain.wav', 'realdrum01_05mix.wav', 'realdrum01_05sdtrain.wav', 'realdrum01_06hhtrain.wav', 'realdrum01_06kdtrain.wav', 'realdrum01_06mix.wav', 'realdrum01_06sdtrain.wav', 'realdrum01_07hhtrain.wav', 'realdrum01_07kdtrain.wav', 'realdrum01_07mix.wav', 'realdrum01_07sdtrain.wav', 'realdrum01_08hhtrain.wav', 'realdrum01_08kdtrain.wav', 'realdrum01_08mix.wav', 'realdrum01_08sdtrain.wav', 'realdrum01_09hhtrain.wav', 'realdrum01_09kdtrain.wav', 'realdrum01_09mix.wav', 'realdrum01_09sdtrain.wav', 'realdrum01_10hhtrain.wav', 'realdrum01_10kdtrain.wav', 'realdrum01_10mix.wav', 'realdrum01_10sdtrain.wav', 'realdrum01_11hhtrain.wav', 'realdrum01_11kdtrain.wav', 'realdrum01_11mix.wav', 'realdrum01_11sdtrain.wav', 'realdrum01_12hhtrain.wav', 'realdrum01_12kdtrain.wav', 'realdrum01_12mix.wav', 'realdrum01_12sdtrain.wav', 'realdrum01_13hhtrain.wav', 'realdrum01_13kdtrain.wav', 'realdrum01_13mix.wav', 'realdrum01_13sdtrain.wav', 'realizations-or-fighting-70370.wav', 'reggae_1_120bpm.wav', 'reggae_1_95bpm.wav', 'reggae_2_100bpm.wav', 'reggae_2_120bpm.wav', 'reggae_3_100bpm.wav', 'reggae_3_120bpm.wav', 'reggae_4_100bpm.wav', 'reggae_4_120bpm.wav', 'reverse-piano-3-note-tune-96852.wav', 'reversed-distorted-piano-70785.wav', 'rheyne-rhodes-2-70369.wav', 'rising-into-darkness-16314.wav', 'rock_2_115bpm.wav', 'rock_3_115bpm.wav', 'rock_4_125bpm.wav', 'rock_5_120bpm.wav', 'rock_6_120bpm.wav', 'rock_7_120bpm.wav', 'rock_8_120bpm.wav', 'room_room1_mus_bartok_dev_amazon.wav', 'room_room1_mus_bartok_dev_ipad.wav', 'room_room1_mus_bartok_dev_iphone.wav', 'room_room1_mus_bartok_dev_lg.wav', 'room_room1_mus_bartok_dev_redmi.wav', 'room_room1_mus_bartok_dev_stereomic.wav', 'room_room1_mus_beethoven1_dev_amazon.wav', 'room_room1_mus_beethoven1_dev_ipad.wav', 'room_room1_mus_beethoven1_dev_iphone.wav', 'room_room1_mus_beethoven1_dev_lg.wav', 'room_room1_mus_beethoven1_dev_redmi.wav', 'room_room1_mus_beethoven1_dev_stereomic.wav', 'room_room1_mus_beethoven2_dev_amazon.wav', 'room_room1_mus_beethoven2_dev_ipad.wav', 'room_room1_mus_beethoven2_dev_iphone.wav', 'room_room1_mus_beethoven2_dev_lg.wav', 'room_room1_mus_beethoven2_dev_redmi.wav', 'room_room1_mus_beethoven2_dev_stereomic.wav', 'room_room1_mus_chords_dev_amazon.wav', 'room_room1_mus_chords_dev_ipad.wav', 'room_room1_mus_chords_dev_iphone.wav', 'room_room1_mus_chords_dev_lg.wav', 'room_room1_mus_chords_dev_redmi.wav', 'room_room1_mus_chords_dev_stereomic.wav', 'room_room1_mus_joplin_dev_amazon.wav', 'room_room1_mus_joplin_dev_ipad.wav', 'room_room1_mus_joplin_dev_iphone.wav', 'room_room1_mus_joplin_dev_lg.wav', 'room_room1_mus_joplin_dev_redmi.wav', 'room_room1_mus_joplin_dev_stereomic.wav', 'room_room1_mus_mozart_dev_amazon.wav', 'room_room1_mus_mozart_dev_ipad.wav', 'room_room1_mus_mozart_dev_iphone.wav', 'room_room1_mus_mozart_dev_lg.wav', 'room_room1_mus_mozart_dev_redmi.wav', 'room_room1_mus_mozart_dev_stereomic.wav', 'room_room1_mus_pachelbel_dev_amazon.wav', 'room_room1_mus_pachelbel_dev_ipad.wav', 'room_room1_mus_pachelbel_dev_iphone.wav', 'room_room1_mus_pachelbel_dev_lg.wav', 'room_room1_mus_pachelbel_dev_redmi.wav', 'room_room1_mus_pachelbel_dev_stereomic.wav', 'room_room1_mus_scale_dev_amazon.wav', 'room_room1_mus_scale_dev_ipad.wav', 'room_room1_mus_scale_dev_iphone.wav', 'room_room1_mus_scale_dev_lg.wav', 'room_room1_mus_scale_dev_redmi.wav', 'room_room1_mus_scale_dev_stereomic.wav', 'room_room1_mus_swing_dev_amazon.wav', 'room_room1_mus_swing_dev_ipad.wav', 'room_room1_mus_swing_dev_iphone.wav', 'room_room1_mus_swing_dev_lg.wav', 'room_room1_mus_swing_dev_redmi.wav', 'room_room1_mus_swing_dev_stereomic.wav', 'room_room2_mus_bartok_dev_amazon.wav', 'room_room2_mus_bartok_dev_ipad.wav', 'room_room2_mus_bartok_dev_iphone.wav', 'room_room2_mus_bartok_dev_lg.wav', 'room_room2_mus_bartok_dev_redmi.wav', 'room_room2_mus_bartok_dev_stereomic.wav', 'room_room2_mus_beethoven1_dev_amazon.wav', 'room_room2_mus_beethoven1_dev_ipad.wav', 'room_room2_mus_beethoven1_dev_iphone.wav', 'room_room2_mus_beethoven1_dev_lg.wav', 'room_room2_mus_beethoven1_dev_redmi.wav', 'room_room2_mus_beethoven1_dev_stereomic.wav', 'room_room2_mus_beethoven2_dev_amazon.wav', 'room_room2_mus_beethoven2_dev_ipad.wav', 'room_room2_mus_beethoven2_dev_iphone.wav', 'room_room2_mus_beethoven2_dev_lg.wav', 'room_room2_mus_beethoven2_dev_redmi.wav', 'room_room2_mus_beethoven2_dev_stereomic.wav', 'room_room2_mus_chords_dev_amazon.wav', 'room_room2_mus_chords_dev_ipad.wav', 'room_room2_mus_chords_dev_iphone.wav', 'room_room2_mus_chords_dev_lg.wav', 'room_room2_mus_chords_dev_redmi.wav', 'room_room2_mus_chords_dev_stereomic.wav', 'room_room2_mus_joplin_dev_amazon.wav', 'room_room2_mus_joplin_dev_ipad.wav', 'room_room2_mus_joplin_dev_iphone.wav', 'room_room2_mus_joplin_dev_lg.wav', 'room_room2_mus_joplin_dev_redmi.wav', 'room_room2_mus_joplin_dev_stereomic.wav', 'room_room2_mus_mozart_dev_amazon.wav', 'room_room2_mus_mozart_dev_ipad.wav', 'room_room2_mus_mozart_dev_iphone.wav', 'room_room2_mus_mozart_dev_lg.wav', 'room_room2_mus_mozart_dev_redmi.wav', 'room_room2_mus_mozart_dev_stereomic.wav', 'room_room2_mus_pachelbel_dev_amazon.wav', 'room_room2_mus_pachelbel_dev_ipad.wav', 'room_room2_mus_pachelbel_dev_iphone.wav', 'room_room2_mus_pachelbel_dev_lg.wav', 'room_room2_mus_pachelbel_dev_redmi.wav', 'room_room2_mus_pachelbel_dev_stereomic.wav', 'room_room2_mus_scale_dev_amazon.wav', 'room_room2_mus_scale_dev_ipad.wav', 'room_room2_mus_scale_dev_iphone.wav', 'room_room2_mus_scale_dev_lg.wav', 'room_room2_mus_scale_dev_redmi.wav', 'room_room2_mus_scale_dev_stereomic.wav', 'room_room2_mus_swing_dev_amazon.wav', 'room_room2_mus_swing_dev_ipad.wav', 'room_room2_mus_swing_dev_iphone.wav', 'room_room2_mus_swing_dev_lg.wav', 'room_room2_mus_swing_dev_redmi.wav', 'room_room2_mus_swing_dev_stereomic.wav', 'room_room3_mus_bartok_dev_amazon.wav', 'room_room3_mus_bartok_dev_ipad.wav', 'room_room3_mus_bartok_dev_iphone.wav', 'room_room3_mus_bartok_dev_lg.wav', 'room_room3_mus_bartok_dev_redmi.wav', 'room_room3_mus_bartok_dev_stereomic.wav', 'room_room3_mus_beethoven1_dev_amazon.wav', 'room_room3_mus_beethoven1_dev_ipad.wav', 'room_room3_mus_beethoven1_dev_iphone.wav', 'room_room3_mus_beethoven1_dev_lg.wav', 'room_room3_mus_beethoven1_dev_redmi.wav', 'room_room3_mus_beethoven1_dev_stereomic.wav', 'room_room3_mus_beethoven2_dev_amazon.wav', 'room_room3_mus_beethoven2_dev_ipad.wav', 'room_room3_mus_beethoven2_dev_iphone.wav', 'room_room3_mus_beethoven2_dev_lg.wav', 'room_room3_mus_beethoven2_dev_redmi.wav', 'room_room3_mus_beethoven2_dev_stereomic.wav', 'room_room3_mus_chords_dev_amazon.wav', 'room_room3_mus_chords_dev_ipad.wav', 'room_room3_mus_chords_dev_iphone.wav', 'room_room3_mus_chords_dev_lg.wav', 'room_room3_mus_chords_dev_redmi.wav', 'room_room3_mus_chords_dev_stereomic.wav', 'room_room3_mus_joplin.wav', 'room_room3_mus_joplin_dev_amazon.wav', 'room_room3_mus_joplin_dev_ipad.wav', 'room_room3_mus_joplin_dev_iphone.wav', 'room_room3_mus_joplin_dev_lg.wav', 'room_room3_mus_joplin_dev_redmi.wav', 'room_room3_mus_joplin_dev_stereomic.wav', 'room_room3_mus_mozart_dev_amazon.wav', 'room_room3_mus_mozart_dev_ipad.wav', 'room_room3_mus_mozart_dev_iphone.wav', 'room_room3_mus_mozart_dev_lg.wav', 'room_room3_mus_mozart_dev_redmi.wav', 'room_room3_mus_mozart_dev_stereomic.wav', 'room_room3_mus_pachelbel_dev_amazon.wav', 'room_room3_mus_pachelbel_dev_ipad.wav', 'room_room3_mus_pachelbel_dev_iphone.wav', 'room_room3_mus_pachelbel_dev_lg.wav', 'room_room3_mus_pachelbel_dev_redmi.wav', 'room_room3_mus_pachelbel_dev_stereomic.wav', 'room_room3_mus_scale_dev_amazon.wav', 'room_room3_mus_scale_dev_ipad.wav', 'room_room3_mus_scale_dev_iphone.wav', 'room_room3_mus_scale_dev_lg.wav', 'room_room3_mus_scale_dev_redmi.wav', 'room_room3_mus_scale_dev_stereomic.wav', 'room_room3_mus_swing_dev_amazon.wav', 'room_room3_mus_swing_dev_ipad.wav', 'room_room3_mus_swing_dev_iphone.wav', 'room_room3_mus_swing_dev_lg.wav', 'room_room3_mus_swing_dev_redmi.wav', 'room_room3_mus_swing_dev_stereomic.wav', 'room_room4_mus_bartok_dev_amazon.wav', 'room_room4_mus_bartok_dev_ipad.wav', 'room_room4_mus_bartok_dev_iphone.wav', 'room_room4_mus_bartok_dev_lg.wav', 'room_room4_mus_bartok_dev_redmi.wav', 'room_room4_mus_bartok_dev_stereomic.wav', 'room_room4_mus_beethoven1_dev_amazon.wav', 'room_room4_mus_beethoven1_dev_ipad.wav', 'room_room4_mus_beethoven1_dev_iphone.wav', 'room_room4_mus_beethoven1_dev_lg.wav', 'room_room4_mus_beethoven1_dev_redmi.wav', 'room_room4_mus_beethoven1_dev_stereomic.wav', 'room_room4_mus_beethoven2_dev_amazon.wav', 'room_room4_mus_beethoven2_dev_ipad.wav', 'room_room4_mus_beethoven2_dev_iphone.wav', 'room_room4_mus_beethoven2_dev_lg.wav', 'room_room4_mus_beethoven2_dev_redmi.wav', 'room_room4_mus_beethoven2_dev_stereomic.wav', 'room_room4_mus_chords_dev_amazon.wav', 'room_room4_mus_chords_dev_ipad.wav', 'room_room4_mus_chords_dev_iphone.wav', 'room_room4_mus_chords_dev_lg.wav', 'room_room4_mus_chords_dev_redmi.wav', 'room_room4_mus_chords_dev_stereomic.wav', 'room_room4_mus_joplin_dev_amazon.wav', 'room_room4_mus_joplin_dev_ipad.wav', 'room_room4_mus_joplin_dev_iphone.wav', 'room_room4_mus_joplin_dev_lg.wav', 'room_room4_mus_joplin_dev_redmi.wav', 'room_room4_mus_joplin_dev_stereomic.wav', 'room_room4_mus_mozart_dev_amazon.wav', 'room_room4_mus_mozart_dev_ipad.wav', 'room_room4_mus_mozart_dev_iphone.wav', 'room_room4_mus_mozart_dev_lg.wav', 'room_room4_mus_mozart_dev_redmi.wav', 'room_room4_mus_mozart_dev_stereomic.wav', 'room_room4_mus_pachelbel_dev_amazon.wav', 'room_room4_mus_pachelbel_dev_ipad.wav', 'room_room4_mus_pachelbel_dev_iphone.wav', 'room_room4_mus_pachelbel_dev_lg.wav', 'room_room4_mus_pachelbel_dev_redmi.wav', 'room_room4_mus_pachelbel_dev_stereomic.wav', 'room_room4_mus_scale_dev_amazon.wav', 'room_room4_mus_scale_dev_ipad.wav', 'room_room4_mus_scale_dev_iphone.wav', 'room_room4_mus_scale_dev_lg.wav', 'room_room4_mus_scale_dev_redmi.wav', 'room_room4_mus_scale_dev_stereomic.wav', 'room_room4_mus_swing_dev_amazon.wav', 'room_room4_mus_swing_dev_ipad.wav', 'room_room4_mus_swing_dev_iphone.wav', 'room_room4_mus_swing_dev_lg.wav', 'room_room4_mus_swing_dev_redmi.wav', 'room_room4_mus_swing_dev_stereomic.wav', 'room_room5_mus_bartok_dev_amazon.wav', 'room_room5_mus_bartok_dev_ipad.wav', 'room_room5_mus_bartok_dev_iphone.wav', 'room_room5_mus_bartok_dev_lg.wav', 'room_room5_mus_bartok_dev_redmi.wav', 'room_room5_mus_bartok_dev_stereomic.wav', 'room_room5_mus_beethoven1_dev_amazon.wav', 'room_room5_mus_beethoven1_dev_ipad.wav', 'room_room5_mus_beethoven1_dev_iphone.wav', 'room_room5_mus_beethoven1_dev_lg.wav', 'room_room5_mus_beethoven1_dev_redmi.wav', 'room_room5_mus_beethoven1_dev_stereomic.wav', 'room_room5_mus_beethoven2_dev_amazon.wav', 'room_room5_mus_beethoven2_dev_ipad.wav', 'room_room5_mus_beethoven2_dev_iphone.wav', 'room_room5_mus_beethoven2_dev_lg.wav', 'room_room5_mus_beethoven2_dev_redmi.wav', 'room_room5_mus_beethoven2_dev_stereomic.wav', 'room_room5_mus_chords_dev_amazon.wav', 'room_room5_mus_chords_dev_ipad.wav', 'room_room5_mus_chords_dev_iphone.wav', 'room_room5_mus_chords_dev_lg.wav', 'room_room5_mus_chords_dev_redmi.wav', 'room_room5_mus_chords_dev_stereomic.wav', 'room_room5_mus_joplin_dev_amazon.wav', 'room_room5_mus_joplin_dev_ipad.wav', 'room_room5_mus_joplin_dev_iphone.wav', 'room_room5_mus_joplin_dev_lg.wav', 'room_room5_mus_joplin_dev_redmi.wav', 'room_room5_mus_joplin_dev_stereomic.wav', 'room_room5_mus_mozart_dev_amazon.wav', 'room_room5_mus_mozart_dev_ipad.wav', 'room_room5_mus_mozart_dev_iphone.wav', 'room_room5_mus_mozart_dev_lg.wav', 'room_room5_mus_mozart_dev_redmi.wav', 'room_room5_mus_mozart_dev_stereomic.wav', 'room_room5_mus_pachelbel_dev_amazon.wav', 'room_room5_mus_pachelbel_dev_ipad.wav', 'room_room5_mus_pachelbel_dev_iphone.wav', 'room_room5_mus_pachelbel_dev_lg.wav', 'room_room5_mus_pachelbel_dev_redmi.wav', 'room_room5_mus_pachelbel_dev_stereomic.wav', 'room_room5_mus_scale_dev_amazon.wav', 'room_room5_mus_scale_dev_ipad.wav', 'room_room5_mus_scale_dev_iphone.wav', 'room_room5_mus_scale_dev_lg.wav', 'room_room5_mus_scale_dev_redmi.wav', 'room_room5_mus_scale_dev_stereomic.wav', 'room_room5_mus_swing_dev_amazon.wav', 'room_room5_mus_swing_dev_ipad.wav', 'room_room5_mus_swing_dev_iphone.wav', 'room_room5_mus_swing_dev_lg.wav', 'room_room5_mus_swing_dev_redmi.wav', 'room_room5_mus_swing_dev_stereomic.wav', 'room_room6_mus_bartok_dev_amazon.wav', 'room_room6_mus_bartok_dev_ipad.wav', 'room_room6_mus_bartok_dev_iphone.wav', 'room_room6_mus_bartok_dev_lg.wav', 'room_room6_mus_bartok_dev_redmi.wav', 'room_room6_mus_bartok_dev_stereomic.wav', 'room_room6_mus_beethoven1_dev_amazon.wav', 'room_room6_mus_beethoven1_dev_ipad.wav', 'room_room6_mus_beethoven1_dev_iphone.wav', 'room_room6_mus_beethoven1_dev_lg.wav', 'room_room6_mus_beethoven1_dev_redmi.wav', 'room_room6_mus_beethoven1_dev_stereomic.wav', 'room_room6_mus_beethoven2_dev_amazon.wav', 'room_room6_mus_beethoven2_dev_ipad.wav', 'room_room6_mus_beethoven2_dev_iphone.wav', 'room_room6_mus_beethoven2_dev_lg.wav', 'room_room6_mus_beethoven2_dev_redmi.wav', 'room_room6_mus_beethoven2_dev_stereomic.wav', 'room_room6_mus_chords_dev_amazon.wav', 'room_room6_mus_chords_dev_ipad.wav', 'room_room6_mus_chords_dev_iphone.wav', 'room_room6_mus_chords_dev_lg.wav', 'room_room6_mus_chords_dev_redmi.wav', 'room_room6_mus_chords_dev_stereomic.wav', 'room_room6_mus_joplin_dev_amazon.wav', 'room_room6_mus_joplin_dev_ipad.wav', 'room_room6_mus_joplin_dev_iphone.wav', 'room_room6_mus_joplin_dev_lg.wav', 'room_room6_mus_joplin_dev_redmi.wav', 'room_room6_mus_joplin_dev_stereomic.wav', 'room_room6_mus_mozart_dev_amazon.wav', 'room_room6_mus_mozart_dev_ipad.wav', 'room_room6_mus_mozart_dev_iphone.wav', 'room_room6_mus_pachelbel_dev_ipad.wav', 'room_room6_mus_pachelbel_dev_redmi.wav', 'room_room6_mus_pachelbel_dev_stereomic.wav', 'room_room6_mus_scale_dev_amazon.wav', 'room_room6_mus_scale_dev_ipad.wav', 'room_room6_mus_scale_dev_iphone.wav', 'room_room6_mus_scale_dev_lg.wav', 'room_room6_mus_scale_dev_redmi.wav', 'room_room6_mus_scale_dev_stereomic.wav', 'room_room6_mus_swing_dev_amazon.wav', 'room_room6_mus_swing_dev_ipad.wav', 'room_room6_mus_swing_dev_iphone.wav', 'room_room6_mus_swing_dev_lg.wav', 'room_room6_mus_swing_dev_redmi.wav', 'room_room6_mus_swing_dev_stereomic.wav', 'room_room7_mus_bartok_dev_amazon.wav', 'room_room7_mus_bartok_dev_ipad.wav', 'room_room7_mus_bartok_dev_iphone.wav', 'room_room7_mus_bartok_dev_lg.wav', 'room_room7_mus_bartok_dev_redmi.wav', 'room_room7_mus_bartok_dev_stereomic.wav', 'room_room7_mus_beethoven1_dev_ipad.wav', 'room_room7_mus_beethoven1_dev_iphone.wav', 'room_room7_mus_beethoven1_dev_lg.wav', 'room_room7_mus_beethoven1_dev_redmi.wav', 'room_room7_mus_beethoven1_dev_stereomic.wav', 'room_room7_mus_beethoven2_dev_amazon.wav', 'room_room7_mus_beethoven2_dev_ipad.wav', 'room_room7_mus_beethoven2_dev_iphone.wav', 'room_room7_mus_beethoven2_dev_lg.wav', 'room_room7_mus_beethoven2_dev_redmi.wav', 'room_room7_mus_beethoven2_dev_stereomic.wav', 'room_room7_mus_chords_dev_amazon.wav', 'room_room7_mus_chords_dev_ipad.wav', 'room_room7_mus_chords_dev_iphone.wav', 'room_room7_mus_chords_dev_lg.wav', 'room_room7_mus_chords_dev_redmi.wav', 'room_room7_mus_chords_dev_stereomic.wav', 'room_room7_mus_joplin_dev_amazon.wav', 'room_room7_mus_joplin_dev_ipad.wav', 'room_room7_mus_joplin_dev_iphone.wav', 'room_room7_mus_joplin_dev_lg.wav', 'room_room7_mus_joplin_dev_redmi.wav', 'room_room7_mus_joplin_dev_stereomic.wav', 'room_room7_mus_mozart_dev_amazon.wav', 'room_room7_mus_mozart_dev_ipad.wav', 'room_room7_mus_mozart_dev_iphone.wav', 'room_room7_mus_mozart_dev_lg.wav', 'room_room7_mus_mozart_dev_redmi.wav', 'room_room7_mus_mozart_dev_stereomic.wav', 'room_room7_mus_pachelbel_dev_amazon.wav', 'room_room7_mus_pachelbel_dev_ipad.wav', 'room_room7_mus_pachelbel_dev_iphone.wav', 'room_room7_mus_pachelbel_dev_lg.wav', 'room_room7_mus_pachelbel_dev_redmi.wav', 'room_room7_mus_pachelbel_dev_stereomic.wav', 'room_room7_mus_scale_dev_amazon.wav', 'room_room7_mus_scale_dev_ipad.wav', 'room_room7_mus_scale_dev_iphone.wav', 'room_room7_mus_scale_dev_lg.wav', 'room_room7_mus_scale_dev_redmi.wav', 'room_room7_mus_scale_dev_stereomic.wav', 'room_room7_mus_swing_dev_amazon.wav', 'room_room7_mus_swing_dev_ipad.wav', 'room_room7_mus_swing_dev_iphone.wav', 'room_room7_mus_swing_dev_lg.wav', 'room_room7_mus_swing_dev_redmi.wav', 'room_room7_mus_swing_dev_stereomic.wav', 'room_room8_mus_bartok_dev_amazon.wav', 'room_room8_mus_bartok_dev_ipad.wav', 'room_room8_mus_bartok_dev_iphone.wav', 'room_room8_mus_bartok_dev_lg.wav', 'room_room8_mus_bartok_dev_redmi.wav', 'room_room8_mus_bartok_dev_stereomic.wav', 'room_room8_mus_beethoven1_dev_amazon.wav', 'room_room8_mus_beethoven1_dev_ipad.wav', 'room_room8_mus_beethoven1_dev_iphone.wav', 'room_room8_mus_beethoven1_dev_lg.wav', 'room_room8_mus_beethoven1_dev_redmi.wav', 'room_room8_mus_beethoven1_dev_stereomic.wav', 'room_room8_mus_beethoven2_dev_amazon.wav', 'room_room8_mus_beethoven2_dev_ipad.wav', 'room_room8_mus_beethoven2_dev_iphone.wav', 'room_room8_mus_beethoven2_dev_lg.wav', 'room_room8_mus_beethoven2_dev_redmi.wav', 'room_room8_mus_beethoven2_dev_stereomic.wav', 'room_room8_mus_chords_dev_amazon.wav', 'room_room8_mus_chords_dev_ipad.wav', 'room_room8_mus_chords_dev_iphone.wav', 'room_room8_mus_chords_dev_lg.wav', 'room_room8_mus_chords_dev_redmi.wav', 'room_room8_mus_chords_dev_stereomic.wav', 'room_room8_mus_joplin.wav', 'room_room8_mus_joplin_dev_amazon.wav', 'room_room8_mus_joplin_dev_ipad.wav', 'room_room8_mus_joplin_dev_iphone.wav', 'room_room8_mus_joplin_dev_lg.wav', 'room_room8_mus_joplin_dev_redmi.wav', 'room_room8_mus_joplin_dev_stereomic.wav', 'room_room8_mus_mozart.wav', 'room_room8_mus_mozart_dev_amazon.wav', 'room_room8_mus_mozart_dev_ipad.wav', 'room_room8_mus_mozart_dev_iphone.wav', 'room_room8_mus_mozart_dev_lg.wav', 'room_room8_mus_mozart_dev_redmi.wav', 'room_room8_mus_mozart_dev_stereomic.wav', 'room_room8_mus_pachelbel.wav', 'room_room8_mus_pachelbel_dev_amazon.wav', 'room_room8_mus_pachelbel_dev_ipad.wav', 'room_room8_mus_pachelbel_dev_iphone.wav', 'room_room8_mus_pachelbel_dev_lg.wav', 'room_room8_mus_pachelbel_dev_redmi.wav', 'room_room8_mus_pachelbel_dev_stereomic.wav', 'room_room8_mus_scale.wav', 'room_room8_mus_scale_dev_amazon.wav', 'room_room8_mus_scale_dev_ipad.wav', 'room_room8_mus_scale_dev_iphone.wav', 'room_room8_mus_scale_dev_lg.wav', 'room_room8_mus_scale_dev_redmi.wav', 'room_room8_mus_scale_dev_stereomic.wav', 'room_room8_mus_swing.wav', 'room_room8_mus_swing_dev_amazon.wav', 'room_room8_mus_swing_dev_ipad.wav', 'room_room8_mus_swing_dev_iphone.wav', 'room_room8_mus_swing_dev_lg.wav', 'room_room8_mus_swing_dev_redmi.wav', 'room_room8_mus_swing_dev_stereomic.wav', 'sad-piano-58774.wav', 'sad-piano-love-story-71443.wav', 'saloon-piano-honky-tonk-14540.wav', 'ska_1_180bpm.wav', 'ska_2_180bpm.wav', 'ska_3_150bpm.wav', 'ska_3_180bpm.wav', 'ska_4_150bpm.wav', 'ska_4_180bpm.wav', 'slow_classical_1_60bpm.wav', 'slow_classical_2_50bpm.wav', 'slow_classical_3_50bpm.wav', 'slow_classical_4_60bpm.wav', 'slow_classical_5_70bpm.wav', 'slow_classical_6_75bpm.wav', 'slow_classical_7_50bpm.wav', 'slow_classical_8_100bpm.wav', 'slow_country_1_110bpm.wav', 'slow_country_2_110bpm.wav', 'slow_country_3_100bpm.wav', 'slow_country_4_80bpm.wav', 'slow_country_5_80bpm.wav', 'slow_folk_1_80bpm.wav', 'slow_folk_2_75bpm.wav', 'slow_folk_3_130bpm.wav', 'slow_jazz_1_160bpm.wav', 'slow_jazz_2_170bpm.wav', 'slow_jazz_3_120bpm.wav', 'slow_jazz_4_70bpm.wav', 'slow_jazz_5_80bpm.wav', 'slow_jazz_6_150bpm.wav', 'slow_jazz_7_140bpm.wav', 'slow_jazz_8_110bpm.wav', 'slow_latin_1_160bpm.wav', 'slow_latin_2_100bpm.wav', 'slow_latin_3_100bpm.wav', 'slow_latin_4_130bpm.wav', 'slow_latin_5_140bpm.wav', 'slow_latin_6_120bpm.wav', 'slow_latin_7_130bpm.wav', 'slow_latin_8_160bpm.wav', 'slow_metal_1_160bpm.wav', 'slow_metal_2_150bpm.wav', 'slow_metal_3_100bpm.wav', 'slow_metal_4_130bpm.wav', 'slow_metal_5_150bpm.wav', 'slow_metal_6_110bpm.wav', 'slow_metal_7_75bpm.wav', 'slow_metal_8_100bpm.wav', 'slow_pop_1_130bpm.wav', 'slow_pop_2_120bpm.wav', 'slow_pop_3_130bpm.wav', 'slow_pop_4_100bpm.wav', 'slow_pop_5_78bpm.wav', 'slow_pop_6_90bpm.wav', 'slow_pop_7_60bpm.wav', 'slow_pop_8_85bpm.wav', 'slow_reggae_1_95bpm.wav', 'slow_reggae_2_100bpm.wav', 'slow_reggae_3_100bpm.wav', 'slow_reggae_4_100bpm.wav', 'slow_rock_2_100bpm.wav', 'slow_rock_3_100bpm.wav', 'slow_rock_4_110bpm.wav', 'slow_rock_5_100bpm.wav', 'slow_rock_6_100bpm.wav', 'slow_rock_7_100bpm.wav', 'slow_rock_8_100bpm.wav', 'slow_ska_1_150bpm.wav', 'slow_ska_2_150bpm.wav', 'slow_ska_3_150bpm.wav', 'slow_ska_4_150bpm.wav', 'strange-piano-73881.wav', 'technodrum01_00hhtrain.wav', 'technodrum01_00kdtrain.wav', 'technodrum01_00mix.wav', 'technodrum01_00sdtrain.wav', 'technodrum01_01hhtrain.wav', 'technodrum01_01kdtrain.wav', 'technodrum01_01mix.wav', 'technodrum01_01sdtrain.wav', 'technodrum01_02hhtrain.wav', 'technodrum01_02kdtrain.wav', 'technodrum01_02mix.wav', 'technodrum01_02sdtrain.wav', 'technodrum01_03hhtrain.wav', 'technodrum01_03kdtrain.wav', 'technodrum01_03mix.wav', 'technodrum01_03sdtrain.wav', 'technodrum01_04hhtrain.wav', 'technodrum01_04kdtrain.wav', 'technodrum01_04mix.wav', 'technodrum01_04sdtrain.wav', 'technodrum01_05hhtrain.wav', 'technodrum01_05kdtrain.wav', 'technodrum01_05mix.wav', 'technodrum01_05sdtrain.wav', 'technodrum01_06hhtrain.wav', 'technodrum01_06kdtrain.wav', 'technodrum01_06mix.wav', 'technodrum01_06sdtrain.wav', 'technodrum01_07hhtrain.wav', 'technodrum01_07kdtrain.wav', 'technodrum01_07mix.wav', 'the-last-piano-112677.wav', 'this-is-war-version-e-95411.wav', 'tired-ghosts-piano-65013.wav', 'toy-piano-27311.wav', 'va-ord-a4-ff-2c.wav', 'va-ord-a4-mf-2c.wav', 'va-ord-a4-pp-2c.wav', 'va-ord-a5-ff-2c.wav', 'va-ord-a5-mf-2c.wav', 'va-ord-a5-pp-2c.wav', 'va-ord-a6-ff-1c.wav', 'va-ord-a6-mf-1c.wav', 'va-ord-a6-pp-1c.wav', 'va-ord-b4-ff-1c.wav', 'va-ord-b4-mf-1c.wav', 'va-ord-b4-pp-1c.wav', 'va-ord-b5-ff-1c.wav', 'va-ord-b5-mf-1c.wav', 'va-ord-b5-pp-1c.wav', 'va-ord-c5-ff-2c.wav', 'va-ord-c5-mf-2c.wav', 'va-ord-c5-pp-2c.wav', 'va-ord-c6-mf-1c.wav', 'va-ord-c6-pp-1c.wav', 'va-ord-c7-ff-1c.wav', 'va-ord-c7-mf-1c.wav', 'va-ord-c7-pp-1c.wav', 'va-ord-d4-ff-2c.wav', 'va-ord-d4-mf-2c.wav', 'va-ord-d4-pp-2c.wav', 'va-ord-d5-ff-2c.wav', 'va-ord-d5-mf-2c.wav', 'va-ord-d5-pp-2c.wav', 'va-ord-d6-ff-1c.wav', 'va-ord-d6-mf-1c.wav', 'va-ord-d6-pp-1c.wav', 'va-ord-e5-ff-1c.wav', 'va-ord-e5-mf-1c.wav', 'va-ord-e5-pp-1c.wav', 'va-ord-f4-ff-2c.wav', 'va-ord-f4-mf-2c.wav', 'va-ord-f4-pp-2c.wav', 'va-ord-f5-ff-2c.wav', 'va-ord-f5-mf-2c.wav', 'va-ord-f5-pp-2c.wav', 'va-ord-f6-ff-1c.wav', 'va-ord-f6-mf-1c.wav', 'va-ord-f6-pp-1c.wav', 'va-ord-g5-ff-1c.wav', 'va-ord-g5-mf-1c.wav', 'va-ord-g5-pp-1c.wav', 'va-ord-g6-pp-1c.wav', 'violin_sounds_(1).wav', 'violin_sounds_(10).wav', 'violin_sounds_(11).wav', 'violin_sounds_(12).wav', 'violin_sounds_(13).wav', 'violin_sounds_(14).wav', 'violin_sounds_(15).wav', 'violin_sounds_(16).wav', 'violin_sounds_(17).wav', 'violin_sounds_(18).wav', 'violin_sounds_(19).wav', 'violin_sounds_(2).wav', 'violin_sounds_(20).wav', 'violin_sounds_(21).wav', 'violin_sounds_(22).wav', 'violin_sounds_(23).wav', 'violin_sounds_(24).wav', 'violin_sounds_(25).wav', 'violin_sounds_(26).wav', 'violin_sounds_(27).wav', 'violin_sounds_(28).wav', 'violin_sounds_(29).wav', 'violin_sounds_(3).wav', 'violin_sounds_(30).wav', 'violin_sounds_(31).wav', 'violin_sounds_(32).wav', 'violin_sounds_(33).wav', 'violin_sounds_(34).wav', 'violin_sounds_(35).wav', 'violin_sounds_(36).wav', 'violin_sounds_(37).wav', 'violin_sounds_(38).wav', 'violin_sounds_(39).wav', 'violin_sounds_(4).wav', 'violin_sounds_(40).wav', 'violin_sounds_(41).wav', 'violin_sounds_(42).wav', 'violin_sounds_(43).wav', 'violin_sounds_(44).wav', 'violin_sounds_(45).wav', 'violin_sounds_(46).wav', 'violin_sounds_(47).wav', 'violin_sounds_(48).wav', 'violin_sounds_(49).wav', 'violin_sounds_(5).wav', 'violin_sounds_(50).wav', 'violin_sounds_(51).wav', 'violin_sounds_(52).wav', 'violin_sounds_(53).wav', 'violin_sounds_(54).wav', 'violin_sounds_(55).wav', 'violin_sounds_(56).wav', 'violin_sounds_(57).wav', 'violin_sounds_(58).wav', 'violin_sounds_(59).wav', 'violin_sounds_(8).wav', 'violin_sounds_(9).wav', 'violin_sound_(1).wav', 'violin_sound_(10).wav', 'violin_sound_(100).wav', 'violin_sound_(101).wav', 'violin_sound_(102).wav', 'violin_sound_(103).wav', 'violin_sound_(104).wav', 'violin_sound_(105).wav', 'violin_sound_(106).wav', 'violin_sound_(107).wav', 'violin_sound_(108).wav', 'violin_sound_(109).wav', 'violin_sound_(11).wav', 'violin_sound_(110).wav', 'violin_sound_(111).wav', 'violin_sound_(112).wav', 'violin_sound_(113).wav', 'violin_sound_(114).wav', 'violin_sound_(115).wav', 'violin_sound_(116).wav', 'violin_sound_(117).wav', 'violin_sound_(118).wav', 'violin_sound_(119).wav', 'violin_sound_(12).wav', 'violin_sound_(120).wav', 'violin_sound_(121).wav', 'violin_sound_(122).wav', 'violin_sound_(123).wav', 'violin_sound_(124).wav', 'violin_sound_(125).wav', 'violin_sound_(126).wav', 'violin_sound_(127).wav', 'violin_sound_(128).wav', 'violin_sound_(129).wav', 'violin_sound_(13).wav', 'violin_sound_(130).wav', 'violin_sound_(131).wav', 'violin_sound_(132).wav', 'violin_sound_(133).wav', 'violin_sound_(134).wav', 'violin_sound_(135).wav', 'violin_sound_(136).wav', 'violin_sound_(137).wav', 'violin_sound_(138).wav', 'violin_sound_(139).wav', 'violin_sound_(14).wav', 'violin_sound_(140).wav', 'violin_sound_(141).wav', 'violin_sound_(142).wav', 'violin_sound_(143).wav', 'violin_sound_(144).wav', 'violin_sound_(145).wav', 'violin_sound_(146).wav', 'violin_sound_(147).wav', 'violin_sound_(148).wav', 'violin_sound_(149).wav', 'violin_sound_(15).wav', 'violin_sound_(150).wav', 'violin_sound_(151).wav', 'violin_sound_(152).wav', 'violin_sound_(153).wav', 'violin_sound_(154).wav', 'violin_sound_(155).wav', 'violin_sound_(156).wav', 'violin_sound_(157).wav', 'violin_sound_(158).wav', 'violin_sound_(159).wav', 'violin_sound_(16).wav', 'violin_sound_(160).wav', 'violin_sound_(161).wav', 'violin_sound_(162).wav', 'violin_sound_(163).wav', 'violin_sound_(164).wav', 'violin_sound_(165).wav', 'violin_sound_(166).wav', 'violin_sound_(167).wav', 'violin_sound_(168).wav', 'violin_sound_(169).wav', 'violin_sound_(17).wav', 'violin_sound_(170).wav', 'violin_sound_(171).wav', 'violin_sound_(172).wav', 'violin_sound_(173).wav', 'violin_sound_(174).wav', 'violin_sound_(175).wav', 'violin_sound_(176).wav', 'violin_sound_(177).wav', 'violin_sound_(178).wav', 'violin_sound_(179).wav', 'violin_sound_(18).wav', 'violin_sound_(180).wav', 'violin_sound_(181).wav', 'violin_sound_(182).wav', 'violin_sound_(183).wav', 'violin_sound_(184).wav', 'violin_sound_(185).wav', 'violin_sound_(186).wav', 'violin_sound_(187).wav', 'violin_sound_(188).wav', 'violin_sound_(189).wav', 'violin_sound_(19).wav', 'violin_sound_(190).wav', 'violin_sound_(191).wav', 'violin_sound_(192).wav', 'violin_sound_(193).wav', 'violin_sound_(194).wav', 'violin_sound_(195).wav', 'violin_sound_(196).wav', 'violin_sound_(197).wav', 'violin_sound_(198).wav', 'violin_sound_(199).wav', 'violin_sound_(2).wav', 'violin_sound_(20).wav', 'violin_sound_(200).wav', 'violin_sound_(201).wav', 'violin_sound_(202).wav', 'violin_sound_(203).wav', 'violin_sound_(204).wav', 'violin_sound_(205).wav', 'violin_sound_(206).wav', 'violin_sound_(207).wav', 'violin_sound_(208).wav', 'violin_sound_(209).wav', 'violin_sound_(21).wav', 'violin_sound_(210).wav', 'violin_sound_(211).wav', 'violin_sound_(212).wav', 'violin_sound_(213).wav', 'violin_sound_(214).wav', 'violin_sound_(215).wav', 'violin_sound_(216).wav', 'violin_sound_(217).wav', 'violin_sound_(218).wav', 'violin_sound_(219).wav', 'violin_sound_(22).wav', 'violin_sound_(220).wav', 'violin_sound_(221).wav', 'violin_sound_(222).wav', 'violin_sound_(223).wav', 'violin_sound_(224).wav', 'violin_sound_(225).wav', 'violin_sound_(226).wav', 'violin_sound_(227).wav', 'violin_sound_(228).wav', 'violin_sound_(229).wav', 'violin_sound_(23).wav', 'violin_sound_(230).wav', 'violin_sound_(231).wav', 'violin_sound_(232).wav', 'violin_sound_(233).wav', 'violin_sound_(234).wav', 'violin_sound_(235).wav', 'violin_sound_(236).wav', 'violin_sound_(237).wav', 'violin_sound_(238).wav', 'violin_sound_(239).wav', 'violin_sound_(24).wav', 'violin_sound_(240).wav', 'violin_sound_(241).wav', 'violin_sound_(242).wav', 'violin_sound_(243).wav', 'violin_sound_(244).wav', 'violin_sound_(245).wav', 'violin_sound_(246).wav', 'violin_sound_(247).wav', 'violin_sound_(248).wav', 'violin_sound_(249).wav', 'violin_sound_(25).wav', 'violin_sound_(250).wav', 'violin_sound_(251).wav', 'violin_sound_(252).wav', 'violin_sound_(253).wav', 'violin_sound_(254).wav', 'violin_sound_(255).wav', 'violin_sound_(256).wav', 'violin_sound_(257).wav', 'violin_sound_(258).wav', 'violin_sound_(259).wav', 'violin_sound_(26).wav', 'violin_sound_(260).wav', 'violin_sound_(261).wav', 'violin_sound_(262).wav', 'violin_sound_(263).wav', 'violin_sound_(264).wav', 'violin_sound_(265).wav', 'violin_sound_(266).wav', 'violin_sound_(267).wav', 'violin_sound_(268).wav', 'violin_sound_(269).wav', 'violin_sound_(27).wav', 'violin_sound_(270).wav', 'violin_sound_(271).wav', 'violin_sound_(272).wav', 'violin_sound_(273).wav', 'violin_sound_(274).wav', 'violin_sound_(275).wav', 'violin_sound_(276).wav', 'violin_sound_(277).wav', 'violin_sound_(278).wav', 'violin_sound_(279).wav', 'violin_sound_(28).wav', 'violin_sound_(280).wav', 'violin_sound_(281).wav', 'violin_sound_(282).wav', 'violin_sound_(283).wav', 'violin_sound_(284).wav', 'violin_sound_(285).wav', 'violin_sound_(286).wav', 'violin_sound_(287).wav', 'violin_sound_(288).wav', 'violin_sound_(289).wav', 'violin_sound_(29).wav', 'violin_sound_(290).wav', 'violin_sound_(291).wav', 'violin_sound_(292).wav', 'violin_sound_(293).wav', 'violin_sound_(294).wav', 'violin_sound_(295).wav', 'violin_sound_(296).wav', 'violin_sound_(297).wav', 'violin_sound_(298).wav', 'violin_sound_(299).wav', 'violin_sound_(3).wav', 'violin_sound_(30).wav', 'violin_sound_(300).wav', 'violin_sound_(301).wav', 'violin_sound_(302).wav', 'violin_sound_(303).wav', 'violin_sound_(304).wav', 'violin_sound_(305).wav', 'violin_sound_(306).wav', 'violin_sound_(307).wav', 'violin_sound_(308).wav', 'violin_sound_(309).wav', 'violin_sound_(31).wav', 'violin_sound_(310).wav', 'violin_sound_(311).wav', 'violin_sound_(312).wav', 'violin_sound_(313).wav', 'violin_sound_(314).wav', 'violin_sound_(315).wav', 'violin_sound_(316).wav', 'violin_sound_(317).wav', 'violin_sound_(318).wav', 'violin_sound_(319).wav', 'violin_sound_(32).wav', 'violin_sound_(320).wav', 'violin_sound_(321).wav', 'violin_sound_(322).wav', 'violin_sound_(323).wav', 'violin_sound_(324).wav', 'violin_sound_(325).wav', 'violin_sound_(326).wav', 'violin_sound_(327).wav', 'violin_sound_(328).wav', 'violin_sound_(329).wav', 'violin_sound_(33).wav', 'violin_sound_(330).wav', 'violin_sound_(34).wav', 'violin_sound_(35).wav', 'violin_sound_(36).wav', 'violin_sound_(37).wav', 'violin_sound_(38).wav', 'violin_sound_(39).wav', 'violin_sound_(4).wav', 'violin_sound_(40).wav', 'violin_sound_(41).wav', 'violin_sound_(42).wav', 'violin_sound_(43).wav', 'violin_sound_(44).wav', 'violin_sound_(45).wav', 'violin_sound_(46).wav', 'violin_sound_(47).wav', 'violin_sound_(48).wav', 'violin_sound_(49).wav', 'violin_sound_(5).wav', 'violin_sound_(50).wav', 'violin_sound_(51).wav', 'violin_sound_(52).wav', 'violin_sound_(53).wav', 'violin_sound_(54).wav', 'violin_sound_(55).wav', 'violin_sound_(56).wav', 'violin_sound_(57).wav', 'violin_sound_(58).wav', 'violin_sound_(59).wav', 'violin_sound_(6).wav', 'violin_sound_(60).wav', 'violin_sound_(61).wav', 'violin_sound_(62).wav', 'violin_sound_(63).wav', 'violin_sound_(64).wav', 'violin_sound_(65).wav', 'violin_sound_(66).wav', 'violin_sound_(67).wav', 'violin_sound_(68).wav', 'violin_sound_(69).wav', 'violin_sound_(7).wav', 'violin_sound_(70).wav', 'violin_sound_(71).wav', 'violin_sound_(72).wav', 'violin_sound_(73).wav', 'violin_sound_(74).wav', 'violin_sound_(75).wav', 'violin_sound_(76).wav', 'violin_sound_(77).wav', 'violin_sound_(78).wav', 'violin_sound_(79).wav', 'violin_sound_(8).wav', 'violin_sound_(80).wav', 'violin_sound_(81).wav', 'violin_sound_(82).wav', 'violin_sound_(83).wav', 'violin_sound_(84).wav', 'violin_sound_(85).wav', 'violin_sound_(86).wav', 'violin_sound_(87).wav', 'violin_sound_(88).wav', 'violin_sound_(89).wav', 'violin_sound_(9).wav', 'violin_sound_(90).wav', 'violin_sound_(91).wav', 'violin_sound_(92).wav', 'violin_sound_(93).wav', 'violin_sound_(94).wav', 'violin_sound_(95).wav', 'violin_sound_(96).wav', 'violin_sound_(97).wav', 'violin_sound_(98).wav', 'violin_sound_(99).wav', 'vn-ord-a4-ff-2c.wav', 'vn-ord-a4-mf-2c.wav', 'vn-ord-a4-pp-2c.wav', 'vn-ord-a5-ff-1c.wav', 'vn-ord-a5-ff-2c.wav', 'vn-ord-a5-mf-1c.wav', 'vn-ord-a5-mf-2c.wav', 'vn-ord-a5-pp-1c.wav', 'vn-ord-a5-pp-2c.wav', 'vn-ord-a6-ff-1c.wav', 'vn-ord-a6-mf-1c.wav', 'vn-ord-a6-mf-2c.wav', 'vn-ord-a6-pp-1c.wav', 'vn-ord-a6-pp-2c.wav', 'vn-ord-b4-ff-2c.wav', 'vn-ord-b4-mf-2c.wav', 'vn-ord-b4-pp-2c.wav', 'vn-ord-b5-ff-1c.wav', 'vn-ord-b5-ff-2c.wav', 'vn-ord-b5-mf-1c.wav', 'vn-ord-b5-mf-2c.wav', 'vn-ord-b5-pp-1c.wav', 'vn-ord-b5-pp-2c.wav', 'vn-ord-b6-ff-1c.wav', 'vn-ord-b6-mf-1c.wav', 'vn-ord-b6-pp-1c.wav', 'vn-ord-c5-ff-2c.wav', 'vn-ord-c5-mf-2c.wav', 'vn-ord-c5-pp-2c.wav', 'vn-ord-c6-ff-1c.wav', 'vn-ord-c6-ff-2c.wav', 'vn-ord-c6-mf-1c.wav', 'vn-ord-c6-mf-2c.wav', 'vn-ord-c6-pp-1c.wav', 'vn-ord-c6-pp-2c.wav', 'vn-ord-c7-ff-1c.wav', 'vn-ord-c7-mf-1c.wav', 'vn-ord-c7-pp-1c.wav', 'vn-ord-d5-ff-2c.wav', 'vn-ord-d5-mf-2c.wav', 'vn-ord-d5-pp-2c.wav', 'vn-ord-d6-ff-1c.wav', 'vn-ord-d6-ff-2c.wav', 'vn-ord-d6-mf-1c.wav', 'vn-ord-d6-mf-2c.wav', 'vn-ord-d6-pp-1c.wav', 'vn-ord-d6-pp-2c.wav', 'vn-ord-d7-ff-1c.wav', 'vn-ord-d7-mf-1c.wav', 'vn-ord-d7-pp-1c.wav', 'vn-ord-e5-ff-1c.wav', 'vn-ord-e5-ff-2c.wav', 'vn-ord-e5-mf-1c.wav', 'vn-ord-e5-mf-2c.wav', 'vn-ord-e5-pp-1c.wav', 'vn-ord-e5-pp-2c.wav', 'vn-ord-e6-ff-1c.wav', 'vn-ord-e6-ff-2c.wav', 'vn-ord-e6-mf-1c.wav', 'vn-ord-e6-mf-2c.wav', 'vn-ord-e6-pp-1c.wav', 'vn-ord-e6-pp-2c.wav', 'vn-ord-e7-ff-1c.wav', 'vn-ord-e7-mf-1c.wav', 'vn-ord-e7-pp-1c.wav', 'vn-ord-f5-ff-1c.wav', 'vn-ord-f5-ff-2c.wav', 'vn-ord-f5-mf-1c.wav', 'vn-ord-f5-mf-2c.wav', 'vn-ord-f5-pp-1c.wav', 'vn-ord-f5-pp-2c.wav', 'vn-ord-f6-ff-1c.wav', 'vn-ord-f6-ff-2c.wav', 'vn-ord-f6-mf-1c.wav', 'vn-ord-f6-mf-2c.wav', 'vn-ord-f6-pp-1c.wav', 'vn-ord-f6-pp-2c.wav', 'vn-ord-g5-ff-1c.wav', 'vn-ord-g5-ff-2c.wav', 'vn-ord-g5-mf-1c.wav', 'vn-ord-g5-mf-2c.wav', 'vn-ord-g5-pp-1c.wav', 'vn-ord-g5-pp-2c.wav', 'vn-ord-g6-ff-1cr.wav', 'vn-ord-g6-ff-2c.wav', 'vn-ord-g6-mf-1c.wav', 'vn-ord-g6-mf-2c.wav', 'vn-ord-g6-pp-1c.wav', 'vn-ord-g6-pp-2c.wav', 'wavedrum02_39kd_(1).wav', 'wavedrum02_39kd_(10).wav', 'wavedrum02_39kd_(100).wav', 'wavedrum02_39kd_(101).wav', 'wavedrum02_39kd_(102).wav', 'wavedrum02_39kd_(103).wav', 'wavedrum02_39kd_(104).wav', 'wavedrum02_39kd_(105).wav', 'wavedrum02_39kd_(106).wav', 'wavedrum02_39kd_(107).wav', 'wavedrum02_39kd_(108).wav', 'wavedrum02_39kd_(109).wav', 'wavedrum02_39kd_(11).wav', 'wavedrum02_39kd_(110).wav', 'wavedrum02_39kd_(111).wav', 'wavedrum02_39kd_(112).wav', 'wavedrum02_39kd_(113).wav', 'wavedrum02_39kd_(114).wav', 'wavedrum02_39kd_(115).wav', 'wavedrum02_39kd_(116).wav', 'wavedrum02_39kd_(117).wav', 'wavedrum02_39kd_(118).wav', 'wavedrum02_39kd_(119).wav', 'wavedrum02_39kd_(12).wav', 'wavedrum02_39kd_(120).wav', 'wavedrum02_39kd_(121).wav', 'wavedrum02_39kd_(122).wav', 'wavedrum02_39kd_(123).wav', 'wavedrum02_39kd_(124).wav', 'wavedrum02_39kd_(125).wav', 'wavedrum02_39kd_(126).wav', 'wavedrum02_39kd_(127).wav', 'wavedrum02_39kd_(128).wav', 'wavedrum02_39kd_(129).wav', 'wavedrum02_39kd_(13).wav', 'wavedrum02_39kd_(130).wav', 'wavedrum02_39kd_(131).wav', 'wavedrum02_39kd_(132).wav', 'wavedrum02_39kd_(133).wav', 'wavedrum02_39kd_(14).wav', 'wavedrum02_39kd_(15).wav', 'wavedrum02_39kd_(16).wav', 'wavedrum02_39kd_(17).wav', 'wavedrum02_39kd_(18).wav', 'wavedrum02_39kd_(19).wav', 'wavedrum02_39kd_(2).wav', 'wavedrum02_39kd_(20).wav', 'wavedrum02_39kd_(21).wav', 'wavedrum02_39kd_(22).wav', 'wavedrum02_39kd_(23).wav', 'wavedrum02_39kd_(24).wav', 'wavedrum02_39kd_(25).wav', 'wavedrum02_39kd_(26).wav', 'wavedrum02_39kd_(27).wav', 'wavedrum02_39kd_(28).wav', 'wavedrum02_39kd_(29).wav', 'wavedrum02_39kd_(3).wav', 'wavedrum02_39kd_(30).wav', 'wavedrum02_39kd_(31).wav', 'wavedrum02_39kd_(32).wav', 'wavedrum02_39kd_(33).wav', 'wavedrum02_39kd_(34).wav', 'wavedrum02_39kd_(35).wav', 'wavedrum02_39kd_(36).wav', 'wavedrum02_39kd_(37).wav', 'wavedrum02_39kd_(38).wav', 'wavedrum02_39kd_(39).wav', 'wavedrum02_39kd_(4).wav', 'wavedrum02_39kd_(40).wav', 'wavedrum02_39kd_(41).wav', 'wavedrum02_39kd_(42).wav', 'wavedrum02_39kd_(43).wav', 'wavedrum02_39kd_(44).wav', 'wavedrum02_39kd_(45).wav', 'wavedrum02_39kd_(46).wav', 'wavedrum02_39kd_(47).wav', 'wavedrum02_39kd_(48).wav', 'wavedrum02_39kd_(49).wav', 'wavedrum02_39kd_(5).wav', 'wavedrum02_39kd_(50).wav', 'wavedrum02_39kd_(51).wav', 'wavedrum02_39kd_(52).wav', 'wavedrum02_39kd_(53).wav', 'wavedrum02_39kd_(54).wav', 'wavedrum02_39kd_(55).wav', 'wavedrum02_39kd_(56).wav', 'wavedrum02_39kd_(57).wav', 'wavedrum02_39kd_(58).wav', 'wavedrum02_39kd_(59).wav', 'wavedrum02_39kd_(6).wav', 'wavedrum02_39kd_(60).wav', 'wavedrum02_39kd_(61).wav', 'wavedrum02_39kd_(62).wav', 'wavedrum02_39kd_(63).wav', 'wavedrum02_39kd_(64).wav', 'wavedrum02_39kd_(65).wav', 'wavedrum02_39kd_(66).wav', 'wavedrum02_39kd_(67).wav', 'wavedrum02_39kd_(68).wav', 'wavedrum02_39kd_(69).wav', 'wavedrum02_39kd_(7).wav', 'wavedrum02_39kd_(70).wav', 'wavedrum02_39kd_(71).wav', 'wavedrum02_39kd_(72).wav', 'wavedrum02_39kd_(73).wav', 'wavedrum02_39kd_(74).wav', 'wavedrum02_39kd_(75).wav', 'wavedrum02_39kd_(76).wav', 'wavedrum02_39kd_(77).wav', 'wavedrum02_39kd_(78).wav', 'wavedrum02_39kd_(79).wav', 'wavedrum02_39kd_(8).wav', 'wavedrum02_39kd_(80).wav', 'wavedrum02_39kd_(81).wav', 'wavedrum02_39kd_(82).wav', 'wavedrum02_39kd_(83).wav', 'wavedrum02_39kd_(84).wav', 'wavedrum02_39kd_(85).wav', 'wavedrum02_39kd_(86).wav', 'wavedrum02_39kd_(87).wav', 'wavedrum02_39kd_(88).wav', 'wavedrum02_39kd_(89).wav', 'wavedrum02_39kd_(9).wav', 'wavedrum02_39kd_(90).wav', 'wavedrum02_39kd_(91).wav', 'wavedrum02_39kd_(92).wav', 'wavedrum02_39kd_(93).wav', 'wavedrum02_39kd_(94).wav', 'wavedrum02_39kd_(95).wav', 'wavedrum02_39kd_(96).wav', 'wavedrum02_39kd_(97).wav', 'wavedrum02_39kd_(98).wav', 'wavedrum02_39kd_(99).wav', 'wavedrum02_43hh_(1).wav', 'wavedrum02_43hh_(10).wav', 'wavedrum02_43hh_(100).wav', 'wavedrum02_43hh_(101).wav', 'wavedrum02_43hh_(102).wav', 'wavedrum02_43hh_(103).wav', 'wavedrum02_43hh_(104).wav', 'wavedrum02_43hh_(105).wav', 'wavedrum02_43hh_(106).wav', 'wavedrum02_43hh_(107).wav', 'wavedrum02_43hh_(108).wav', 'wavedrum02_43hh_(109).wav', 'wavedrum02_43hh_(11).wav', 'wavedrum02_43hh_(110).wav', 'wavedrum02_43hh_(111).wav', 'wavedrum02_43hh_(112).wav', 'wavedrum02_43hh_(113).wav', 'wavedrum02_43hh_(114).wav', 'wavedrum02_43hh_(115).wav', 'wavedrum02_43hh_(116).wav', 'wavedrum02_43hh_(117).wav', 'wavedrum02_43hh_(118).wav', 'wavedrum02_43hh_(119).wav', 'wavedrum02_43hh_(12).wav', 'wavedrum02_43hh_(120).wav', 'wavedrum02_43hh_(121).wav', 'wavedrum02_43hh_(122).wav', 'wavedrum02_43hh_(123).wav', 'wavedrum02_43hh_(124).wav', 'wavedrum02_43hh_(125).wav', 'wavedrum02_43hh_(126).wav', 'wavedrum02_43hh_(127).wav', 'wavedrum02_43hh_(128).wav', 'wavedrum02_43hh_(129).wav', 'wavedrum02_43hh_(13).wav', 'wavedrum02_43hh_(130).wav', 'wavedrum02_43hh_(131).wav', 'wavedrum02_43hh_(132).wav', 'wavedrum02_43hh_(133).wav', 'wavedrum02_43hh_(14).wav', 'wavedrum02_43hh_(15).wav', 'wavedrum02_43hh_(16).wav', 'wavedrum02_43hh_(17).wav', 'wavedrum02_43hh_(18).wav', 'wavedrum02_43hh_(19).wav', 'wavedrum02_43hh_(2).wav', 'wavedrum02_43hh_(20).wav', 'wavedrum02_43hh_(21).wav', 'wavedrum02_43hh_(22).wav', 'wavedrum02_43hh_(23).wav', 'wavedrum02_43hh_(24).wav', 'wavedrum02_43hh_(25).wav', 'wavedrum02_43hh_(26).wav', 'wavedrum02_43hh_(27).wav', 'wavedrum02_43hh_(28).wav', 'wavedrum02_43hh_(29).wav', 'wavedrum02_43hh_(3).wav', 'wavedrum02_43hh_(30).wav', 'wavedrum02_43hh_(31).wav', 'wavedrum02_43hh_(32).wav', 'wavedrum02_43hh_(33).wav', 'wavedrum02_43hh_(34).wav', 'wavedrum02_43hh_(35).wav', 'wavedrum02_43hh_(36).wav', 'wavedrum02_43hh_(37).wav', 'wavedrum02_43hh_(38).wav', 'wavedrum02_43hh_(39).wav', 'wavedrum02_43hh_(4).wav', 'wavedrum02_43hh_(40).wav', 'wavedrum02_43hh_(41).wav', 'wavedrum02_43hh_(42).wav', 'wavedrum02_43hh_(43).wav', 'wavedrum02_43hh_(44).wav', 'wavedrum02_43hh_(45).wav', 'wavedrum02_43hh_(46).wav', 'wavedrum02_43hh_(47).wav', 'wavedrum02_43hh_(48).wav', 'wavedrum02_43hh_(49).wav', 'wavedrum02_43hh_(5).wav', 'wavedrum02_43hh_(50).wav', 'wavedrum02_43hh_(51).wav', 'wavedrum02_43hh_(52).wav', 'wavedrum02_43hh_(53).wav', 'wavedrum02_43hh_(54).wav', 'wavedrum02_43hh_(55).wav', 'wavedrum02_43hh_(56).wav', 'wavedrum02_43hh_(57).wav', 'wavedrum02_43hh_(58).wav', 'wavedrum02_43hh_(59).wav', 'wavedrum02_43hh_(6).wav', 'wavedrum02_43hh_(60).wav', 'wavedrum02_43hh_(61).wav', 'wavedrum02_43hh_(62).wav', 'wavedrum02_43hh_(63).wav', 'wavedrum02_43hh_(64).wav', 'wavedrum02_43hh_(65).wav', 'wavedrum02_43hh_(66).wav', 'wavedrum02_43hh_(67).wav', 'wavedrum02_43hh_(68).wav', 'wavedrum02_43hh_(69).wav', 'wavedrum02_43hh_(7).wav', 'wavedrum02_43hh_(70).wav', 'wavedrum02_43hh_(71).wav', 'wavedrum02_43hh_(72).wav', 'wavedrum02_43hh_(73).wav', 'wavedrum02_43hh_(74).wav', 'wavedrum02_43hh_(75).wav', 'wavedrum02_43hh_(76).wav', 'wavedrum02_43hh_(77).wav', 'wavedrum02_43hh_(78).wav', 'wavedrum02_43hh_(79).wav', 'wavedrum02_43hh_(8).wav', 'wavedrum02_43hh_(80).wav', 'wavedrum02_43hh_(81).wav', 'wavedrum02_43hh_(82).wav', 'wavedrum02_43hh_(83).wav', 'wavedrum02_43hh_(84).wav', 'wavedrum02_43hh_(85).wav', 'wavedrum02_43hh_(86).wav', 'wavedrum02_43hh_(87).wav', 'wavedrum02_43hh_(88).wav', 'wavedrum02_43hh_(89).wav', 'wavedrum02_43hh_(9).wav', 'wavedrum02_43hh_(90).wav', 'wavedrum02_43hh_(91).wav', 'wavedrum02_43hh_(92).wav', 'wavedrum02_43hh_(93).wav', 'wavedrum02_43hh_(94).wav', 'wavedrum02_43hh_(95).wav', 'wavedrum02_43hh_(96).wav', 'wavedrum02_43hh_(97).wav', 'wavedrum02_43hh_(98).wav', 'wavedrum02_43hh_(99).wav', 'wavedrum02_45sd_(1).wav', 'wavedrum02_45sd_(10).wav', 'wavedrum02_45sd_(100).wav', 'wavedrum02_45sd_(101).wav', 'wavedrum02_45sd_(102).wav', 'wavedrum02_45sd_(103).wav', 'wavedrum02_45sd_(104).wav', 'wavedrum02_45sd_(105).wav', 'wavedrum02_45sd_(106).wav', 'wavedrum02_45sd_(107).wav', 'wavedrum02_45sd_(108).wav', 'wavedrum02_45sd_(109).wav', 'wavedrum02_45sd_(11).wav', 'wavedrum02_45sd_(110).wav', 'wavedrum02_45sd_(111).wav', 'wavedrum02_45sd_(112).wav', 'wavedrum02_45sd_(113).wav', 'wavedrum02_45sd_(114).wav', 'wavedrum02_45sd_(115).wav', 'wavedrum02_45sd_(116).wav', 'wavedrum02_45sd_(117).wav', 'wavedrum02_45sd_(118).wav', 'wavedrum02_45sd_(119).wav', 'wavedrum02_45sd_(12).wav', 'wavedrum02_45sd_(120).wav', 'wavedrum02_45sd_(121).wav', 'wavedrum02_45sd_(122).wav', 'wavedrum02_45sd_(123).wav', 'wavedrum02_45sd_(124).wav', 'wavedrum02_45sd_(125).wav', 'wavedrum02_45sd_(126).wav', 'wavedrum02_45sd_(127).wav', 'wavedrum02_45sd_(128).wav', 'wavedrum02_45sd_(129).wav', 'wavedrum02_45sd_(13).wav', 'wavedrum02_45sd_(130).wav', 'wavedrum02_45sd_(131).wav', 'wavedrum02_45sd_(132).wav', 'wavedrum02_45sd_(133).wav', 'wavedrum02_45sd_(134).wav', 'wavedrum02_45sd_(14).wav', 'wavedrum02_45sd_(15).wav', 'wavedrum02_45sd_(16).wav', 'wavedrum02_45sd_(17).wav', 'wavedrum02_45sd_(18).wav', 'wavedrum02_45sd_(19).wav', 'wavedrum02_45sd_(2).wav', 'wavedrum02_45sd_(20).wav', 'wavedrum02_45sd_(21).wav', 'wavedrum02_45sd_(22).wav', 'wavedrum02_45sd_(23).wav', 'wavedrum02_45sd_(24).wav', 'wavedrum02_45sd_(25).wav', 'wavedrum02_45sd_(26).wav', 'wavedrum02_45sd_(27).wav', 'wavedrum02_45sd_(28).wav', 'wavedrum02_45sd_(29).wav', 'wavedrum02_45sd_(3).wav', 'wavedrum02_45sd_(30).wav', 'wavedrum02_45sd_(31).wav', 'wavedrum02_45sd_(32).wav', 'wavedrum02_45sd_(33).wav', 'wavedrum02_45sd_(34).wav', 'wavedrum02_45sd_(35).wav', 'wavedrum02_45sd_(36).wav', 'wavedrum02_45sd_(37).wav', 'wavedrum02_45sd_(38).wav', 'wavedrum02_45sd_(39).wav', 'wavedrum02_45sd_(4).wav', 'wavedrum02_45sd_(40).wav', 'wavedrum02_45sd_(41).wav', 'wavedrum02_45sd_(42).wav', 'wavedrum02_45sd_(43).wav', 'wavedrum02_45sd_(44).wav', 'wavedrum02_45sd_(45).wav', 'wavedrum02_45sd_(46).wav', 'wavedrum02_45sd_(47).wav', 'wavedrum02_45sd_(48).wav', 'wavedrum02_45sd_(49).wav', 'wavedrum02_45sd_(5).wav', 'wavedrum02_45sd_(50).wav', 'wavedrum02_45sd_(51).wav', 'wavedrum02_45sd_(52).wav', 'wavedrum02_45sd_(53).wav', 'wavedrum02_45sd_(54).wav', 'wavedrum02_45sd_(55).wav', 'wavedrum02_45sd_(56).wav', 'wavedrum02_45sd_(57).wav', 'wavedrum02_45sd_(58).wav', 'wavedrum02_45sd_(59).wav', 'wavedrum02_45sd_(6).wav', 'wavedrum02_45sd_(60).wav', 'wavedrum02_45sd_(61).wav', 'wavedrum02_45sd_(62).wav', 'wavedrum02_45sd_(63).wav', 'wavedrum02_45sd_(64).wav', 'wavedrum02_45sd_(65).wav', 'wavedrum02_45sd_(66).wav', 'wavedrum02_45sd_(67).wav', 'wavedrum02_45sd_(68).wav', 'wavedrum02_45sd_(69).wav', 'wavedrum02_45sd_(7).wav', 'wavedrum02_45sd_(70).wav', 'wavedrum02_45sd_(71).wav', 'wavedrum02_45sd_(72).wav', 'wavedrum02_45sd_(73).wav', 'wavedrum02_45sd_(74).wav', 'wavedrum02_45sd_(75).wav', 'wavedrum02_45sd_(76).wav', 'wavedrum02_45sd_(77).wav', 'wavedrum02_45sd_(78).wav', 'wavedrum02_45sd_(79).wav', 'wavedrum02_45sd_(8).wav', 'wavedrum02_45sd_(80).wav', 'wavedrum02_45sd_(81).wav', 'wavedrum02_45sd_(82).wav', 'wavedrum02_45sd_(83).wav', 'wavedrum02_45sd_(84).wav', 'wavedrum02_45sd_(85).wav', 'wavedrum02_45sd_(86).wav', 'wavedrum02_45sd_(87).wav', 'wavedrum02_45sd_(88).wav', 'wavedrum02_45sd_(89).wav', 'wavedrum02_45sd_(9).wav', 'wavedrum02_45sd_(90).wav', 'wavedrum02_45sd_(91).wav', 'wavedrum02_45sd_(92).wav', 'wavedrum02_45sd_(93).wav', 'wavedrum02_45sd_(94).wav', 'wavedrum02_45sd_(95).wav', 'wavedrum02_45sd_(96).wav', 'wavedrum02_45sd_(97).wav', 'wavedrum02_45sd_(98).wav', 'wavedrum02_45sd_(99).wav']\n",
      "True\n"
     ]
    }
   ],
   "source": [
    "from inda_mir.modeling.models.classifier import InstrumentClassifier\n",
    "\n",
    "\n",
    "classifier = InstrumentClassifier(model)\n",
    "\n",
    "print(os.listdir('/mnt/y/CODES/track_classifier/misd/Train_submission/Train_submission/'))\n",
    "print(os.path.exists(os.path.join(train_path, 'wavedrum02_45sd_(94).wav')))"
   ]
  },
  {
   "cell_type": "code",
   "execution_count": 28,
   "metadata": {},
   "outputs": [
    {
     "name": "stderr",
     "output_type": "stream",
     "text": [
      "0it [00:00, ?it/s]2024-04-17 04:38:30,927 - INFO - classifier - Extracting /mnt/y/CODES/track_classifier/misd/Test_submission/Test_submission/Sad-Violin-A-wwwfesliyanstudioscom features...\n"
     ]
    },
    {
     "name": "stdout",
     "output_type": "stream",
     "text": [
      "/mnt/y/CODES/track_classifier/misd/Test_submission/Test_submission/Sad-Violin-A-www.fesliyanstudios.com.wav\n",
      "/mnt/y/CODES/track_classifier/misd/Test_submission/Test_submission/Sad-Violin-A-www.fesliyanstudios.com.wav\n",
      "['Sad-Violin-A-www', 'fesliyanstudios', 'com', 'wav']\n"
     ]
    },
    {
     "name": "stderr",
     "output_type": "stream",
     "text": [
      "2024-04-17 04:38:31,162 - INFO - classifier - Classified \"/mnt/y/CODES/track_classifier/misd/Test_submission/Test_submission/Sad-Violin-A-wwwfesliyanstudioscom\" as \"silence\"!\n",
      "1it [00:00,  3.93it/s]2024-04-17 04:38:31,185 - INFO - classifier - Extracting /mnt/y/CODES/track_classifier/misd/Test_submission/Test_submission/Sad-Violin-C-wwwfesliyanstudioscom features...\n"
     ]
    },
    {
     "name": "stdout",
     "output_type": "stream",
     "text": [
      "\u001b[H\u001b[2J/mnt/y/CODES/track_classifier/misd/Test_submission/Test_submission/Sad-Violin-C-www.fesliyanstudios.com.wav\n",
      "/mnt/y/CODES/track_classifier/misd/Test_submission/Test_submission/Sad-Violin-C-www.fesliyanstudios.com.wav\n",
      "['Sad-Violin-C-www', 'fesliyanstudios', 'com', 'wav']\n"
     ]
    },
    {
     "name": "stderr",
     "output_type": "stream",
     "text": [
      "2024-04-17 04:38:31,490 - INFO - classifier - Classified \"/mnt/y/CODES/track_classifier/misd/Test_submission/Test_submission/Sad-Violin-C-wwwfesliyanstudioscom\" as \"silence\"!\n",
      "2it [00:00,  3.40it/s]2024-04-17 04:38:31,503 - INFO - classifier - Extracting /mnt/y/CODES/track_classifier/misd/Test_submission/Test_submission/Sad-Violin-D-wwwfesliyanstudioscom features...\n"
     ]
    },
    {
     "name": "stdout",
     "output_type": "stream",
     "text": [
      "\u001b[H\u001b[2J/mnt/y/CODES/track_classifier/misd/Test_submission/Test_submission/Sad-Violin-D-www.fesliyanstudios.com.wav\n",
      "/mnt/y/CODES/track_classifier/misd/Test_submission/Test_submission/Sad-Violin-D-www.fesliyanstudios.com.wav\n",
      "['Sad-Violin-D-www', 'fesliyanstudios', 'com', 'wav']\n"
     ]
    },
    {
     "name": "stderr",
     "output_type": "stream",
     "text": [
      "2024-04-17 04:38:31,703 - INFO - classifier - Classified \"/mnt/y/CODES/track_classifier/misd/Test_submission/Test_submission/Sad-Violin-D-wwwfesliyanstudioscom\" as \"silence\"!\n",
      "3it [00:00,  3.87it/s]2024-04-17 04:38:31,720 - INFO - classifier - Extracting /mnt/y/CODES/track_classifier/misd/Test_submission/Test_submission/Sad-Violin-Fast-E-wwwfesliyanstudioscom features...\n"
     ]
    },
    {
     "name": "stdout",
     "output_type": "stream",
     "text": [
      "\u001b[H\u001b[2J/mnt/y/CODES/track_classifier/misd/Test_submission/Test_submission/Sad-Violin-Fast-E-www.fesliyanstudios.com.wav\n",
      "/mnt/y/CODES/track_classifier/misd/Test_submission/Test_submission/Sad-Violin-Fast-E-www.fesliyanstudios.com.wav\n",
      "['Sad-Violin-Fast-E-www', 'fesliyanstudios', 'com', 'wav']\n"
     ]
    },
    {
     "name": "stderr",
     "output_type": "stream",
     "text": [
      "2024-04-17 04:38:31,978 - INFO - classifier - Classified \"/mnt/y/CODES/track_classifier/misd/Test_submission/Test_submission/Sad-Violin-Fast-E-wwwfesliyanstudioscom\" as \"silence\"!\n",
      "4it [00:01,  3.77it/s]2024-04-17 04:38:31,994 - INFO - classifier - Extracting /mnt/y/CODES/track_classifier/misd/Test_submission/Test_submission/Sad-Violin-G-wwwfesliyanstudioscom features...\n"
     ]
    },
    {
     "name": "stdout",
     "output_type": "stream",
     "text": [
      "\u001b[H\u001b[2J/mnt/y/CODES/track_classifier/misd/Test_submission/Test_submission/Sad-Violin-G-www.fesliyanstudios.com.wav\n",
      "/mnt/y/CODES/track_classifier/misd/Test_submission/Test_submission/Sad-Violin-G-www.fesliyanstudios.com.wav\n",
      "['Sad-Violin-G-www', 'fesliyanstudios', 'com', 'wav']\n"
     ]
    },
    {
     "name": "stderr",
     "output_type": "stream",
     "text": [
      "2024-04-17 04:38:32,295 - INFO - classifier - Classified \"/mnt/y/CODES/track_classifier/misd/Test_submission/Test_submission/Sad-Violin-G-wwwfesliyanstudioscom\" as \"silence\"!\n",
      "5it [00:01,  3.53it/s]2024-04-17 04:38:32,310 - INFO - classifier - Extracting /mnt/y/CODES/track_classifier/misd/Test_submission/Test_submission/Sad-Violin-H-wwwfesliyanstudioscom features...\n"
     ]
    },
    {
     "name": "stdout",
     "output_type": "stream",
     "text": [
      "\u001b[H\u001b[2J/mnt/y/CODES/track_classifier/misd/Test_submission/Test_submission/Sad-Violin-H-www.fesliyanstudios.com.wav\n",
      "/mnt/y/CODES/track_classifier/misd/Test_submission/Test_submission/Sad-Violin-H-www.fesliyanstudios.com.wav\n",
      "['Sad-Violin-H-www', 'fesliyanstudios', 'com', 'wav']\n"
     ]
    },
    {
     "name": "stderr",
     "output_type": "stream",
     "text": [
      "2024-04-17 04:38:32,564 - INFO - classifier - Classified \"/mnt/y/CODES/track_classifier/misd/Test_submission/Test_submission/Sad-Violin-H-wwwfesliyanstudioscom\" as \"silence\"!\n",
      "6it [00:01,  3.60it/s]2024-04-17 04:38:32,578 - INFO - classifier - Extracting /mnt/y/CODES/track_classifier/misd/Test_submission/Test_submission/Sad-Violin-J-Slow-wwwfesliyanstudioscom features...\n"
     ]
    },
    {
     "name": "stdout",
     "output_type": "stream",
     "text": [
      "\u001b[H\u001b[2J/mnt/y/CODES/track_classifier/misd/Test_submission/Test_submission/Sad-Violin-J-Slow-www.fesliyanstudios.com.wav\n",
      "/mnt/y/CODES/track_classifier/misd/Test_submission/Test_submission/Sad-Violin-J-Slow-www.fesliyanstudios.com.wav\n",
      "['Sad-Violin-J-Slow-www', 'fesliyanstudios', 'com', 'wav']\n"
     ]
    },
    {
     "name": "stderr",
     "output_type": "stream",
     "text": [
      "2024-04-17 04:38:32,825 - INFO - classifier - Classified \"/mnt/y/CODES/track_classifier/misd/Test_submission/Test_submission/Sad-Violin-J-Slow-wwwfesliyanstudioscom\" as \"silence\"!\n",
      "7it [00:01,  3.66it/s]2024-04-17 04:38:32,841 - INFO - classifier - Extracting /mnt/y/CODES/track_classifier/misd/Test_submission/Test_submission/Sad-Violin-Lower-F-wwwfesliyanstudioscom features...\n"
     ]
    },
    {
     "name": "stdout",
     "output_type": "stream",
     "text": [
      "\u001b[H\u001b[2J/mnt/y/CODES/track_classifier/misd/Test_submission/Test_submission/Sad-Violin-Lower-F-www.fesliyanstudios.com.wav\n",
      "/mnt/y/CODES/track_classifier/misd/Test_submission/Test_submission/Sad-Violin-Lower-F-www.fesliyanstudios.com.wav\n",
      "['Sad-Violin-Lower-F-www', 'fesliyanstudios', 'com', 'wav']\n"
     ]
    },
    {
     "name": "stderr",
     "output_type": "stream",
     "text": [
      "2024-04-17 04:38:33,058 - INFO - classifier - Classified \"/mnt/y/CODES/track_classifier/misd/Test_submission/Test_submission/Sad-Violin-Lower-F-wwwfesliyanstudioscom\" as \"silence\"!\n",
      "8it [00:02,  3.76it/s]2024-04-17 04:38:33,099 - INFO - classifier - Extracting /mnt/y/CODES/track_classifier/misd/Test_submission/Test_submission/Sad-Violin-Moderate-Speed-I-wwwfesliyanstudioscom features...\n"
     ]
    },
    {
     "name": "stdout",
     "output_type": "stream",
     "text": [
      "\u001b[H\u001b[2J/mnt/y/CODES/track_classifier/misd/Test_submission/Test_submission/Sad-Violin-Moderate-Speed-I-www.fesliyanstudios.com.wav\n",
      "/mnt/y/CODES/track_classifier/misd/Test_submission/Test_submission/Sad-Violin-Moderate-Speed-I-www.fesliyanstudios.com.wav\n",
      "['Sad-Violin-Moderate-Speed-I-www', 'fesliyanstudios', 'com', 'wav']\n"
     ]
    },
    {
     "name": "stderr",
     "output_type": "stream",
     "text": [
      "2024-04-17 04:38:33,418 - INFO - classifier - Classified \"/mnt/y/CODES/track_classifier/misd/Test_submission/Test_submission/Sad-Violin-Moderate-Speed-I-wwwfesliyanstudioscom\" as \"silence\"!\n",
      "9it [00:02,  3.44it/s]2024-04-17 04:38:33,437 - INFO - classifier - Extracting /mnt/y/CODES/track_classifier/misd/Test_submission/Test_submission/Sad-Violin-Slow-K-wwwfesliyanstudioscom features...\n"
     ]
    },
    {
     "name": "stdout",
     "output_type": "stream",
     "text": [
      "\u001b[H\u001b[2J/mnt/y/CODES/track_classifier/misd/Test_submission/Test_submission/Sad-Violin-Slow-K-www.fesliyanstudios.com.wav\n",
      "/mnt/y/CODES/track_classifier/misd/Test_submission/Test_submission/Sad-Violin-Slow-K-www.fesliyanstudios.com.wav\n",
      "['Sad-Violin-Slow-K-www', 'fesliyanstudios', 'com', 'wav']\n"
     ]
    },
    {
     "name": "stderr",
     "output_type": "stream",
     "text": [
      "2024-04-17 04:38:33,809 - INFO - classifier - Classified \"/mnt/y/CODES/track_classifier/misd/Test_submission/Test_submission/Sad-Violin-Slow-K-wwwfesliyanstudioscom\" as \"silence\"!\n",
      "10it [00:02,  3.12it/s]2024-04-17 04:38:33,824 - INFO - classifier - Extracting /mnt/y/CODES/track_classifier/misd/Test_submission/Test_submission/Va-ord-E4-ff-4c features...\n",
      "2024-04-17 04:38:33,995 - INFO - classifier - Classified \"/mnt/y/CODES/track_classifier/misd/Test_submission/Test_submission/Va-ord-E4-ff-4c\" as \"silence\"!\n",
      "11it [00:03,  3.58it/s]2024-04-17 04:38:34,012 - INFO - classifier - Extracting /mnt/y/CODES/track_classifier/misd/Test_submission/Test_submission/Va-ord-E4-mf-3c features...\n"
     ]
    },
    {
     "name": "stdout",
     "output_type": "stream",
     "text": [
      "\u001b[H\u001b[2J/mnt/y/CODES/track_classifier/misd/Test_submission/Test_submission/Va-ord-E4-ff-4c.wav\n",
      "/mnt/y/CODES/track_classifier/misd/Test_submission/Test_submission/Va-ord-E4-ff-4c.wav\n",
      "['Va-ord-E4-ff-4c', 'wav']\n",
      "\u001b[H\u001b[2J/mnt/y/CODES/track_classifier/misd/Test_submission/Test_submission/Va-ord-E4-mf-3c.wav\n",
      "/mnt/y/CODES/track_classifier/misd/Test_submission/Test_submission/Va-ord-E4-mf-3c.wav\n",
      "['Va-ord-E4-mf-3c', 'wav']\n"
     ]
    },
    {
     "name": "stderr",
     "output_type": "stream",
     "text": [
      "2024-04-17 04:38:34,171 - INFO - classifier - Classified \"/mnt/y/CODES/track_classifier/misd/Test_submission/Test_submission/Va-ord-E4-mf-3c\" as \"silence\"!\n",
      "12it [00:03,  4.03it/s]2024-04-17 04:38:34,188 - INFO - classifier - Extracting /mnt/y/CODES/track_classifier/misd/Test_submission/Test_submission/Va-ord-E4-pp-3c features...\n",
      "2024-04-17 04:38:34,334 - INFO - classifier - Classified \"/mnt/y/CODES/track_classifier/misd/Test_submission/Test_submission/Va-ord-E4-pp-3c\" as \"silence\"!\n",
      "13it [00:03,  4.50it/s]2024-04-17 04:38:34,350 - INFO - classifier - Extracting /mnt/y/CODES/track_classifier/misd/Test_submission/Test_submission/Va-ord-F3-mf-4c features...\n"
     ]
    },
    {
     "name": "stdout",
     "output_type": "stream",
     "text": [
      "\u001b[H\u001b[2J/mnt/y/CODES/track_classifier/misd/Test_submission/Test_submission/Va-ord-E4-pp-3c.wav\n",
      "/mnt/y/CODES/track_classifier/misd/Test_submission/Test_submission/Va-ord-E4-pp-3c.wav\n",
      "['Va-ord-E4-pp-3c', 'wav']\n",
      "\u001b[H\u001b[2J/mnt/y/CODES/track_classifier/misd/Test_submission/Test_submission/Va-ord-F3-mf-4c.wav\n",
      "/mnt/y/CODES/track_classifier/misd/Test_submission/Test_submission/Va-ord-F3-mf-4c.wav\n",
      "['Va-ord-F3-mf-4c', 'wav']\n"
     ]
    },
    {
     "name": "stderr",
     "output_type": "stream",
     "text": [
      "2024-04-17 04:38:34,488 - INFO - classifier - Classified \"/mnt/y/CODES/track_classifier/misd/Test_submission/Test_submission/Va-ord-F3-mf-4c\" as \"silence\"!\n",
      "14it [00:03,  4.95it/s]2024-04-17 04:38:34,504 - INFO - classifier - Extracting /mnt/y/CODES/track_classifier/misd/Test_submission/Test_submission/Va-ord-F4-ff-2c features...\n",
      "2024-04-17 04:38:34,688 - INFO - classifier - Classified \"/mnt/y/CODES/track_classifier/misd/Test_submission/Test_submission/Va-ord-F4-ff-2c\" as \"silence\"!\n",
      "15it [00:03,  4.99it/s]"
     ]
    },
    {
     "name": "stdout",
     "output_type": "stream",
     "text": [
      "\u001b[H\u001b[2J/mnt/y/CODES/track_classifier/misd/Test_submission/Test_submission/Va-ord-F4-ff-2c.wav\n",
      "/mnt/y/CODES/track_classifier/misd/Test_submission/Test_submission/Va-ord-F4-ff-2c.wav\n",
      "['Va-ord-F4-ff-2c', 'wav']\n",
      "\u001b[H\u001b[2J/mnt/y/CODES/track_classifier/misd/Test_submission/Test_submission/Va-ord-F4-mf-3c.wav\n",
      "/mnt/y/CODES/track_classifier/misd/Test_submission/Test_submission/Va-ord-F4-mf-3c.wav\n",
      "['Va-ord-F4-mf-3c', 'wav']\n"
     ]
    },
    {
     "name": "stderr",
     "output_type": "stream",
     "text": [
      "2024-04-17 04:38:34,703 - INFO - classifier - Extracting /mnt/y/CODES/track_classifier/misd/Test_submission/Test_submission/Va-ord-F4-mf-3c features...\n",
      "2024-04-17 04:38:34,882 - INFO - classifier - Classified \"/mnt/y/CODES/track_classifier/misd/Test_submission/Test_submission/Va-ord-F4-mf-3c\" as \"silence\"!\n",
      "16it [00:03,  5.02it/s]2024-04-17 04:38:34,897 - INFO - classifier - Extracting /mnt/y/CODES/track_classifier/misd/Test_submission/Test_submission/Va-ord-F5-ff-1c features...\n"
     ]
    },
    {
     "name": "stdout",
     "output_type": "stream",
     "text": [
      "\u001b[H\u001b[2J/mnt/y/CODES/track_classifier/misd/Test_submission/Test_submission/Va-ord-F5-ff-1c.wav\n",
      "/mnt/y/CODES/track_classifier/misd/Test_submission/Test_submission/Va-ord-F5-ff-1c.wav\n",
      "['Va-ord-F5-ff-1c', 'wav']\n"
     ]
    },
    {
     "name": "stderr",
     "output_type": "stream",
     "text": [
      "2024-04-17 04:38:35,102 - INFO - classifier - Classified \"/mnt/y/CODES/track_classifier/misd/Test_submission/Test_submission/Va-ord-F5-ff-1c\" as \"silence\"!\n",
      "17it [00:04,  4.86it/s]2024-04-17 04:38:35,119 - INFO - classifier - Extracting /mnt/y/CODES/track_classifier/misd/Test_submission/Test_submission/Va-ord-F5-mf-3c features...\n",
      "2024-04-17 04:38:35,250 - INFO - classifier - Classified \"/mnt/y/CODES/track_classifier/misd/Test_submission/Test_submission/Va-ord-F5-mf-3c\" as \"silence\"!\n",
      "18it [00:04,  5.33it/s]2024-04-17 04:38:35,264 - INFO - classifier - Extracting /mnt/y/CODES/track_classifier/misd/Test_submission/Test_submission/Va-ord-F6-mf-1c features...\n"
     ]
    },
    {
     "name": "stdout",
     "output_type": "stream",
     "text": [
      "\u001b[H\u001b[2J/mnt/y/CODES/track_classifier/misd/Test_submission/Test_submission/Va-ord-F5-mf-3c.wav\n",
      "/mnt/y/CODES/track_classifier/misd/Test_submission/Test_submission/Va-ord-F5-mf-3c.wav\n",
      "['Va-ord-F5-mf-3c', 'wav']\n",
      "\u001b[H\u001b[2J/mnt/y/CODES/track_classifier/misd/Test_submission/Test_submission/Va-ord-F6-mf-1c.wav\n",
      "/mnt/y/CODES/track_classifier/misd/Test_submission/Test_submission/Va-ord-F6-mf-1c.wav\n",
      "['Va-ord-F6-mf-1c', 'wav']\n"
     ]
    },
    {
     "name": "stderr",
     "output_type": "stream",
     "text": [
      "2024-04-17 04:38:35,417 - INFO - classifier - Classified \"/mnt/y/CODES/track_classifier/misd/Test_submission/Test_submission/Va-ord-F6-mf-1c\" as \"silence\"!\n",
      "19it [00:04,  5.51it/s]2024-04-17 04:38:35,431 - INFO - classifier - Extracting /mnt/y/CODES/track_classifier/misd/Test_submission/Test_submission/Va-ord-G5-ff-1c features...\n",
      "2024-04-17 04:38:35,575 - INFO - classifier - Classified \"/mnt/y/CODES/track_classifier/misd/Test_submission/Test_submission/Va-ord-G5-ff-1c\" as \"silence\"!\n",
      "20it [00:04,  5.73it/s]2024-04-17 04:38:35,590 - INFO - classifier - Extracting /mnt/y/CODES/track_classifier/misd/Test_submission/Test_submission/ROOM-room8-MUS-beethoven1 features...\n"
     ]
    },
    {
     "name": "stdout",
     "output_type": "stream",
     "text": [
      "\u001b[H\u001b[2J/mnt/y/CODES/track_classifier/misd/Test_submission/Test_submission/Va-ord-G5-ff-1c.wav\n",
      "/mnt/y/CODES/track_classifier/misd/Test_submission/Test_submission/Va-ord-G5-ff-1c.wav\n",
      "['Va-ord-G5-ff-1c', 'wav']\n",
      "\u001b[H\u001b[2J/mnt/y/CODES/track_classifier/misd/Test_submission/Test_submission/ROOM-room8-MUS-beethoven1.wav\n",
      "/mnt/y/CODES/track_classifier/misd/Test_submission/Test_submission/ROOM-room8-MUS-beethoven1.wav\n",
      "['ROOM-room8-MUS-beethoven1', 'wav']\n"
     ]
    },
    {
     "name": "stderr",
     "output_type": "stream",
     "text": [
      "2024-04-17 04:38:36,540 - INFO - classifier - Classified \"/mnt/y/CODES/track_classifier/misd/Test_submission/Test_submission/ROOM-room8-MUS-beethoven1\" as \"silence\"!\n",
      "21it [00:05,  2.42it/s]2024-04-17 04:38:36,559 - INFO - classifier - Extracting /mnt/y/CODES/track_classifier/misd/Test_submission/Test_submission/ROOM-room8-MUS-beethoven2 features...\n"
     ]
    },
    {
     "name": "stdout",
     "output_type": "stream",
     "text": [
      "\u001b[H\u001b[2J/mnt/y/CODES/track_classifier/misd/Test_submission/Test_submission/ROOM-room8-MUS-beethoven2.wav\n",
      "/mnt/y/CODES/track_classifier/misd/Test_submission/Test_submission/ROOM-room8-MUS-beethoven2.wav\n",
      "['ROOM-room8-MUS-beethoven2', 'wav']\n"
     ]
    },
    {
     "name": "stderr",
     "output_type": "stream",
     "text": [
      "2024-04-17 04:38:37,887 - INFO - classifier - Classified \"/mnt/y/CODES/track_classifier/misd/Test_submission/Test_submission/ROOM-room8-MUS-beethoven2\" as \"silence\"!\n",
      "22it [00:06,  1.44it/s]2024-04-17 04:38:37,903 - INFO - classifier - Extracting /mnt/y/CODES/track_classifier/misd/Test_submission/Test_submission/ROOM-room8-MUS-chords features...\n"
     ]
    },
    {
     "name": "stdout",
     "output_type": "stream",
     "text": [
      "\u001b[H\u001b[2J/mnt/y/CODES/track_classifier/misd/Test_submission/Test_submission/ROOM-room8-MUS-chords.wav\n",
      "/mnt/y/CODES/track_classifier/misd/Test_submission/Test_submission/ROOM-room8-MUS-chords.wav\n",
      "['ROOM-room8-MUS-chords', 'wav']\n"
     ]
    },
    {
     "name": "stderr",
     "output_type": "stream",
     "text": [
      "2024-04-17 04:38:38,579 - INFO - classifier - Classified \"/mnt/y/CODES/track_classifier/misd/Test_submission/Test_submission/ROOM-room8-MUS-chords\" as \"silence\"!\n",
      "23it [00:07,  1.44it/s]2024-04-17 04:38:38,600 - INFO - classifier - Extracting /mnt/y/CODES/track_classifier/misd/Test_submission/Test_submission/ROOM_room6_MUS_mozart_DEV_lg features...\n"
     ]
    },
    {
     "name": "stdout",
     "output_type": "stream",
     "text": [
      "\u001b[H\u001b[2J/mnt/y/CODES/track_classifier/misd/Test_submission/Test_submission/ROOM_room6_MUS_mozart_DEV_lg.wav\n",
      "/mnt/y/CODES/track_classifier/misd/Test_submission/Test_submission/ROOM_room6_MUS_mozart_DEV_lg.wav\n",
      "['ROOM_room6_MUS_mozart_DEV_lg', 'wav']\n"
     ]
    },
    {
     "name": "stderr",
     "output_type": "stream",
     "text": [
      "2024-04-17 04:38:39,101 - INFO - classifier - Classified \"/mnt/y/CODES/track_classifier/misd/Test_submission/Test_submission/ROOM_room6_MUS_mozart_DEV_lg\" as \"silence\"!\n",
      "24it [00:08,  1.56it/s]2024-04-17 04:38:39,116 - INFO - classifier - Extracting /mnt/y/CODES/track_classifier/misd/Test_submission/Test_submission/ROOM_room6_MUS_mozart_DEV_redmi features...\n"
     ]
    },
    {
     "name": "stdout",
     "output_type": "stream",
     "text": [
      "\u001b[H\u001b[2J/mnt/y/CODES/track_classifier/misd/Test_submission/Test_submission/ROOM_room6_MUS_mozart_DEV_redmi.wav\n",
      "/mnt/y/CODES/track_classifier/misd/Test_submission/Test_submission/ROOM_room6_MUS_mozart_DEV_redmi.wav\n",
      "['ROOM_room6_MUS_mozart_DEV_redmi', 'wav']\n"
     ]
    },
    {
     "name": "stderr",
     "output_type": "stream",
     "text": [
      "2024-04-17 04:38:39,637 - INFO - classifier - Classified \"/mnt/y/CODES/track_classifier/misd/Test_submission/Test_submission/ROOM_room6_MUS_mozart_DEV_redmi\" as \"silence\"!\n",
      "25it [00:08,  1.64it/s]2024-04-17 04:38:39,651 - INFO - classifier - Extracting /mnt/y/CODES/track_classifier/misd/Test_submission/Test_submission/ROOM_room6_MUS_mozart_DEV_stereomic features...\n"
     ]
    },
    {
     "name": "stdout",
     "output_type": "stream",
     "text": [
      "\u001b[H\u001b[2J/mnt/y/CODES/track_classifier/misd/Test_submission/Test_submission/ROOM_room6_MUS_mozart_DEV_stereomic.wav\n",
      "/mnt/y/CODES/track_classifier/misd/Test_submission/Test_submission/ROOM_room6_MUS_mozart_DEV_stereomic.wav\n",
      "['ROOM_room6_MUS_mozart_DEV_stereomic', 'wav']\n"
     ]
    },
    {
     "name": "stderr",
     "output_type": "stream",
     "text": [
      "2024-04-17 04:38:40,325 - INFO - classifier - Classified \"/mnt/y/CODES/track_classifier/misd/Test_submission/Test_submission/ROOM_room6_MUS_mozart_DEV_stereomic\" as \"silence\"!\n",
      "26it [00:09,  1.58it/s]2024-04-17 04:38:40,341 - INFO - classifier - Extracting /mnt/y/CODES/track_classifier/misd/Test_submission/Test_submission/ROOM_room6_MUS_pachelbel_DEV_amazon features...\n"
     ]
    },
    {
     "name": "stdout",
     "output_type": "stream",
     "text": [
      "\u001b[H\u001b[2J/mnt/y/CODES/track_classifier/misd/Test_submission/Test_submission/ROOM_room6_MUS_pachelbel_DEV_amazon.wav\n",
      "/mnt/y/CODES/track_classifier/misd/Test_submission/Test_submission/ROOM_room6_MUS_pachelbel_DEV_amazon.wav\n",
      "['ROOM_room6_MUS_pachelbel_DEV_amazon', 'wav']\n"
     ]
    },
    {
     "name": "stderr",
     "output_type": "stream",
     "text": [
      "2024-04-17 04:38:40,842 - INFO - classifier - Classified \"/mnt/y/CODES/track_classifier/misd/Test_submission/Test_submission/ROOM_room6_MUS_pachelbel_DEV_amazon\" as \"silence\"!\n",
      "27it [00:09,  1.67it/s]2024-04-17 04:38:40,856 - INFO - classifier - Extracting /mnt/y/CODES/track_classifier/misd/Test_submission/Test_submission/ROOM_room6_MUS_pachelbel_DEV_iphone features...\n"
     ]
    },
    {
     "name": "stdout",
     "output_type": "stream",
     "text": [
      "\u001b[H\u001b[2J/mnt/y/CODES/track_classifier/misd/Test_submission/Test_submission/ROOM_room6_MUS_pachelbel_DEV_iphone.wav\n",
      "/mnt/y/CODES/track_classifier/misd/Test_submission/Test_submission/ROOM_room6_MUS_pachelbel_DEV_iphone.wav\n",
      "['ROOM_room6_MUS_pachelbel_DEV_iphone', 'wav']\n"
     ]
    },
    {
     "name": "stderr",
     "output_type": "stream",
     "text": [
      "2024-04-17 04:38:41,302 - INFO - classifier - Classified \"/mnt/y/CODES/track_classifier/misd/Test_submission/Test_submission/ROOM_room6_MUS_pachelbel_DEV_iphone\" as \"silence\"!\n",
      "28it [00:10,  1.80it/s]2024-04-17 04:38:41,316 - INFO - classifier - Extracting /mnt/y/CODES/track_classifier/misd/Test_submission/Test_submission/ROOM_room6_MUS_pachelbel_DEV_lg features...\n"
     ]
    },
    {
     "name": "stdout",
     "output_type": "stream",
     "text": [
      "\u001b[H\u001b[2J/mnt/y/CODES/track_classifier/misd/Test_submission/Test_submission/ROOM_room6_MUS_pachelbel_DEV_lg.wav\n",
      "/mnt/y/CODES/track_classifier/misd/Test_submission/Test_submission/ROOM_room6_MUS_pachelbel_DEV_lg.wav\n",
      "['ROOM_room6_MUS_pachelbel_DEV_lg', 'wav']\n"
     ]
    },
    {
     "name": "stderr",
     "output_type": "stream",
     "text": [
      "2024-04-17 04:38:41,838 - INFO - classifier - Classified \"/mnt/y/CODES/track_classifier/misd/Test_submission/Test_submission/ROOM_room6_MUS_pachelbel_DEV_lg\" as \"silence\"!\n",
      "29it [00:10,  1.82it/s]2024-04-17 04:38:41,854 - INFO - classifier - Extracting /mnt/y/CODES/track_classifier/misd/Test_submission/Test_submission/ROOM_room7_MUS_beethoven1_DEV_amazon features...\n"
     ]
    },
    {
     "name": "stdout",
     "output_type": "stream",
     "text": [
      "\u001b[H\u001b[2J/mnt/y/CODES/track_classifier/misd/Test_submission/Test_submission/ROOM_room7_MUS_beethoven1_DEV_amazon.wav\n",
      "/mnt/y/CODES/track_classifier/misd/Test_submission/Test_submission/ROOM_room7_MUS_beethoven1_DEV_amazon.wav\n",
      "['ROOM_room7_MUS_beethoven1_DEV_amazon', 'wav']\n"
     ]
    },
    {
     "name": "stderr",
     "output_type": "stream",
     "text": [
      "2024-04-17 04:38:42,547 - INFO - classifier - Classified \"/mnt/y/CODES/track_classifier/misd/Test_submission/Test_submission/ROOM_room7_MUS_beethoven1_DEV_amazon\" as \"silence\"!\n",
      "30it [00:11,  1.67it/s]2024-04-17 04:38:42,563 - INFO - classifier - Extracting /mnt/y/CODES/track_classifier/misd/Test_submission/Test_submission/short-logo-108964 features...\n"
     ]
    },
    {
     "name": "stdout",
     "output_type": "stream",
     "text": [
      "\u001b[H\u001b[2J/mnt/y/CODES/track_classifier/misd/Test_submission/Test_submission/short-logo-108964.wav\n",
      "/mnt/y/CODES/track_classifier/misd/Test_submission/Test_submission/short-logo-108964.wav\n",
      "['short-logo-108964', 'wav']\n"
     ]
    },
    {
     "name": "stderr",
     "output_type": "stream",
     "text": [
      "2024-04-17 04:38:42,804 - INFO - classifier - Classified \"/mnt/y/CODES/track_classifier/misd/Test_submission/Test_submission/short-logo-108964\" as \"silence\"!\n",
      "31it [00:11,  2.02it/s]2024-04-17 04:38:42,821 - INFO - classifier - Extracting /mnt/y/CODES/track_classifier/misd/Test_submission/Test_submission/short-melancholic-theme-on-piano-34024 features...\n"
     ]
    },
    {
     "name": "stdout",
     "output_type": "stream",
     "text": [
      "\u001b[H\u001b[2J/mnt/y/CODES/track_classifier/misd/Test_submission/Test_submission/short-melancholic-theme-on-piano-34024.wav\n",
      "/mnt/y/CODES/track_classifier/misd/Test_submission/Test_submission/short-melancholic-theme-on-piano-34024.wav\n",
      "['short-melancholic-theme-on-piano-34024', 'wav']\n"
     ]
    },
    {
     "name": "stderr",
     "output_type": "stream",
     "text": [
      "2024-04-17 04:38:43,363 - INFO - classifier - Classified \"/mnt/y/CODES/track_classifier/misd/Test_submission/Test_submission/short-melancholic-theme-on-piano-34024\" as \"silence\"!\n",
      "32it [00:12,  1.94it/s]2024-04-17 04:38:43,377 - INFO - classifier - Extracting /mnt/y/CODES/track_classifier/misd/Test_submission/Test_submission/si-80238 features...\n",
      "2024-04-17 04:38:43,474 - INFO - classifier - Classified \"/mnt/y/CODES/track_classifier/misd/Test_submission/Test_submission/si-80238\" as \"silence\"!\n",
      "33it [00:12,  2.54it/s]2024-04-17 04:38:43,491 - INFO - classifier - Extracting /mnt/y/CODES/track_classifier/misd/Test_submission/Test_submission/soft-piano-100-bpm-121529 features...\n"
     ]
    },
    {
     "name": "stdout",
     "output_type": "stream",
     "text": [
      "\u001b[H\u001b[2J/mnt/y/CODES/track_classifier/misd/Test_submission/Test_submission/si-80238.wav\n",
      "/mnt/y/CODES/track_classifier/misd/Test_submission/Test_submission/si-80238.wav\n",
      "['si-80238', 'wav']\n",
      "\u001b[H\u001b[2J/mnt/y/CODES/track_classifier/misd/Test_submission/Test_submission/soft-piano-100-bpm-121529.wav\n",
      "/mnt/y/CODES/track_classifier/misd/Test_submission/Test_submission/soft-piano-100-bpm-121529.wav\n",
      "['soft-piano-100-bpm-121529', 'wav']\n"
     ]
    },
    {
     "name": "stderr",
     "output_type": "stream",
     "text": [
      "2024-04-17 04:38:43,959 - INFO - classifier - Classified \"/mnt/y/CODES/track_classifier/misd/Test_submission/Test_submission/soft-piano-100-bpm-121529\" as \"silence\"!\n",
      "34it [00:13,  2.38it/s]2024-04-17 04:38:43,972 - INFO - classifier - Extracting /mnt/y/CODES/track_classifier/misd/Test_submission/Test_submission/transition-piano-34391 features...\n"
     ]
    },
    {
     "name": "stdout",
     "output_type": "stream",
     "text": [
      "\u001b[H\u001b[2J/mnt/y/CODES/track_classifier/misd/Test_submission/Test_submission/transition-piano-34391.wav\n",
      "/mnt/y/CODES/track_classifier/misd/Test_submission/Test_submission/transition-piano-34391.wav\n",
      "['transition-piano-34391', 'wav']\n"
     ]
    },
    {
     "name": "stderr",
     "output_type": "stream",
     "text": [
      "2024-04-17 04:38:44,316 - INFO - classifier - Classified \"/mnt/y/CODES/track_classifier/misd/Test_submission/Test_submission/transition-piano-34391\" as \"silence\"!\n",
      "35it [00:13,  2.49it/s]2024-04-17 04:38:44,331 - INFO - classifier - Extracting /mnt/y/CODES/track_classifier/misd/Test_submission/Test_submission/warm-piano-logo-116098 features...\n"
     ]
    },
    {
     "name": "stdout",
     "output_type": "stream",
     "text": [
      "\u001b[H\u001b[2J/mnt/y/CODES/track_classifier/misd/Test_submission/Test_submission/warm-piano-logo-116098.wav\n",
      "/mnt/y/CODES/track_classifier/misd/Test_submission/Test_submission/warm-piano-logo-116098.wav\n",
      "['warm-piano-logo-116098', 'wav']\n"
     ]
    },
    {
     "name": "stderr",
     "output_type": "stream",
     "text": [
      "2024-04-17 04:38:44,777 - INFO - classifier - Classified \"/mnt/y/CODES/track_classifier/misd/Test_submission/Test_submission/warm-piano-logo-116098\" as \"silence\"!\n",
      "36it [00:13,  2.38it/s]2024-04-17 04:38:44,792 - INFO - classifier - Extracting /mnt/y/CODES/track_classifier/misd/Test_submission/Test_submission/whatever-you-say-piano-27291 features...\n"
     ]
    },
    {
     "name": "stdout",
     "output_type": "stream",
     "text": [
      "\u001b[H\u001b[2J/mnt/y/CODES/track_classifier/misd/Test_submission/Test_submission/whatever-you-say-piano-27291.wav\n",
      "/mnt/y/CODES/track_classifier/misd/Test_submission/Test_submission/whatever-you-say-piano-27291.wav\n",
      "['whatever-you-say-piano-27291', 'wav']\n"
     ]
    },
    {
     "name": "stderr",
     "output_type": "stream",
     "text": [
      "2024-04-17 04:38:45,173 - INFO - classifier - Classified \"/mnt/y/CODES/track_classifier/misd/Test_submission/Test_submission/whatever-you-say-piano-27291\" as \"silence\"!\n",
      "37it [00:14,  2.43it/s]2024-04-17 04:38:45,187 - INFO - classifier - Extracting /mnt/y/CODES/track_classifier/misd/Test_submission/Test_submission/wingrandpiano-96338 features...\n",
      "2024-04-17 04:38:45,299 - INFO - classifier - Classified \"/mnt/y/CODES/track_classifier/misd/Test_submission/Test_submission/wingrandpiano-96338\" as \"silence\"!\n",
      "38it [00:14,  3.06it/s]2024-04-17 04:38:45,314 - INFO - classifier - Extracting /mnt/y/CODES/track_classifier/misd/Test_submission/Test_submission/wondercue-111933 features...\n"
     ]
    },
    {
     "name": "stdout",
     "output_type": "stream",
     "text": [
      "\u001b[H\u001b[2J/mnt/y/CODES/track_classifier/misd/Test_submission/Test_submission/wingrandpiano-96338.wav\n",
      "/mnt/y/CODES/track_classifier/misd/Test_submission/Test_submission/wingrandpiano-96338.wav\n",
      "['wingrandpiano-96338', 'wav']\n",
      "\u001b[H\u001b[2J/mnt/y/CODES/track_classifier/misd/Test_submission/Test_submission/wondercue-111933.wav\n",
      "/mnt/y/CODES/track_classifier/misd/Test_submission/Test_submission/wondercue-111933.wav\n",
      "['wondercue-111933', 'wav']\n"
     ]
    },
    {
     "name": "stderr",
     "output_type": "stream",
     "text": [
      "2024-04-17 04:38:46,006 - INFO - classifier - Classified \"/mnt/y/CODES/track_classifier/misd/Test_submission/Test_submission/wondercue-111933\" as \"silence\"!\n",
      "39it [00:15,  2.27it/s]2024-04-17 04:38:46,021 - INFO - classifier - Extracting /mnt/y/CODES/track_classifier/misd/Test_submission/Test_submission/yuwu-quiz-113046 features...\n"
     ]
    },
    {
     "name": "stdout",
     "output_type": "stream",
     "text": [
      "\u001b[H\u001b[2J/mnt/y/CODES/track_classifier/misd/Test_submission/Test_submission/yuwu-quiz-113046.wav\n",
      "/mnt/y/CODES/track_classifier/misd/Test_submission/Test_submission/yuwu-quiz-113046.wav\n",
      "['yuwu-quiz-113046', 'wav']\n"
     ]
    },
    {
     "name": "stderr",
     "output_type": "stream",
     "text": [
      "2024-04-17 04:38:46,451 - INFO - classifier - Classified \"/mnt/y/CODES/track_classifier/misd/Test_submission/Test_submission/yuwu-quiz-113046\" as \"silence\"!\n",
      "40it [00:15,  2.57it/s]"
     ]
    },
    {
     "name": "stdout",
     "output_type": "stream",
     "text": [
      "\u001b[H\u001b[2J"
     ]
    },
    {
     "name": "stderr",
     "output_type": "stream",
     "text": [
      "\n"
     ]
    }
   ],
   "source": [
    "# test_metadata['prediction'] = test_metadata['path'].apply(lambda x: classifier.classify(x))\n",
    "csv = os.path.join(misd_path, 'test_predictions.csv')\n",
    "if os.path.exists(csv):\n",
    "    test_metadata = pd.read_csv(csv)\n",
    "\n",
    "for i, row in tqdm(test_metadata[test_metadata['prediction'] == '0'].iterrows()):\n",
    "    # if row['prediction'] != 0:\n",
    "    #     continue\n",
    "    print(row['path'])\n",
    "    pred = classifier.classify(row['path']).instrument\n",
    "    test_metadata.loc[i, 'prediction'] = pred\n",
    "    test_metadata.to_csv(os.path.join(misd_path, 'test_predictions.csv'))\n",
    "    os.system('cls' if os.name == 'nt' else 'clear')"
   ]
  },
  {
   "cell_type": "code",
   "execution_count": 27,
   "metadata": {},
   "outputs": [
    {
     "data": {
      "text/plain": [
       "prediction\n",
       "0            40\n",
       "guitar       18\n",
       "drums        16\n",
       "other         4\n",
       "keyboards     1\n",
       "silence       1\n",
       "Name: count, dtype: int64"
      ]
     },
     "execution_count": 27,
     "metadata": {},
     "output_type": "execute_result"
    }
   ],
   "source": [
    "test_metadata.prediction.value_counts()"
   ]
  }
 ],
 "metadata": {
  "kernelspec": {
   "display_name": "Python 3 (ipykernel)",
   "language": "python",
   "name": "python3"
  },
  "language_info": {
   "codemirror_mode": {
    "name": "ipython",
    "version": 3
   },
   "file_extension": ".py",
   "mimetype": "text/x-python",
   "name": "python",
   "nbconvert_exporter": "python",
   "pygments_lexer": "ipython3",
   "version": "3.11.8"
  }
 },
 "nbformat": 4,
 "nbformat_minor": 2
}
