{
 "cells": [
  {
   "cell_type": "code",
   "execution_count": null,
   "metadata": {},
   "outputs": [],
   "source": [
    "import numpy as np\n",
    "import pandas as pd\n",
    "import os\n",
    "from inda_mir.loaders import load_model, load_data_partition\n",
    "from settings import settings\n",
    "from tqdm import tqdm"
   ]
  },
  {
   "cell_type": "code",
   "execution_count": null,
   "metadata": {},
   "outputs": [],
   "source": [
    "misd_path = '/mnt/y/CODES/track_classifier/misd'\n",
    "train_csv_path = os.path.join(misd_path, 'Metadata_Train.csv')\n",
    "test_csv_path = os.path.join(misd_path, 'Metadata_Test.csv')"
   ]
  },
  {
   "cell_type": "code",
   "execution_count": null,
   "metadata": {},
   "outputs": [],
   "source": [
    "train_metadata = pd.read_csv(os.path.join(misd_path, 'train.csv'))\n",
    "test_metadata = pd.read_csv(os.path.join(misd_path, 'test.csv'))\n",
    "train_path = os.path.join(misd_path, 'train')\n",
    "test_path = os.path.join(misd_path, 'test')"
   ]
  },
  {
   "cell_type": "code",
   "execution_count": null,
   "metadata": {},
   "outputs": [
    {
     "data": {
      "text/plain": [
       "Class\n",
       "Sound_Guitar    700\n",
       "Sound_Drum      700\n",
       "Sound_Violin    700\n",
       "Sound_Piano     529\n",
       "Name: count, dtype: int64"
      ]
     },
     "execution_count": 66,
     "metadata": {},
     "output_type": "execute_result"
    }
   ],
   "source": [
    "train_metadata['Class'].value_counts()"
   ]
  },
  {
   "cell_type": "code",
   "execution_count": null,
   "metadata": {},
   "outputs": [],
   "source": [
    "import os\n",
    "\n",
    "def rename_files_to_lowercase(directory):\n",
    "    for filename in os.listdir(directory):\n",
    "        if os.path.isfile(os.path.join(directory, filename)):\n",
    "            # Get the lowercase version of the filename\n",
    "            lowercase_filename = filename.lower()\n",
    "            \n",
    "            # Get the path to the lowercase filename\n",
    "            lowercase_filepath = os.path.join(directory, lowercase_filename)\n",
    "            \n",
    "            # Rename the file to the lowercase version\n",
    "            os.rename(os.path.join(directory, filename), lowercase_filepath.replace(\"-\", \"_\"))\n",
    "\n",
    "\n",
    "# rename_files_to_lowercase(train_path)\n",
    "# rename_files_to_lowercase(test_path)\n",
    "# train_metadata['FileName'] = train_metadata['FileName'].apply(lambda x: x.lower().replace(\"-\", \"_\"))\n",
    "# test_metadata['FileName'] = test_metadata['FileName'].apply(lambda x: x.lower().replace(\"-\", \"_\"))\n",
    "\n",
    "# train_metadata['FileName'] = train_metadata['FileName'].apply(lambda x: x.replace(\" \", \"\"))\n",
    "# test_metadata['FileName'] = test_metadata['FileName'].apply(lambda x: x.replace(\" \", \"\"))\n",
    "\n",
    "# train_metadata['path'] = train_metadata['FileName'].apply(lambda x: os.path.join(train_path, x))\n",
    "# test_metadata['path'] = test_metadata['FileName'].apply(lambda x: os.path.join(test_path, x))\n",
    "\n",
    "train_metadata['prediction'] = None\n",
    "test_metadata['prediction'] = None\n",
    "\n",
    "# train_metadata.to_csv(os.path.join(misd_path, 'train.csv'))\n",
    "# test_metadata.to_csv(os.path.join(misd_path, 'test.csv'))"
   ]
  },
  {
   "cell_type": "code",
   "execution_count": null,
   "metadata": {},
   "outputs": [
    {
     "name": "stdout",
     "output_type": "stream",
     "text": [
      "Deletion cancelled.\n"
     ]
    }
   ],
   "source": [
    "def delete_ogg_files(directory):\n",
    "    for filename in os.listdir(directory):\n",
    "        if filename.endswith('.ogg'):\n",
    "            file_path = os.path.join(directory, filename)\n",
    "            try:\n",
    "                os.remove(file_path)\n",
    "                print(f\"Deleted: {filename}\")\n",
    "            except OSError as e:\n",
    "                print(f\"Error deleting {filename}: {e}\")\n",
    "\n",
    "# Specify your directory - exercise caution!\n",
    "directory = test_path\n",
    "\n",
    "# Optional: Confirmation before proceeding\n",
    "confirm = input(\"Delete all .ogg files in the directory? (yes/no): \")\n",
    "if confirm.lower() == 'yes' or confirm.lower() == 'y':\n",
    "    delete_ogg_files(directory)\n",
    "else:\n",
    "    print(\"Deletion cancelled.\")"
   ]
  },
  {
   "cell_type": "code",
   "execution_count": null,
   "metadata": {},
   "outputs": [
    {
     "data": {
      "text/html": [
       "<div>\n",
       "<style scoped>\n",
       "    .dataframe tbody tr th:only-of-type {\n",
       "        vertical-align: middle;\n",
       "    }\n",
       "\n",
       "    .dataframe tbody tr th {\n",
       "        vertical-align: top;\n",
       "    }\n",
       "\n",
       "    .dataframe thead th {\n",
       "        text-align: right;\n",
       "    }\n",
       "</style>\n",
       "<table border=\"1\" class=\"dataframe\">\n",
       "  <thead>\n",
       "    <tr style=\"text-align: right;\">\n",
       "      <th></th>\n",
       "      <th>Unnamed: 0</th>\n",
       "      <th>FileName</th>\n",
       "      <th>Class</th>\n",
       "      <th>path</th>\n",
       "      <th>prediction</th>\n",
       "    </tr>\n",
       "  </thead>\n",
       "  <tbody>\n",
       "    <tr>\n",
       "      <th>0</th>\n",
       "      <td>0</td>\n",
       "      <td>1_e1_major00.wav</td>\n",
       "      <td>Sound_Guitar</td>\n",
       "      <td>/mnt/y/CODES/track_classifier/misd/train/1_e1_...</td>\n",
       "      <td>None</td>\n",
       "    </tr>\n",
       "    <tr>\n",
       "      <th>1</th>\n",
       "      <td>1</td>\n",
       "      <td>1_e1_major01.wav</td>\n",
       "      <td>Sound_Guitar</td>\n",
       "      <td>/mnt/y/CODES/track_classifier/misd/train/1_e1_...</td>\n",
       "      <td>None</td>\n",
       "    </tr>\n",
       "    <tr>\n",
       "      <th>2</th>\n",
       "      <td>2</td>\n",
       "      <td>1_e1_major02.wav</td>\n",
       "      <td>Sound_Guitar</td>\n",
       "      <td>/mnt/y/CODES/track_classifier/misd/train/1_e1_...</td>\n",
       "      <td>None</td>\n",
       "    </tr>\n",
       "    <tr>\n",
       "      <th>3</th>\n",
       "      <td>3</td>\n",
       "      <td>1_e1_major03.wav</td>\n",
       "      <td>Sound_Guitar</td>\n",
       "      <td>/mnt/y/CODES/track_classifier/misd/train/1_e1_...</td>\n",
       "      <td>None</td>\n",
       "    </tr>\n",
       "    <tr>\n",
       "      <th>4</th>\n",
       "      <td>4</td>\n",
       "      <td>1_e1_major04.wav</td>\n",
       "      <td>Sound_Guitar</td>\n",
       "      <td>/mnt/y/CODES/track_classifier/misd/train/1_e1_...</td>\n",
       "      <td>None</td>\n",
       "    </tr>\n",
       "  </tbody>\n",
       "</table>\n",
       "</div>"
      ],
      "text/plain": [
       "   Unnamed: 0          FileName         Class  \\\n",
       "0           0  1_e1_major00.wav  Sound_Guitar   \n",
       "1           1  1_e1_major01.wav  Sound_Guitar   \n",
       "2           2  1_e1_major02.wav  Sound_Guitar   \n",
       "3           3  1_e1_major03.wav  Sound_Guitar   \n",
       "4           4  1_e1_major04.wav  Sound_Guitar   \n",
       "\n",
       "                                                path prediction  \n",
       "0  /mnt/y/CODES/track_classifier/misd/train/1_e1_...       None  \n",
       "1  /mnt/y/CODES/track_classifier/misd/train/1_e1_...       None  \n",
       "2  /mnt/y/CODES/track_classifier/misd/train/1_e1_...       None  \n",
       "3  /mnt/y/CODES/track_classifier/misd/train/1_e1_...       None  \n",
       "4  /mnt/y/CODES/track_classifier/misd/train/1_e1_...       None  "
      ]
     },
     "execution_count": 69,
     "metadata": {},
     "output_type": "execute_result"
    }
   ],
   "source": [
    "train_metadata.head()"
   ]
  },
  {
   "cell_type": "code",
   "execution_count": null,
   "metadata": {},
   "outputs": [
    {
     "data": {
      "text/plain": [
       "'/mnt/y/CODES/track_classifier/misd/train/1_e1_major_00.wav'"
      ]
     },
     "execution_count": 70,
     "metadata": {},
     "output_type": "execute_result"
    }
   ],
   "source": [
    "train_metadata['path'].iloc[0]"
   ]
  },
  {
   "cell_type": "code",
   "execution_count": null,
   "metadata": {},
   "outputs": [
    {
     "data": {
      "text/plain": [
       "<inda_mir.modeling.models.lgbm.LightGBMClassifier at 0x7f20bd192190>"
      ]
     },
     "execution_count": 71,
     "metadata": {},
     "output_type": "execute_result"
    }
   ],
   "source": [
    "model = load_model(os.path.join('/mnt/y/CODES/track_classifier/output/models/lgbm_retrained_00_46_21_27_03_2024.pkl'))\n",
    "model"
   ]
  },
  {
   "cell_type": "code",
   "execution_count": null,
   "metadata": {},
   "outputs": [
    {
     "data": {
      "text/plain": [
       "253"
      ]
     },
     "execution_count": 72,
     "metadata": {},
     "output_type": "execute_result"
    }
   ],
   "source": [
    "model.get_n_features()"
   ]
  },
  {
   "cell_type": "code",
   "execution_count": null,
   "metadata": {},
   "outputs": [],
   "source": [
    "from inda_mir.modeling.models.classifier import InstrumentClassifier\n",
    "\n",
    "\n",
    "classifier = InstrumentClassifier(model)"
   ]
  },
  {
   "cell_type": "code",
   "execution_count": null,
   "metadata": {},
   "outputs": [],
   "source": [
    "def get_predictions(df: pd.DataFrame, classifier: InstrumentClassifier, output_path) -> pd.DataFrame:\n",
    "    \n",
    "    for i, row in tqdm(df[df['prediction'].isna()].iterrows()):\n",
    "        pred = classifier.classify(row['path']).instrument\n",
    "        df.loc[i, 'prediction'] = pred\n",
    "        df.to_csv(os.path.join(output_path))\n",
    "    return df"
   ]
  },
  {
   "cell_type": "code",
   "execution_count": null,
   "metadata": {},
   "outputs": [
    {
     "name": "stderr",
     "output_type": "stream",
     "text": [
      "0it [00:00, ?it/s]2024-04-17 18:06:41,718 - INFO - classifier - Extracting 1_e1_major_00 features...\n"
     ]
    },
    {
     "name": "stderr",
     "output_type": "stream",
     "text": [
      "2024-04-17 18:06:41,808 - INFO - classifier - Classified \"1_e1_major_00\" as \"silence\"!\n",
      "1it [00:00,  8.61it/s]2024-04-17 18:06:41,834 - INFO - classifier - Extracting 1_e1_major_01 features...\n"
     ]
    },
    {
     "name": "stdout",
     "output_type": "stream",
     "text": [
      "/mnt/y/CODES/track_classifier/misd/train/1_e1_major_00.wav\n",
      "1_e1_major_00 wav\n",
      "/mnt/y/CODES/track_classifier/misd/train/1_e1_major_01.wav\n",
      "1_e1_major_01 wav\n"
     ]
    },
    {
     "name": "stderr",
     "output_type": "stream",
     "text": [
      "2024-04-17 18:06:41,925 - INFO - classifier - Classified \"1_e1_major_01\" as \"silence\"!\n",
      "2it [00:00,  8.51it/s]2024-04-17 18:06:41,953 - INFO - classifier - Extracting 1_e1_major_02 features...\n",
      "2024-04-17 18:06:42,037 - INFO - classifier - Classified \"1_e1_major_02\" as \"silence\"!\n",
      "3it [00:00,  8.70it/s]2024-04-17 18:06:42,066 - INFO - classifier - Extracting 1_e1_major_03 features...\n",
      "2024-04-17 18:06:42,149 - INFO - classifier - Classified \"1_e1_major_03\" as \"silence\"!\n"
     ]
    },
    {
     "name": "stdout",
     "output_type": "stream",
     "text": [
      "/mnt/y/CODES/track_classifier/misd/train/1_e1_major_02.wav\n",
      "1_e1_major_02 wav\n",
      "/mnt/y/CODES/track_classifier/misd/train/1_e1_major_03.wav\n",
      "1_e1_major_03 wav\n"
     ]
    },
    {
     "name": "stderr",
     "output_type": "stream",
     "text": [
      "4it [00:00,  8.89it/s]2024-04-17 18:06:42,173 - INFO - classifier - Extracting 1_e1_major_04 features...\n",
      "2024-04-17 18:06:42,257 - INFO - classifier - Classified \"1_e1_major_04\" as \"silence\"!\n",
      "5it [00:00,  8.97it/s]2024-04-17 18:06:42,284 - INFO - classifier - Extracting 1_e1_major_05 features...\n",
      "2024-04-17 18:06:42,367 - INFO - classifier - Classified \"1_e1_major_05\" as \"silence\"!\n"
     ]
    },
    {
     "name": "stdout",
     "output_type": "stream",
     "text": [
      "/mnt/y/CODES/track_classifier/misd/train/1_e1_major_04.wav\n",
      "1_e1_major_04 wav\n",
      "/mnt/y/CODES/track_classifier/misd/train/1_e1_major_05.wav\n",
      "1_e1_major_05 wav\n"
     ]
    },
    {
     "name": "stderr",
     "output_type": "stream",
     "text": [
      "6it [00:00,  8.98it/s]2024-04-17 18:06:42,394 - INFO - classifier - Extracting 1_e1_major_06 features...\n",
      "2024-04-17 18:06:42,495 - INFO - classifier - Classified \"1_e1_major_06\" as \"silence\"!\n",
      "7it [00:00,  8.55it/s]2024-04-17 18:06:42,523 - INFO - classifier - Extracting 1_e1_major_07 features...\n"
     ]
    },
    {
     "name": "stdout",
     "output_type": "stream",
     "text": [
      "/mnt/y/CODES/track_classifier/misd/train/1_e1_major_06.wav\n",
      "1_e1_major_06 wav\n",
      "/mnt/y/CODES/track_classifier/misd/train/1_e1_major_07.wav\n",
      "1_e1_major_07 wav\n"
     ]
    },
    {
     "name": "stderr",
     "output_type": "stream",
     "text": [
      "2024-04-17 18:06:42,605 - INFO - classifier - Classified \"1_e1_major_07\" as \"silence\"!\n",
      "8it [00:00,  8.78it/s]2024-04-17 18:06:42,630 - INFO - classifier - Extracting 1_e1_major_08 features...\n",
      "2024-04-17 18:06:42,712 - INFO - classifier - Classified \"1_e1_major_08\" as \"silence\"!\n",
      "9it [00:01,  8.90it/s]2024-04-17 18:06:42,739 - INFO - classifier - Extracting 1_e1_major_09 features...\n",
      "2024-04-17 18:06:42,825 - INFO - classifier - Classified \"1_e1_major_09\" as \"silence\"!\n"
     ]
    },
    {
     "name": "stdout",
     "output_type": "stream",
     "text": [
      "/mnt/y/CODES/track_classifier/misd/train/1_e1_major_08.wav\n",
      "1_e1_major_08 wav\n",
      "/mnt/y/CODES/track_classifier/misd/train/1_e1_major_09.wav\n",
      "1_e1_major_09 wav\n"
     ]
    },
    {
     "name": "stderr",
     "output_type": "stream",
     "text": [
      "10it [00:01,  8.87it/s]2024-04-17 18:06:42,853 - INFO - classifier - Extracting 1_e1_major_10 features...\n",
      "2024-04-17 18:06:42,942 - INFO - classifier - Classified \"1_e1_major_10\" as \"silence\"!\n",
      "11it [00:01,  8.79it/s]2024-04-17 18:06:42,969 - INFO - classifier - Extracting 2_e1_minor_00 features...\n"
     ]
    },
    {
     "name": "stdout",
     "output_type": "stream",
     "text": [
      "/mnt/y/CODES/track_classifier/misd/train/1_e1_major_10.wav\n",
      "1_e1_major_10 wav\n",
      "/mnt/y/CODES/track_classifier/misd/train/2_e1_minor_00.wav\n",
      "2_e1_minor_00 wav\n"
     ]
    },
    {
     "name": "stderr",
     "output_type": "stream",
     "text": [
      "2024-04-17 18:06:43,062 - INFO - classifier - Classified \"2_e1_minor_00\" as \"silence\"!\n",
      "12it [00:01,  8.59it/s]2024-04-17 18:06:43,091 - INFO - classifier - Extracting 2_e1_minor_01 features...\n",
      "2024-04-17 18:06:43,176 - INFO - classifier - Classified \"2_e1_minor_01\" as \"silence\"!\n",
      "13it [00:01,  8.79it/s]2024-04-17 18:06:43,199 - INFO - classifier - Extracting 2_e1_minor_02 features...\n",
      "2024-04-17 18:06:43,279 - INFO - classifier - Classified \"2_e1_minor_02\" as \"silence\"!\n"
     ]
    },
    {
     "name": "stdout",
     "output_type": "stream",
     "text": [
      "/mnt/y/CODES/track_classifier/misd/train/2_e1_minor_01.wav\n",
      "2_e1_minor_01 wav\n",
      "/mnt/y/CODES/track_classifier/misd/train/2_e1_minor_02.wav\n",
      "2_e1_minor_02 wav\n"
     ]
    },
    {
     "name": "stderr",
     "output_type": "stream",
     "text": [
      "14it [00:01,  8.95it/s]2024-04-17 18:06:43,311 - INFO - classifier - Extracting 2_e1_minor_03 features...\n",
      "2024-04-17 18:06:43,439 - INFO - classifier - Classified \"2_e1_minor_03\" as \"silence\"!\n",
      "15it [00:01,  7.94it/s]2024-04-17 18:06:43,466 - INFO - classifier - Extracting 2_e1_minor_04 features...\n"
     ]
    },
    {
     "name": "stdout",
     "output_type": "stream",
     "text": [
      "/mnt/y/CODES/track_classifier/misd/train/2_e1_minor_03.wav\n",
      "2_e1_minor_03 wav\n",
      "/mnt/y/CODES/track_classifier/misd/train/2_e1_minor_04.wav\n",
      "2_e1_minor_04 wav\n"
     ]
    },
    {
     "name": "stderr",
     "output_type": "stream",
     "text": [
      "2024-04-17 18:06:43,556 - INFO - classifier - Classified \"2_e1_minor_04\" as \"silence\"!\n",
      "16it [00:01,  8.11it/s]2024-04-17 18:06:43,583 - INFO - classifier - Extracting 2_e1_minor_05 features...\n",
      "2024-04-17 18:06:43,671 - INFO - classifier - Classified \"2_e1_minor_05\" as \"silence\"!\n",
      "17it [00:01,  8.37it/s]2024-04-17 18:06:43,692 - INFO - classifier - Extracting 2_e1_minor_06 features...\n",
      "2024-04-17 18:06:43,770 - INFO - classifier - Classified \"2_e1_minor_06\" as \"silence\"!\n"
     ]
    },
    {
     "name": "stdout",
     "output_type": "stream",
     "text": [
      "/mnt/y/CODES/track_classifier/misd/train/2_e1_minor_05.wav\n",
      "2_e1_minor_05 wav\n",
      "/mnt/y/CODES/track_classifier/misd/train/2_e1_minor_06.wav\n",
      "2_e1_minor_06 wav\n"
     ]
    },
    {
     "name": "stderr",
     "output_type": "stream",
     "text": [
      "18it [00:02,  8.79it/s]2024-04-17 18:06:43,792 - INFO - classifier - Extracting 2_e1_minor_07 features...\n",
      "2024-04-17 18:06:43,880 - INFO - classifier - Classified \"2_e1_minor_07\" as \"silence\"!\n",
      "19it [00:02,  8.81it/s]2024-04-17 18:06:43,905 - INFO - classifier - Extracting 2_e1_minor_08 features...\n"
     ]
    },
    {
     "name": "stdout",
     "output_type": "stream",
     "text": [
      "/mnt/y/CODES/track_classifier/misd/train/2_e1_minor_07.wav\n",
      "2_e1_minor_07 wav\n",
      "/mnt/y/CODES/track_classifier/misd/train/2_e1_minor_08.wav\n",
      "2_e1_minor_08 wav\n"
     ]
    },
    {
     "name": "stderr",
     "output_type": "stream",
     "text": [
      "2024-04-17 18:06:43,992 - INFO - classifier - Classified \"2_e1_minor_08\" as \"silence\"!\n",
      "20it [00:02,  8.88it/s]2024-04-17 18:06:44,017 - INFO - classifier - Extracting ar_a_fret_0_20 features...\n"
     ]
    },
    {
     "name": "stdout",
     "output_type": "stream",
     "text": [
      "/mnt/y/CODES/track_classifier/misd/train/ar_a_fret_0_20.wav\n",
      "ar_a_fret_0_20 wav\n"
     ]
    },
    {
     "name": "stderr",
     "output_type": "stream",
     "text": [
      "2024-04-17 18:06:44,657 - INFO - classifier - Classified \"ar_a_fret_0_20\" as \"silence\"!\n",
      "21it [00:02,  3.60it/s]2024-04-17 18:06:44,679 - INFO - classifier - Extracting ar_a_muted5 features...\n"
     ]
    },
    {
     "name": "stdout",
     "output_type": "stream",
     "text": [
      "/mnt/y/CODES/track_classifier/misd/train/ar_a_muted5.wav\n",
      "ar_a_muted5 wav\n"
     ]
    },
    {
     "name": "stderr",
     "output_type": "stream",
     "text": [
      "2024-04-17 18:06:45,013 - INFO - classifier - Classified \"ar_a_muted5\" as \"silence\"!\n",
      "22it [00:03,  3.32it/s]2024-04-17 18:06:45,034 - INFO - classifier - Extracting ar_b_fret_0_20 features...\n"
     ]
    },
    {
     "name": "stdout",
     "output_type": "stream",
     "text": [
      "/mnt/y/CODES/track_classifier/misd/train/ar_b_fret_0_20.wav\n",
      "ar_b_fret_0_20 wav\n"
     ]
    },
    {
     "name": "stderr",
     "output_type": "stream",
     "text": [
      "2024-04-17 18:06:45,650 - INFO - classifier - Classified \"ar_b_fret_0_20\" as \"silence\"!\n",
      "23it [00:03,  2.48it/s]2024-04-17 18:06:45,676 - INFO - classifier - Extracting ar_b_muted5 features...\n"
     ]
    },
    {
     "name": "stdout",
     "output_type": "stream",
     "text": [
      "/mnt/y/CODES/track_classifier/misd/train/ar_b_muted5.wav\n",
      "ar_b_muted5 wav\n"
     ]
    },
    {
     "name": "stderr",
     "output_type": "stream",
     "text": [
      "2024-04-17 18:06:45,980 - INFO - classifier - Classified \"ar_b_muted5\" as \"silence\"!\n",
      "24it [00:04,  2.63it/s]2024-04-17 18:06:46,002 - INFO - classifier - Extracting ar_dn_iii_viii_xiv features...\n"
     ]
    },
    {
     "name": "stdout",
     "output_type": "stream",
     "text": [
      "/mnt/y/CODES/track_classifier/misd/train/ar_dn_iii_viii_xiv.wav\n",
      "ar_dn_iii_viii_xiv wav\n"
     ]
    },
    {
     "name": "stderr",
     "output_type": "stream",
     "text": [
      "2024-04-17 18:06:47,252 - INFO - classifier - Classified \"ar_dn_iii_viii_xiv\" as \"silence\"!\n",
      "25it [00:05,  1.54it/s]2024-04-17 18:06:47,277 - INFO - classifier - Extracting ar_d_fret_0_20 features...\n"
     ]
    },
    {
     "name": "stdout",
     "output_type": "stream",
     "text": [
      "/mnt/y/CODES/track_classifier/misd/train/ar_d_fret_0_20.wav\n",
      "ar_d_fret_0_20 wav\n"
     ]
    },
    {
     "name": "stderr",
     "output_type": "stream",
     "text": [
      "2024-04-17 18:06:47,859 - INFO - classifier - Classified \"ar_d_fret_0_20\" as \"silence\"!\n",
      "26it [00:06,  1.57it/s]2024-04-17 18:06:47,885 - INFO - classifier - Extracting ar_d_muted5 features...\n"
     ]
    },
    {
     "name": "stdout",
     "output_type": "stream",
     "text": [
      "/mnt/y/CODES/track_classifier/misd/train/ar_d_muted5.wav\n",
      "ar_d_muted5 wav\n"
     ]
    },
    {
     "name": "stderr",
     "output_type": "stream",
     "text": [
      "2024-04-17 18:06:48,168 - INFO - classifier - Classified \"ar_d_muted5\" as \"silence\"!\n",
      "27it [00:06,  1.86it/s]2024-04-17 18:06:48,193 - INFO - classifier - Extracting ar_e1_fret_0_20 features...\n"
     ]
    },
    {
     "name": "stdout",
     "output_type": "stream",
     "text": [
      "/mnt/y/CODES/track_classifier/misd/train/ar_e1_fret_0_20.wav\n",
      "ar_e1_fret_0_20 wav\n"
     ]
    },
    {
     "name": "stderr",
     "output_type": "stream",
     "text": [
      "2024-04-17 18:06:48,819 - INFO - classifier - Classified \"ar_e1_fret_0_20\" as \"silence\"!\n",
      "28it [00:07,  1.75it/s]2024-04-17 18:06:48,839 - INFO - classifier - Extracting ar_e1_muted5 features...\n",
      "2024-04-17 18:06:49,033 - INFO - classifier - Classified \"ar_e1_muted5\" as \"silence\"!\n"
     ]
    },
    {
     "name": "stdout",
     "output_type": "stream",
     "text": [
      "/mnt/y/CODES/track_classifier/misd/train/ar_e1_muted5.wav\n",
      "ar_e1_muted5 wav\n"
     ]
    },
    {
     "name": "stderr",
     "output_type": "stream",
     "text": [
      "29it [00:07,  2.15it/s]2024-04-17 18:06:49,054 - INFO - classifier - Extracting ar_e_fret_0_20 features...\n"
     ]
    },
    {
     "name": "stdout",
     "output_type": "stream",
     "text": [
      "/mnt/y/CODES/track_classifier/misd/train/ar_e_fret_0_20.wav\n",
      "ar_e_fret_0_20 wav\n"
     ]
    },
    {
     "name": "stderr",
     "output_type": "stream",
     "text": [
      "2024-04-17 18:06:49,627 - INFO - classifier - Classified \"ar_e_fret_0_20\" as \"silence\"!\n",
      "30it [00:07,  1.99it/s]2024-04-17 18:06:49,651 - INFO - classifier - Extracting ar_e_muted5 features...\n"
     ]
    },
    {
     "name": "stdout",
     "output_type": "stream",
     "text": [
      "/mnt/y/CODES/track_classifier/misd/train/ar_e_muted5.wav\n",
      "ar_e_muted5 wav\n"
     ]
    },
    {
     "name": "stderr",
     "output_type": "stream",
     "text": [
      "2024-04-17 18:06:49,885 - INFO - classifier - Classified \"ar_e_muted5\" as \"silence\"!\n",
      "31it [00:08,  2.32it/s]2024-04-17 18:06:49,910 - INFO - classifier - Extracting ar_g_fret_0_20 features...\n"
     ]
    },
    {
     "name": "stdout",
     "output_type": "stream",
     "text": [
      "/mnt/y/CODES/track_classifier/misd/train/ar_g_fret_0_20.wav\n",
      "ar_g_fret_0_20 wav\n"
     ]
    },
    {
     "name": "stderr",
     "output_type": "stream",
     "text": [
      "2024-04-17 18:06:50,535 - INFO - classifier - Classified \"ar_g_fret_0_20\" as \"silence\"!\n",
      "32it [00:08,  2.02it/s]2024-04-17 18:06:50,557 - INFO - classifier - Extracting ar_g_muted5 features...\n"
     ]
    },
    {
     "name": "stdout",
     "output_type": "stream",
     "text": [
      "/mnt/y/CODES/track_classifier/misd/train/ar_g_muted5.wav\n",
      "ar_g_muted5 wav\n"
     ]
    },
    {
     "name": "stderr",
     "output_type": "stream",
     "text": [
      "2024-04-17 18:06:50,778 - INFO - classifier - Classified \"ar_g_muted5\" as \"silence\"!\n",
      "33it [00:09,  2.38it/s]2024-04-17 18:06:50,804 - INFO - classifier - Extracting ar_g_v_bending features...\n"
     ]
    },
    {
     "name": "stdout",
     "output_type": "stream",
     "text": [
      "/mnt/y/CODES/track_classifier/misd/train/ar_g_v_bending.wav\n",
      "ar_g_v_bending wav\n"
     ]
    },
    {
     "name": "stderr",
     "output_type": "stream",
     "text": [
      "2024-04-17 18:06:51,356 - INFO - classifier - Classified \"ar_g_v_bending\" as \"silence\"!\n",
      "34it [00:09,  2.14it/s]2024-04-17 18:06:51,376 - INFO - classifier - Extracting ar_g_v_slide features...\n"
     ]
    },
    {
     "name": "stdout",
     "output_type": "stream",
     "text": [
      "/mnt/y/CODES/track_classifier/misd/train/ar_g_v_slide.wav\n",
      "ar_g_v_slide wav\n"
     ]
    },
    {
     "name": "stderr",
     "output_type": "stream",
     "text": [
      "2024-04-17 18:06:51,953 - INFO - classifier - Classified \"ar_g_v_slide\" as \"silence\"!\n",
      "35it [00:10,  1.98it/s]2024-04-17 18:06:51,975 - INFO - classifier - Extracting ar_lick10_fn features...\n"
     ]
    },
    {
     "name": "stdout",
     "output_type": "stream",
     "text": [
      "/mnt/y/CODES/track_classifier/misd/train/ar_lick10_fn.wav\n",
      "ar_lick10_fn wav\n"
     ]
    },
    {
     "name": "stderr",
     "output_type": "stream",
     "text": [
      "2024-04-17 18:06:52,448 - INFO - classifier - Classified \"ar_lick10_fn\" as \"silence\"!\n",
      "36it [00:10,  1.99it/s]2024-04-17 18:06:52,469 - INFO - classifier - Extracting ar_lick10_kn features...\n"
     ]
    },
    {
     "name": "stdout",
     "output_type": "stream",
     "text": [
      "/mnt/y/CODES/track_classifier/misd/train/ar_lick10_kn.wav\n",
      "ar_lick10_kn wav\n"
     ]
    },
    {
     "name": "stderr",
     "output_type": "stream",
     "text": [
      "36it [00:11,  3.25it/s]\n"
     ]
    },
    {
     "ename": "KeyboardInterrupt",
     "evalue": "",
     "output_type": "error",
     "traceback": [
      "\u001b[0;31m---------------------------------------------------------------------------\u001b[0m",
      "\u001b[0;31mKeyboardInterrupt\u001b[0m                         Traceback (most recent call last)",
      "Cell \u001b[0;32mIn[75], line 2\u001b[0m\n\u001b[1;32m      1\u001b[0m \u001b[38;5;66;03m# %%capture\u001b[39;00m\n\u001b[0;32m----> 2\u001b[0m get_predictions(train_metadata, classifier, os\u001b[38;5;241m.\u001b[39mpath\u001b[38;5;241m.\u001b[39mjoin(misd_path, \u001b[38;5;124m'\u001b[39m\u001b[38;5;124mtrain.csv\u001b[39m\u001b[38;5;124m'\u001b[39m))\n",
      "Cell \u001b[0;32mIn[74], line 4\u001b[0m, in \u001b[0;36mget_predictions\u001b[0;34m(df, classifier, output_path)\u001b[0m\n\u001b[1;32m      1\u001b[0m \u001b[38;5;28;01mdef\u001b[39;00m \u001b[38;5;21mget_predictions\u001b[39m(df: pd\u001b[38;5;241m.\u001b[39mDataFrame, classifier: InstrumentClassifier, output_path) \u001b[38;5;241m-\u001b[39m\u001b[38;5;241m>\u001b[39m pd\u001b[38;5;241m.\u001b[39mDataFrame:\n\u001b[1;32m      3\u001b[0m     \u001b[38;5;28;01mfor\u001b[39;00m i, row \u001b[38;5;129;01min\u001b[39;00m tqdm(df[df[\u001b[38;5;124m'\u001b[39m\u001b[38;5;124mprediction\u001b[39m\u001b[38;5;124m'\u001b[39m]\u001b[38;5;241m.\u001b[39misna()]\u001b[38;5;241m.\u001b[39miterrows()):\n\u001b[0;32m----> 4\u001b[0m         pred \u001b[38;5;241m=\u001b[39m classifier\u001b[38;5;241m.\u001b[39mclassify(row[\u001b[38;5;124m'\u001b[39m\u001b[38;5;124mpath\u001b[39m\u001b[38;5;124m'\u001b[39m])\u001b[38;5;241m.\u001b[39minstrument\n\u001b[1;32m      5\u001b[0m         df\u001b[38;5;241m.\u001b[39mloc[i, \u001b[38;5;124m'\u001b[39m\u001b[38;5;124mprediction\u001b[39m\u001b[38;5;124m'\u001b[39m] \u001b[38;5;241m=\u001b[39m pred\n\u001b[1;32m      6\u001b[0m         df\u001b[38;5;241m.\u001b[39mto_csv(os\u001b[38;5;241m.\u001b[39mpath\u001b[38;5;241m.\u001b[39mjoin(output_path))\n",
      "File \u001b[0;32m/mnt/y/CODES/track_classifier/inda_mir/modeling/models/classifier.py:41\u001b[0m, in \u001b[0;36mInstrumentClassifier.classify\u001b[0;34m(self, filename)\u001b[0m\n\u001b[1;32m     38\u001b[0m logger\u001b[38;5;241m.\u001b[39minfo(\u001b[38;5;124mf\u001b[39m\u001b[38;5;124m'\u001b[39m\u001b[38;5;124mExtracting \u001b[39m\u001b[38;5;132;01m{\u001b[39;00mtrack_id\u001b[38;5;132;01m}\u001b[39;00m\u001b[38;5;124m features...\u001b[39m\u001b[38;5;124m'\u001b[39m)\n\u001b[1;32m     39\u001b[0m output_path \u001b[38;5;241m=\u001b[39m os\u001b[38;5;241m.\u001b[39mpath\u001b[38;5;241m.\u001b[39mjoin(settings\u001b[38;5;241m.\u001b[39mSAMPLE_OUTPUT_PATH, track_id)\n\u001b[0;32m---> 41\u001b[0m filtered_track \u001b[38;5;241m=\u001b[39m sample_and_filter_silence(\n\u001b[1;32m     42\u001b[0m     track_path\u001b[38;5;241m=\u001b[39mfilename,\n\u001b[1;32m     43\u001b[0m     input_format\u001b[38;5;241m=\u001b[39minput_format,\n\u001b[1;32m     44\u001b[0m     output_dir\u001b[38;5;241m=\u001b[39moutput_path,\n\u001b[1;32m     45\u001b[0m     output_basename\u001b[38;5;241m=\u001b[39mtrack_id,\n\u001b[1;32m     46\u001b[0m     sample_duration\u001b[38;5;241m=\u001b[39msettings\u001b[38;5;241m.\u001b[39mSAMPLE_DURATION,\n\u001b[1;32m     47\u001b[0m     silence_threshold\u001b[38;5;241m=\u001b[39msettings\u001b[38;5;241m.\u001b[39mSILENCE_THRESHOLD,\n\u001b[1;32m     48\u001b[0m     silence_duration\u001b[38;5;241m=\u001b[39msettings\u001b[38;5;241m.\u001b[39mSILENCE_DURATION,\n\u001b[1;32m     49\u001b[0m     silence_percentage\u001b[38;5;241m=\u001b[39msettings\u001b[38;5;241m.\u001b[39mSILENCE_PERCENTAGE,\n\u001b[1;32m     50\u001b[0m     sample_proportion\u001b[38;5;241m=\u001b[39msettings\u001b[38;5;241m.\u001b[39mSAMPLE_PROPORTION,\n\u001b[1;32m     51\u001b[0m     keep_trace\u001b[38;5;241m=\u001b[39m\u001b[38;5;28;01mTrue\u001b[39;00m,\n\u001b[1;32m     52\u001b[0m )\n\u001b[1;32m     54\u001b[0m \u001b[38;5;28;01mif\u001b[39;00m \u001b[38;5;28mlen\u001b[39m(filtered_track) \u001b[38;5;241m==\u001b[39m \u001b[38;5;241m0\u001b[39m:\n\u001b[1;32m     55\u001b[0m     label \u001b[38;5;241m=\u001b[39m \u001b[38;5;124m'\u001b[39m\u001b[38;5;124msilence\u001b[39m\u001b[38;5;124m'\u001b[39m\n",
      "File \u001b[0;32m/mnt/y/CODES/track_classifier/inda_mir/processing_pipelines/__init__.py:23\u001b[0m, in \u001b[0;36msample_and_filter_silence\u001b[0;34m(track_path, input_format, output_dir, output_basename, sample_duration, silence_threshold, silence_duration, silence_percentage, sample_proportion, keep_trace)\u001b[0m\n\u001b[1;32m     19\u001b[0m \u001b[38;5;28;01mif\u001b[39;00m \u001b[38;5;129;01mnot\u001b[39;00m os\u001b[38;5;241m.\u001b[39mpath\u001b[38;5;241m.\u001b[39mexists(output_dir):\n\u001b[1;32m     21\u001b[0m     os\u001b[38;5;241m.\u001b[39mmakedirs(output_dir)\n\u001b[0;32m---> 23\u001b[0m     SampleOperation()\u001b[38;5;241m.\u001b[39mapply(\n\u001b[1;32m     24\u001b[0m         audio_path\u001b[38;5;241m=\u001b[39mtrack_path,\n\u001b[1;32m     25\u001b[0m         input_format\u001b[38;5;241m=\u001b[39minput_format,\n\u001b[1;32m     26\u001b[0m         output_dir\u001b[38;5;241m=\u001b[39moutput_dir,\n\u001b[1;32m     27\u001b[0m         output_basename\u001b[38;5;241m=\u001b[39moutput_basename,\n\u001b[1;32m     28\u001b[0m         sample_duration\u001b[38;5;241m=\u001b[39msample_duration,\n\u001b[1;32m     29\u001b[0m         keep_trace\u001b[38;5;241m=\u001b[39mkeep_trace,\n\u001b[1;32m     30\u001b[0m         sample_proportion\u001b[38;5;241m=\u001b[39msample_proportion,\n\u001b[1;32m     31\u001b[0m     )\n\u001b[1;32m     33\u001b[0m not_silent_samples \u001b[38;5;241m=\u001b[39m []\n\u001b[1;32m     34\u001b[0m \u001b[38;5;28;01mfor\u001b[39;00m sample_path \u001b[38;5;129;01min\u001b[39;00m os\u001b[38;5;241m.\u001b[39mlistdir(output_dir):\n",
      "File \u001b[0;32m/mnt/y/CODES/track_classifier/inda_mir/audio_processing/sample_operation.py:44\u001b[0m, in \u001b[0;36mSampleOperation.apply\u001b[0;34m(self, audio_path, sample_proportion, input_format, output_format, sample_duration, output_dir, output_basename, keep_trace)\u001b[0m\n\u001b[1;32m     22\u001b[0m \u001b[38;5;250m\u001b[39m\u001b[38;5;124;03m\"\"\"\u001b[39;00m\n\u001b[1;32m     23\u001b[0m \u001b[38;5;124;03mApply an audio slice operation to a specified audio file.\u001b[39;00m\n\u001b[1;32m     24\u001b[0m \n\u001b[0;32m   (...)\u001b[0m\n\u001b[1;32m     34\u001b[0m \u001b[38;5;124;03m    None\u001b[39;00m\n\u001b[1;32m     35\u001b[0m \u001b[38;5;124;03m\"\"\"\u001b[39;00m\n\u001b[1;32m     37\u001b[0m segments \u001b[38;5;241m=\u001b[39m \u001b[38;5;28mself\u001b[39m\u001b[38;5;241m.\u001b[39m_get_segments(\n\u001b[1;32m     38\u001b[0m     audio_path,\n\u001b[1;32m     39\u001b[0m     input_format,\n\u001b[0;32m   (...)\u001b[0m\n\u001b[1;32m     42\u001b[0m     sample_proportion,\n\u001b[1;32m     43\u001b[0m )\n\u001b[0;32m---> 44\u001b[0m \u001b[38;5;28mself\u001b[39m\u001b[38;5;241m.\u001b[39m_write_segments(\n\u001b[1;32m     45\u001b[0m     segments, output_dir, output_basename, output_format\n\u001b[1;32m     46\u001b[0m )\n",
      "File \u001b[0;32m/mnt/y/CODES/track_classifier/inda_mir/audio_processing/sample_operation.py:77\u001b[0m, in \u001b[0;36mSampleOperation._write_segments\u001b[0;34m(self, segments, output_dir, output_basename, output_format)\u001b[0m\n\u001b[1;32m     69\u001b[0m \u001b[38;5;28;01mdef\u001b[39;00m \u001b[38;5;21m_write_segments\u001b[39m(\n\u001b[1;32m     70\u001b[0m     \u001b[38;5;28mself\u001b[39m,\n\u001b[1;32m     71\u001b[0m     segments: List[AudioSegment],\n\u001b[0;32m   (...)\u001b[0m\n\u001b[1;32m     74\u001b[0m     output_format: \u001b[38;5;28mstr\u001b[39m,\n\u001b[1;32m     75\u001b[0m ):\n\u001b[1;32m     76\u001b[0m     \u001b[38;5;28;01mfor\u001b[39;00m i \u001b[38;5;129;01min\u001b[39;00m \u001b[38;5;28mrange\u001b[39m(\u001b[38;5;241m0\u001b[39m, \u001b[38;5;28mlen\u001b[39m(segments)):\n\u001b[0;32m---> 77\u001b[0m         segments[i]\u001b[38;5;241m.\u001b[39mexport(\n\u001b[1;32m     78\u001b[0m             os\u001b[38;5;241m.\u001b[39mpath\u001b[38;5;241m.\u001b[39mjoin(\n\u001b[1;32m     79\u001b[0m                 output_dir, \u001b[38;5;124mf\u001b[39m\u001b[38;5;124m'\u001b[39m\u001b[38;5;132;01m{\u001b[39;00moutput_basename\u001b[38;5;132;01m}\u001b[39;00m\u001b[38;5;124m_\u001b[39m\u001b[38;5;132;01m{\u001b[39;00mi\u001b[38;5;132;01m}\u001b[39;00m\u001b[38;5;124m.\u001b[39m\u001b[38;5;132;01m{\u001b[39;00moutput_format\u001b[38;5;132;01m}\u001b[39;00m\u001b[38;5;124m'\u001b[39m\n\u001b[1;32m     80\u001b[0m             ),\n\u001b[1;32m     81\u001b[0m             \u001b[38;5;28mformat\u001b[39m\u001b[38;5;241m=\u001b[39moutput_format,\n\u001b[1;32m     82\u001b[0m         )\n",
      "File \u001b[0;32m~/anaconda3/lib/python3.11/site-packages/pydub/audio_segment.py:964\u001b[0m, in \u001b[0;36mAudioSegment.export\u001b[0;34m(self, out_f, format, codec, bitrate, parameters, tags, id3v2_version, cover)\u001b[0m\n\u001b[1;32m    962\u001b[0m \u001b[38;5;28;01mwith\u001b[39;00m \u001b[38;5;28mopen\u001b[39m(os\u001b[38;5;241m.\u001b[39mdevnull, \u001b[38;5;124m'\u001b[39m\u001b[38;5;124mrb\u001b[39m\u001b[38;5;124m'\u001b[39m) \u001b[38;5;28;01mas\u001b[39;00m devnull:\n\u001b[1;32m    963\u001b[0m     p \u001b[38;5;241m=\u001b[39m subprocess\u001b[38;5;241m.\u001b[39mPopen(conversion_command, stdin\u001b[38;5;241m=\u001b[39mdevnull, stdout\u001b[38;5;241m=\u001b[39msubprocess\u001b[38;5;241m.\u001b[39mPIPE, stderr\u001b[38;5;241m=\u001b[39msubprocess\u001b[38;5;241m.\u001b[39mPIPE)\n\u001b[0;32m--> 964\u001b[0m p_out, p_err \u001b[38;5;241m=\u001b[39m p\u001b[38;5;241m.\u001b[39mcommunicate()\n\u001b[1;32m    966\u001b[0m log_subprocess_output(p_out)\n\u001b[1;32m    967\u001b[0m log_subprocess_output(p_err)\n",
      "File \u001b[0;32m~/anaconda3/lib/python3.11/subprocess.py:1209\u001b[0m, in \u001b[0;36mPopen.communicate\u001b[0;34m(self, input, timeout)\u001b[0m\n\u001b[1;32m   1206\u001b[0m     endtime \u001b[38;5;241m=\u001b[39m \u001b[38;5;28;01mNone\u001b[39;00m\n\u001b[1;32m   1208\u001b[0m \u001b[38;5;28;01mtry\u001b[39;00m:\n\u001b[0;32m-> 1209\u001b[0m     stdout, stderr \u001b[38;5;241m=\u001b[39m \u001b[38;5;28mself\u001b[39m\u001b[38;5;241m.\u001b[39m_communicate(\u001b[38;5;28minput\u001b[39m, endtime, timeout)\n\u001b[1;32m   1210\u001b[0m \u001b[38;5;28;01mexcept\u001b[39;00m \u001b[38;5;167;01mKeyboardInterrupt\u001b[39;00m:\n\u001b[1;32m   1211\u001b[0m     \u001b[38;5;66;03m# https://bugs.python.org/issue25942\u001b[39;00m\n\u001b[1;32m   1212\u001b[0m     \u001b[38;5;66;03m# See the detailed comment in .wait().\u001b[39;00m\n\u001b[1;32m   1213\u001b[0m     \u001b[38;5;28;01mif\u001b[39;00m timeout \u001b[38;5;129;01mis\u001b[39;00m \u001b[38;5;129;01mnot\u001b[39;00m \u001b[38;5;28;01mNone\u001b[39;00m:\n",
      "File \u001b[0;32m~/anaconda3/lib/python3.11/subprocess.py:2108\u001b[0m, in \u001b[0;36mPopen._communicate\u001b[0;34m(self, input, endtime, orig_timeout)\u001b[0m\n\u001b[1;32m   2101\u001b[0m     \u001b[38;5;28mself\u001b[39m\u001b[38;5;241m.\u001b[39m_check_timeout(endtime, orig_timeout,\n\u001b[1;32m   2102\u001b[0m                         stdout, stderr,\n\u001b[1;32m   2103\u001b[0m                         skip_check_and_raise\u001b[38;5;241m=\u001b[39m\u001b[38;5;28;01mTrue\u001b[39;00m)\n\u001b[1;32m   2104\u001b[0m     \u001b[38;5;28;01mraise\u001b[39;00m \u001b[38;5;167;01mRuntimeError\u001b[39;00m(  \u001b[38;5;66;03m# Impossible :)\u001b[39;00m\n\u001b[1;32m   2105\u001b[0m         \u001b[38;5;124m'\u001b[39m\u001b[38;5;124m_check_timeout(..., skip_check_and_raise=True) \u001b[39m\u001b[38;5;124m'\u001b[39m\n\u001b[1;32m   2106\u001b[0m         \u001b[38;5;124m'\u001b[39m\u001b[38;5;124mfailed to raise TimeoutExpired.\u001b[39m\u001b[38;5;124m'\u001b[39m)\n\u001b[0;32m-> 2108\u001b[0m ready \u001b[38;5;241m=\u001b[39m selector\u001b[38;5;241m.\u001b[39mselect(timeout)\n\u001b[1;32m   2109\u001b[0m \u001b[38;5;28mself\u001b[39m\u001b[38;5;241m.\u001b[39m_check_timeout(endtime, orig_timeout, stdout, stderr)\n\u001b[1;32m   2111\u001b[0m \u001b[38;5;66;03m# XXX Rewrite these to use non-blocking I/O on the file\u001b[39;00m\n\u001b[1;32m   2112\u001b[0m \u001b[38;5;66;03m# objects; they are no longer using C stdio!\u001b[39;00m\n",
      "File \u001b[0;32m~/anaconda3/lib/python3.11/selectors.py:415\u001b[0m, in \u001b[0;36m_PollLikeSelector.select\u001b[0;34m(self, timeout)\u001b[0m\n\u001b[1;32m    413\u001b[0m ready \u001b[38;5;241m=\u001b[39m []\n\u001b[1;32m    414\u001b[0m \u001b[38;5;28;01mtry\u001b[39;00m:\n\u001b[0;32m--> 415\u001b[0m     fd_event_list \u001b[38;5;241m=\u001b[39m \u001b[38;5;28mself\u001b[39m\u001b[38;5;241m.\u001b[39m_selector\u001b[38;5;241m.\u001b[39mpoll(timeout)\n\u001b[1;32m    416\u001b[0m \u001b[38;5;28;01mexcept\u001b[39;00m \u001b[38;5;167;01mInterruptedError\u001b[39;00m:\n\u001b[1;32m    417\u001b[0m     \u001b[38;5;28;01mreturn\u001b[39;00m ready\n",
      "\u001b[0;31mKeyboardInterrupt\u001b[0m: "
     ]
    }
   ],
   "source": [
    "# %%capture\n",
    "get_predictions(train_metadata, classifier, os.path.join(misd_path, 'train.csv'))"
   ]
  },
  {
   "cell_type": "code",
   "execution_count": null,
   "metadata": {},
   "outputs": [
    {
     "data": {
      "text/plain": [
       "prediction\n",
       "silence    80\n",
       "Name: count, dtype: int64"
      ]
     },
     "execution_count": 61,
     "metadata": {},
     "output_type": "execute_result"
    }
   ],
   "source": [
    "test_metadata.prediction.value_counts()"
   ]
  }
 ],
 "metadata": {
  "kernelspec": {
   "display_name": "Python 3 (ipykernel)",
   "language": "python",
   "name": "python3"
  },
  "language_info": {
   "codemirror_mode": {
    "name": "ipython",
    "version": 3
   },
   "file_extension": ".py",
   "mimetype": "text/x-python",
   "name": "python",
   "nbconvert_exporter": "python",
   "pygments_lexer": "ipython3",
   "version": "3.11.7"
  }
 },
 "nbformat": 4,
 "nbformat_minor": 2
}
