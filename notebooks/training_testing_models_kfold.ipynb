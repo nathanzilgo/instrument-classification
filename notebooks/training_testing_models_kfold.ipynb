{
 "cells": [
  {
   "cell_type": "code",
   "execution_count": 1,
   "metadata": {},
   "outputs": [],
   "source": [
    "from inda_mir.modeling.models import *\n",
    "from inda_mir.modeling.evaluation import *\n",
    "from inda_mir.loaders import load_kfold_partition\n",
    "\n",
    "import statistics"
   ]
  },
  {
   "cell_type": "code",
   "execution_count": null,
   "metadata": {},
   "outputs": [],
   "source": [
    "kfold_partition_path = \"INSERT YOUR K-FOLD PARTITION PATH HERE.\""
   ]
  },
  {
   "cell_type": "code",
   "execution_count": 2,
   "metadata": {},
   "outputs": [],
   "source": [
    "datalist = load_kfold_partition(kfold_partition_path)"
   ]
  },
  {
   "cell_type": "code",
   "execution_count": 11,
   "metadata": {},
   "outputs": [
    {
     "name": "stdout",
     "output_type": "stream",
     "text": [
      "0.8965502177455553\n",
      "0.8965502177455553\n",
      "0.9065898881929185\n",
      "0.8959926163712288\n",
      "0.05193148248407011\n",
      "0.05193148248407011\n",
      "0.04454242031136497\n",
      "0.051304567904920946\n"
     ]
    }
   ],
   "source": [
    "scores = cross_val_score(RandomForestClassifier(), datalist)\n",
    "\n",
    "print(statistics.mean(scores['accuracy']))\n",
    "print(statistics.mean(scores['recall']))\n",
    "print(statistics.mean(scores['precision']))\n",
    "print(statistics.mean(scores['f1']))\n",
    "\n",
    "print(statistics.stdev(scores['accuracy']))\n",
    "print(statistics.stdev(scores['recall']))\n",
    "print(statistics.stdev(scores['precision']))\n",
    "print(statistics.stdev(scores['f1']))"
   ]
  },
  {
   "cell_type": "code",
   "execution_count": 3,
   "metadata": {},
   "outputs": [
    {
     "name": "stdout",
     "output_type": "stream",
     "text": [
      "0.9139826254965906\n",
      "0.9139826254965906\n",
      "0.9220385277122257\n",
      "0.9132115904913355\n",
      "0.039451019884133375\n",
      "0.039451019884133375\n",
      "0.03480302832084039\n",
      "0.040384202978325824\n"
     ]
    }
   ],
   "source": [
    "scores = cross_val_score(XGBClassifier(), datalist)\n",
    "\n",
    "print(statistics.mean(scores['accuracy']))\n",
    "print(statistics.mean(scores['recall']))\n",
    "print(statistics.mean(scores['precision']))\n",
    "print(statistics.mean(scores['f1']))\n",
    "\n",
    "print(statistics.stdev(scores['accuracy']))\n",
    "print(statistics.stdev(scores['recall']))\n",
    "print(statistics.stdev(scores['precision']))\n",
    "print(statistics.stdev(scores['f1']))"
   ]
  }
 ],
 "metadata": {
  "kernelspec": {
   "display_name": ".venv",
   "language": "python",
   "name": "python3"
  },
  "language_info": {
   "codemirror_mode": {
    "name": "ipython",
    "version": 3
   },
   "file_extension": ".py",
   "mimetype": "text/x-python",
   "name": "python",
   "nbconvert_exporter": "python",
   "pygments_lexer": "ipython3",
   "version": "3.11.5"
  },
  "orig_nbformat": 4
 },
 "nbformat": 4,
 "nbformat_minor": 2
}
